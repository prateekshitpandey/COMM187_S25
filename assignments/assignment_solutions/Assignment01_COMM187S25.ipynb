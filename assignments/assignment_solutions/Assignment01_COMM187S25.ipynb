{
 "cells": [
  {
   "cell_type": "code",
   "execution_count": null,
   "metadata": {
    "deletable": false,
    "editable": false
   },
   "outputs": [],
   "source": [
    "# Initialize Otter\n",
    "import otter\n",
    "grader = otter.Notebook(\"Assignment01_COMM187S25.ipynb\")"
   ]
  },
  {
   "cell_type": "markdown",
   "metadata": {},
   "source": [
    "# COMM 187 S25 Coding Assignment #1"
   ]
  },
  {
   "cell_type": "markdown",
   "metadata": {},
   "source": [
    "<span style=\"color:red\">**!!! PLEASE MAKE SURE TO RUN THE FIRST CELL ABOVE WHICH SAYS \"# Initialize Otter\" BEFORE RUNNING AUTO-GRADER !!!**</span>"
   ]
  },
  {
   "cell_type": "markdown",
   "metadata": {
    "deletable": false,
    "editable": false
   },
   "source": [
    "### Question 1\n",
    "\n",
    "**A. (0.25 point)** \n",
    "\n",
    "A communication researcher is analyzing the time spent by one individual on *Instagram*. They collected data on the time spent (in minutes) on Instagram for 7 consecutive days. The times spent on each day are stored in variables `ig_day_01` through `ig_day_07`, as shown below.\n",
    "\n",
    "Create a Python **list** that contains all seven daily Instagram usage times in sequence from day 1 to day 7. Store this list in a new variable called `ig_list`. Remember that in Python, lists are created using square brackets `[ ]` with items separated by commas."
   ]
  },
  {
   "cell_type": "code",
   "execution_count": 39,
   "metadata": {
    "tags": [
     "otter_assign_solution_cell"
    ]
   },
   "outputs": [],
   "source": [
    "ig_day_01 = 120\n",
    "ig_day_02 = 110\n",
    "ig_day_03 = 15\n",
    "ig_day_04 = 130\n",
    "ig_day_05 = 135\n",
    "ig_day_06 = 100\n",
    "ig_day_07 = 120\n",
    "\n",
    "### Write your code below (in place of ...)\n",
    "# BEGIN SOLUTION\n",
    "ig_list = [ig_day_01, ig_day_02, ig_day_03, ig_day_04, ig_day_05, ig_day_06, ig_day_07]\n",
    "# END SOLUTION"
   ]
  },
  {
   "cell_type": "code",
   "execution_count": null,
   "metadata": {
    "deletable": false,
    "editable": false
   },
   "outputs": [],
   "source": [
    "grader.check(\"q1a\")"
   ]
  },
  {
   "cell_type": "markdown",
   "metadata": {
    "deletable": false,
    "editable": false
   },
   "source": [
    "**B. (0.25 point)** \n",
    "\n",
    "Immediately following the 7 consecutive days, the communication researcher continues to observe the same individual's Instagram usage for four more days (days 8 through day 11).\n",
    "\n",
    "The data collected shows:\n",
    "- Day 8: 90 minutes\n",
    "- Day 9: 190 minutes\n",
    "- Day 10: 145 minutes\n",
    "- Day 11: 30 minutes\n",
    "\n",
    "Create a new list containing just these four new daily values in sequence (day 8 through day 11). Store this list in a variable called `ig_list_later`."
   ]
  },
  {
   "cell_type": "code",
   "execution_count": 44,
   "metadata": {
    "tags": [
     "otter_assign_solution_cell"
    ]
   },
   "outputs": [],
   "source": [
    "### Write your code below (in place of ...)\n",
    "ig_list_later = [90, 190, 145, 30] # SOLUTION"
   ]
  },
  {
   "cell_type": "code",
   "execution_count": null,
   "metadata": {
    "deletable": false,
    "editable": false
   },
   "outputs": [],
   "source": [
    "grader.check(\"q1b\")"
   ]
  },
  {
   "cell_type": "markdown",
   "metadata": {
    "deletable": false,
    "editable": false
   },
   "source": [
    "**C. (0.5 point)** \n",
    "\n",
    "Now combine the two lists you created (`ig_list` and `ig_list_later`) to make a single list containing all Instagram usage data from day 1 through day 11 in sequence.\n",
    "\n",
    "Store your result in a new variable called `ig_list_updated`.\n",
    "\n",
    "**Important:** Use Python's list operations to combine `ig_list` and `ig_list_later` rather than manually typing out all the numbers again. This programming approach allows you to automatically update the combined list whenever the original lists change."
   ]
  },
  {
   "cell_type": "code",
   "execution_count": 47,
   "metadata": {
    "tags": [
     "otter_assign_solution_cell"
    ]
   },
   "outputs": [],
   "source": [
    "### Write your code below (in place of ...)\n",
    "ig_list_updated = ig_list + ig_list_later # SOLUTION"
   ]
  },
  {
   "cell_type": "code",
   "execution_count": null,
   "metadata": {
    "deletable": false,
    "editable": false
   },
   "outputs": [],
   "source": [
    "grader.check(\"q1c\")"
   ]
  },
  {
   "cell_type": "markdown",
   "metadata": {
    "deletable": false,
    "editable": false
   },
   "source": [
    "**D. (0.5 point)** \n",
    "\n",
    "A new researcher needs only the data from days 2 through 9 (inclusive of day 9).\n",
    "\n",
    "Create a new variable called `ig_list_subset` containing just this portion of the data from your `ig_list_updated` variable.\n",
    "\n",
    "**Important:** \n",
    "- Use Python's indexing on `ig_list_updated` rather than typing the numbers manually\n",
    "- Remember that in Python, list indexing starts at 0 (so day 1 is at index 0, day 2 is at index 1, etc.)\n",
    "- In list slicing in Python, the notation is `list[start:stop]` where the start index is included but the stop index is excluded"
   ]
  },
  {
   "cell_type": "code",
   "execution_count": 70,
   "metadata": {
    "tags": [
     "otter_assign_solution_cell"
    ]
   },
   "outputs": [],
   "source": [
    "### Write your code below (in place of ...)\n",
    "ig_list_subset = ig_list_updated[1:9] # SOLUTION"
   ]
  },
  {
   "cell_type": "code",
   "execution_count": null,
   "metadata": {
    "deletable": false,
    "editable": false
   },
   "outputs": [],
   "source": [
    "grader.check(\"q1d\")"
   ]
  },
  {
   "cell_type": "markdown",
   "metadata": {
    "deletable": false,
    "editable": false
   },
   "source": [
    "### Question 2\n",
    "\n",
    "**A. (0.5 point)**\n",
    "\n",
    "You have data on the number of texts sent by **Ace** to his friends **Buck** and **Chip** in a given week.\n",
    "\n",
    "Ace's texts to Buck:\n",
    " - Sunday: 10 texts\n",
    " - Monday: 3 texts\n",
    " - Tuesday: 3 texts\n",
    " - Wednesday: 47 texts\n",
    " - Thursday: 5 texts\n",
    " - Friday: 0 texts\n",
    " - Saturday: 1 text\n",
    "\n",
    "Ace's texts to Chip:\n",
    " - Sunday: 1 text\n",
    " - Monday: 5 texts\n",
    " - Tuesday: 0 texts\n",
    " - Wednesday: 4 texts\n",
    " - Thursday: 52 texts\n",
    " - Friday: 21 texts\n",
    " - Saturday: 10 texts\n",
    "\n",
    "Create the following:\n",
    "1. A numpy array called `buck` with the number of texts from Ace to Buck in sequence from Sunday to Saturday\n",
    "2. A numpy array called `chip` with the number of texts from Ace to Chip in sequence from Sunday to Saturday"
   ]
  },
  {
   "cell_type": "code",
   "execution_count": 59,
   "metadata": {
    "tags": [
     "otter_assign_solution_cell"
    ]
   },
   "outputs": [],
   "source": [
    "import numpy as np\n",
    "\n",
    "### Write your code below (in place of ...)\n",
    "buck = np.array([10, 3, 3, 47, 5, 0, 1]) # SOLUTION\n",
    "chip = np.array([1, 5, 0, 4, 52, 21, 10]) # SOLUTION"
   ]
  },
  {
   "cell_type": "code",
   "execution_count": null,
   "metadata": {
    "deletable": false,
    "editable": false
   },
   "outputs": [],
   "source": [
    "grader.check(\"q2a\")"
   ]
  },
  {
   "cell_type": "markdown",
   "metadata": {
    "deletable": false,
    "editable": false
   },
   "source": [
    "**B. (0.5 point)** \n",
    "\n",
    "Turns out that Ace texted a third friend, **Domingo**, this week:\n",
    "\n",
    "Ace's texts to Domingo:\n",
    "- Sunday: 0 texts\n",
    "- Monday: 0 texts\n",
    "- Tuesday: 92 texts\n",
    "- Wednesday: 0 texts\n",
    "- Thursday: 1 text\n",
    "- Friday: 0 texts\n",
    "- Saturday: 2 texts\n",
    "\n",
    "Complete these tasks:\n",
    "1. Create a numpy array called `domingo` with the number of texts from Ace to Domingo in sequence from Sunday to Saturday\n",
    "2. Calculate the total texts sent by Ace each day by adding the arrays for all three friends (Buck, Chip, and Domingo)\n",
    "3. Store this total in a numpy array called `ace_total`\n",
    "\n",
    "Note: You can use the `buck` and `chip` arrays you created in part A."
   ]
  },
  {
   "cell_type": "code",
   "execution_count": 56,
   "metadata": {
    "tags": [
     "otter_assign_solution_cell"
    ]
   },
   "outputs": [],
   "source": [
    "### Write your code below (in place of ...)\n",
    "domingo = np.array([0, 0, 92, 0, 1, 0, 2]) # SOLUTION\n",
    "ace_total = buck + chip + domingo # SOLUTION"
   ]
  },
  {
   "cell_type": "code",
   "execution_count": null,
   "metadata": {
    "deletable": false,
    "editable": false
   },
   "outputs": [],
   "source": [
    "grader.check(\"q2b\")"
   ]
  },
  {
   "cell_type": "markdown",
   "metadata": {
    "deletable": false,
    "editable": false
   },
   "source": [
    "### Question 3\n",
    "\n",
    "You are conducting digital marketing research for a beauty brand that is advertising on Instagram. \n",
    "\n",
    "**Consumer Query Response Time (CQRT)** is the average number of minutes that this brand takes to respond to consumer queries in Instagram DMs. \n",
    "\n",
    "You have data on their daily CQRT for the past 120 days, stored in the variable `brand_cqrt`.\n",
    "\n",
    "**A. (0.5 point)**\n",
    "\n",
    "Using the NumPy function `np.mean()`, calculate the **mean (average) CQRT** for this brand across all 120 days. \\\n",
    "Store this result in a new variable called `brand_cqrt_mean`."
   ]
  },
  {
   "cell_type": "code",
   "execution_count": 60,
   "metadata": {
    "tags": [
     "otter_assign_solution_cell"
    ]
   },
   "outputs": [],
   "source": [
    "brand_cqrt = np.array([ 74,  67,  16,  56,  40,  49,  12, 113,  57, 104, 110, 102,  54,\n",
    "                       70,  53, 101, 109,  22,  46,  21,  37,  12,  67,  15, 109,  25,\n",
    "                       72, 115,  80,   6, 100,  19, 115, 100,  71,  17, 110,  56,  93,\n",
    "                       46,  21,  94,  98,  39,  12,   5, 101, 104,  18,  77,  42,  91, \n",
    "                       101, 110,  45,  85,  61,  88,  31,  58,  71,  37,   9,  46,  24,\n",
    "                       1, 100,  75,  73,  13,   1,  13,  92,  71,  66,  82,  17,  21, \n",
    "                       92,  80,   6,  92,  94,  81, 105, 103, 105,  56,  44,  28,  10, \n",
    "                       80, 111,  85,   4, 103, 107, 105,  74,  78,  86,  56,  49,  28, \n",
    "                       105,  37,  99,  30, 100,  34,  61,   2,  21,  60,  35,  72,  60, 38,  31,  18])\n",
    "\n",
    "### Write your code below (in place of ...)\n",
    "brand_cqrt_mean = np.mean(brand_cqrt) # SOLUTION"
   ]
  },
  {
   "cell_type": "code",
   "execution_count": null,
   "metadata": {
    "deletable": false,
    "editable": false
   },
   "outputs": [],
   "source": [
    "grader.check(\"q3a\")"
   ]
  },
  {
   "cell_type": "markdown",
   "metadata": {
    "deletable": false,
    "editable": false
   },
   "source": [
    "**B. (0.5 point)**\n",
    "\n",
    "Using the NumPy function `np.median()`, calculate the **median CQRT** for this brand in the past 120 days.\n",
    "\n",
    "Store this result in a new variable called `brand_cqrt_median`.\n",
    "\n",
    "Note: While the mean gives you the average value, the median gives you the middle value when all response times are arranged in order (and is less affected by extreme values)."
   ]
  },
  {
   "cell_type": "code",
   "execution_count": 64,
   "metadata": {
    "tags": [
     "otter_assign_solution_cell"
    ]
   },
   "outputs": [],
   "source": [
    "### Write your code below (in place of ...)\n",
    "brand_cqrt_median = np.median(brand_cqrt) # SOLUTION"
   ]
  },
  {
   "cell_type": "code",
   "execution_count": null,
   "metadata": {
    "deletable": false,
    "editable": false
   },
   "outputs": [],
   "source": [
    "grader.check(\"q3b\")"
   ]
  },
  {
   "cell_type": "markdown",
   "metadata": {
    "deletable": false,
    "editable": false
   },
   "source": [
    "**C. (0.5 point)**\n",
    "\n",
    "You also have data on the number of consumers the brand interacted with on Instagram for each of the past 120 days, stored in the variable `brand_consumers`.\n",
    "\n",
    "To find the total time spent on customer interactions each day:\n",
    "\n",
    " - Calculate the total minutes spent by multiplying the number of consumers each day (`brand_consumers`) by the average response time for that day (`brand_cqrt`)\n",
    " - Store this result in a new variable called `brand_total_minutes`\n",
    "\n",
    "Note: This multiplication works because if the brand spent an average of X minutes per consumer on a given day and interacted with Y consumers that day, then the total time spent was X times Y minutes."
   ]
  },
  {
   "cell_type": "code",
   "execution_count": 67,
   "metadata": {
    "tags": [
     "otter_assign_solution_cell"
    ]
   },
   "outputs": [],
   "source": [
    "brand_consumers = np.array([45, 20, 16, 42, 33, 13, 29, 33, 15, 22, 14, 46, 24, 32, 15, 12, 48, \n",
    "                            35, 12, 42, 24, 34, 45, 36, 23, 41, 25, 45, 36, 14, 20, 19, 39, 33,\n",
    "                            53, 42, 22, 45, 24, 52, 12, 30, 10, 34, 10, 45, 43, 34, 29, 12, 42,\n",
    "                            30, 21, 33, 38, 10, 42, 25, 50, 32, 17, 35, 35, 36, 27, 24, 15, 18,\n",
    "                            49, 45, 32, 43, 53, 32, 46, 52, 22, 12, 32, 43, 16, 39, 26, 33, 11,\n",
    "                            22, 42, 53, 38, 35, 19, 44, 41, 34, 36, 46, 29, 40, 13, 23, 51, 28,\n",
    "                            31, 18, 28, 10, 12, 11, 48, 43, 47, 43, 53, 41, 15, 33, 37, 36, 42, 18])\n",
    "\n",
    "### Write your code below (in place of ...)\n",
    "brand_total_minutes = brand_consumers*brand_cqrt # SOLUTION"
   ]
  },
  {
   "cell_type": "code",
   "execution_count": null,
   "metadata": {
    "deletable": false,
    "editable": false
   },
   "outputs": [],
   "source": [
    "grader.check(\"q3c\")"
   ]
  },
  {
   "cell_type": "markdown",
   "metadata": {
    "deletable": false,
    "editable": false
   },
   "source": [
    "## Submission\n",
    "\n",
    "Make sure you have run all cells in your notebook in order before running the cell below, so that all images/graphs appear in the output. The cell below will generate a zip file for you to submit. **Please save before exporting!**\n",
    "\n",
    "Week #2 Coding Assignment for COMM187: Data Science in Communication Research. Once finished answering questions, first **SAVE** then download this .ipynb file. Submit the file as instructed on Canvas and Gradescope. **ONLY** submit the .ipynb file, NOT the pdf."
   ]
  },
  {
   "cell_type": "code",
   "execution_count": null,
   "metadata": {
    "deletable": false,
    "editable": false
   },
   "outputs": [],
   "source": [
    "# Save your notebook first, then run this cell to export your submission.\n",
    "grader.export(pdf=False, run_tests=True)"
   ]
  },
  {
   "cell_type": "markdown",
   "metadata": {},
   "source": [
    " "
   ]
  }
 ],
 "metadata": {
  "kernelspec": {
   "display_name": "Python 3 (ipykernel)",
   "language": "python",
   "name": "python3"
  },
  "language_info": {
   "codemirror_mode": {
    "name": "ipython",
    "version": 3
   },
   "file_extension": ".py",
   "mimetype": "text/x-python",
   "name": "python",
   "nbconvert_exporter": "python",
   "pygments_lexer": "ipython3",
   "version": "3.12.9"
  },
  "otter": {
   "OK_FORMAT": true,
   "tests": {
    "q1a": {
     "name": "q1a",
     "points": 0.25,
     "suites": [
      {
       "cases": [
        {
         "code": ">>> len(ig_list) == 7\nTrue",
         "hidden": false,
         "locked": false
        },
        {
         "code": ">>> ig_list == [120, 110, 15, 130, 135, 100, 120]\nTrue",
         "hidden": false,
         "locked": false
        }
       ],
       "scored": true,
       "setup": "",
       "teardown": "",
       "type": "doctest"
      }
     ]
    },
    "q1b": {
     "name": "q1b",
     "points": 0.25,
     "suites": [
      {
       "cases": [
        {
         "code": ">>> len(ig_list_later) == 4\nTrue",
         "hidden": false,
         "locked": false
        },
        {
         "code": ">>> ig_list_later == [90, 190, 145, 30]\nTrue",
         "hidden": false,
         "locked": false
        }
       ],
       "scored": true,
       "setup": "",
       "teardown": "",
       "type": "doctest"
      }
     ]
    },
    "q1c": {
     "name": "q1c",
     "points": 0.5,
     "suites": [
      {
       "cases": [
        {
         "code": ">>> len(ig_list_updated) == 11\nTrue",
         "hidden": false,
         "locked": false
        },
        {
         "code": ">>> ig_list_updated == [120, 110, 15, 130, 135, 100, 120, 90, 190, 145, 30]\nTrue",
         "hidden": false,
         "locked": false
        }
       ],
       "scored": true,
       "setup": "",
       "teardown": "",
       "type": "doctest"
      }
     ]
    },
    "q1d": {
     "name": "q1d",
     "points": 0.5,
     "suites": [
      {
       "cases": [
        {
         "code": ">>> len(ig_list_subset) == 8\nTrue",
         "hidden": false,
         "locked": false
        },
        {
         "code": ">>> ig_list_subset == [110, 15, 130, 135, 100, 120, 90, 190]\nTrue",
         "hidden": false,
         "locked": false
        }
       ],
       "scored": true,
       "setup": "",
       "teardown": "",
       "type": "doctest"
      }
     ]
    },
    "q2a": {
     "name": "q2a",
     "points": 0.5,
     "suites": [
      {
       "cases": [
        {
         "code": ">>> np.array_equal(buck, np.array([10, 3, 3, 47, 5, 0, 1]))\nTrue",
         "hidden": false,
         "locked": false
        },
        {
         "code": ">>> np.array_equal(chip, np.array([1, 5, 0, 4, 52, 21, 10]))\nTrue",
         "hidden": false,
         "locked": false
        }
       ],
       "scored": true,
       "setup": "",
       "teardown": "",
       "type": "doctest"
      }
     ]
    },
    "q2b": {
     "name": "q2b",
     "points": 0.5,
     "suites": [
      {
       "cases": [
        {
         "code": ">>> np.array_equal(domingo, np.array([0, 0, 92, 0, 1, 0, 2]))\nTrue",
         "hidden": false,
         "locked": false
        },
        {
         "code": ">>> np.array_equal(ace_total, np.array([11, 8, 95, 51, 58, 21, 13]))\nTrue",
         "hidden": false,
         "locked": false
        }
       ],
       "scored": true,
       "setup": "",
       "teardown": "",
       "type": "doctest"
      }
     ]
    },
    "q3a": {
     "name": "q3a",
     "points": 0.5,
     "suites": [
      {
       "cases": [
        {
         "code": ">>> bool(brand_cqrt_mean == 60.825)\nTrue",
         "hidden": false,
         "locked": false
        },
        {
         "code": ">>> bool(brand_cqrt_mean - 60.825 < 0.0001)\nTrue",
         "hidden": false,
         "locked": false
        }
       ],
       "scored": true,
       "setup": "",
       "teardown": "",
       "type": "doctest"
      }
     ]
    },
    "q3b": {
     "name": "q3b",
     "points": 0.5,
     "suites": [
      {
       "cases": [
        {
         "code": ">>> bool(brand_cqrt_median == 61)\nTrue",
         "hidden": false,
         "locked": false
        },
        {
         "code": ">>> bool(brand_cqrt_median - 61 < 0.0001)\nTrue",
         "hidden": false,
         "locked": false
        }
       ],
       "scored": true,
       "setup": "",
       "teardown": "",
       "type": "doctest"
      }
     ]
    },
    "q3c": {
     "name": "q3c",
     "points": 0.5,
     "suites": [
      {
       "cases": [
        {
         "code": ">>> bool(np.all(brand_total_minutes == np.array([3330, 1340, 256, 2352, 1320, 637, 348, 3729, 855, 2288, 1540, 4692, 1296, 2240, 795, 1212, 5232, 770, 552, 882, 888, 408, 3015, 540, 2507, 1025, 1800, 5175, 2880, 84, 2000, 361, 4485, 3300, 3763, 714, 2420, 2520, 2232, 2392, 252, 2820, 980, 1326, 120, 225, 4343, 3536, 522, 924, 1764, 2730, 2121, 3630, 1710, 850, 2562, 2200, 1550, 1856, 1207, 1295, 315, 1656, 648, 24, 1500, 1350, 3577, 585, 32, 559, 4876, 2272, 3036, 4264, 374, 252, 2944, 3440, 96, 3588, 2444, 2673, 1155, 2266, 4410, 2968, 1672, 980, 190, 3520, 4551, 2890, 144, 4738, 3103, 4200, 962, 1794, 4386, 1568, 1519, 504, 2940, 370, 1188, 330, 4800, 1462, 2867, 86, 1113, 2460, 525, 2376, 2220, 1368, 1302, 324])))\nTrue",
         "hidden": false,
         "locked": false
        },
        {
         "code": ">>> len(brand_total_minutes) == 120\nTrue",
         "hidden": false,
         "locked": false
        }
       ],
       "scored": true,
       "setup": "",
       "teardown": "",
       "type": "doctest"
      }
     ]
    }
   }
  },
  "varInspector": {
   "cols": {
    "lenName": 16,
    "lenType": 16,
    "lenVar": 40
   },
   "kernels_config": {
    "python": {
     "delete_cmd_postfix": "",
     "delete_cmd_prefix": "del ",
     "library": "var_list.py",
     "varRefreshCmd": "print(var_dic_list())"
    },
    "r": {
     "delete_cmd_postfix": ") ",
     "delete_cmd_prefix": "rm(",
     "library": "var_list.r",
     "varRefreshCmd": "cat(var_dic_list()) "
    }
   },
   "types_to_exclude": [
    "module",
    "function",
    "builtin_function_or_method",
    "instance",
    "_Feature"
   ],
   "window_display": false
  }
 },
 "nbformat": 4,
 "nbformat_minor": 4
}
