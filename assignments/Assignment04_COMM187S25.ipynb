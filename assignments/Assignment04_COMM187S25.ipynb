{
 "cells": [
  {
   "cell_type": "code",
   "execution_count": null,
   "metadata": {
    "deletable": false,
    "editable": false
   },
   "outputs": [],
   "source": [
    "# Initialize Otter\n",
    "import otter\n",
    "grader = otter.Notebook(\"Assignment04_COMM187S25.ipynb\")"
   ]
  },
  {
   "cell_type": "markdown",
   "metadata": {},
   "source": [
    "# COMM 187 S25 Coding Assignment #4"
   ]
  },
  {
   "cell_type": "markdown",
   "metadata": {},
   "source": [
    "<span style=\"color:red\">**!!! PLEASE MAKE SURE TO RUN THE FIRST CELL ABOVE WHICH SAYS \"# Initialize Otter\" BEFORE RUNNING AUTO-GRADER !!!**</span>"
   ]
  },
  {
   "attachments": {},
   "cell_type": "markdown",
   "metadata": {},
   "source": [
    "## <center>TWEETS BY US SENATORS (2008-17)</center>\n",
    "\n",
    "![](./imgs/A3_introimg.png)\n",
    "\n",
    "The dataset for this assignment is about the favorites (likes), replies, and retweets on tweets made by US Senators between 2008 and 2017, as recorded on Oct. 19 and 20, 2017. This dataset was collected and analyzed for the following [blog post by FiveThirtyEight](https://fivethirtyeight.com/features/the-worst-tweeter-in-politics-isnt-trump/), and you can read more information about dataset [here](https://github.com/fivethirtyeight/data/tree/master/twitter-ratio/).\n",
    "\n",
    "The original dataset for this article contains over 288 thousand rows. Unlike last week, this week you have beeen provided with a reduced dataset of randomly selected **forty thousand rows**, which is stored in the \"data\" subfolder and is named **`senators_40k.csv`**. It contains the following columns:\n",
    "\n",
    "\n",
    "Header | Definition\n",
    "--- | ---\n",
    "`created_at` | Date and time of the creation of the tweet in the format \"mm/dd/yy hh:mm\"\n",
    "`text` | The text content of the tweet\n",
    "`url` | URL of the tweet\n",
    "`replies` | Number of replies for the tweet when data was collected\n",
    "`retweets` | Number of retweets for the tweet when data was collected\n",
    "`favorites` | Number of favorites (or likes) for the tweet when data was collected\n",
    "`user` | Twitter username of the US Senator\n",
    "`bioguide_id` | Unique ID for each US Senator\n",
    "`party` | Party identification for each US Senator: 'D' for Democrat, 'R' for Republican, and 'I' for Independent\n",
    "`state` | The state being represented by the US Senator\n",
    "\n",
    "---"
   ]
  },
  {
   "cell_type": "code",
   "execution_count": null,
   "metadata": {},
   "outputs": [],
   "source": [
    "# RUN THIS CELL BEFORE ATTEMPTING THE ASSIGNMENT QUESTIONS\n",
    "import numpy as np\n",
    "import pandas as pd\n",
    "from scipy import stats\n",
    "\n",
    "df = pd.read_csv(\"./data/senators_40k.csv\")"
   ]
  },
  {
   "cell_type": "markdown",
   "metadata": {},
   "source": [
    "---"
   ]
  },
  {
   "cell_type": "markdown",
   "metadata": {
    "deletable": false,
    "editable": false
   },
   "source": [
    "## Question 1: Remove tweets with 0 favorites (1 point)\n",
    "\n",
    "Remove rows from `df` with 0 favorites and store the resulting dataframe in `df_filtered`.\n",
    "\n",
    "Steps:\n",
    " - Identify row indices for which the `favorites` column does not have value 0. You can do this by using the `!=` operator, which means \"not equal to\". \n",
    " - Use these indices to extract rows with `favorites` not equal to 0 and store it in a new variable `df_filtered`.\n",
    " - You have done similar filtering in previous exercises, including the hackathon! You got this."
   ]
  },
  {
   "cell_type": "code",
   "execution_count": null,
   "metadata": {
    "tags": [
     "otter_answer_cell"
    ]
   },
   "outputs": [],
   "source": [
    "### Write your code below (in place of ...)\n",
    "df_filtered = ..."
   ]
  },
  {
   "cell_type": "code",
   "execution_count": null,
   "metadata": {
    "deletable": false,
    "editable": false
   },
   "outputs": [],
   "source": [
    "grader.check(\"q1\")"
   ]
  },
  {
   "cell_type": "markdown",
   "metadata": {},
   "source": [
    "---"
   ]
  },
  {
   "cell_type": "markdown",
   "metadata": {
    "deletable": false,
    "editable": false
   },
   "source": [
    "## Question 2: Create a new column `ratio` in `df_filtered` (1 point)\n",
    "\n",
    "As you might be aware, **\"ratio\"** on social media refers to the ratio of *replies or comments* to *likes* (as defined [here](https://www.howtogeek.com/721651/what-does-ratio-mean-on-social-media/)). On Twitter, a ratio could mean the ratio of either repliess or retweets to favorites. For this question, we will define \"ratio\" as the ratio of replies to favorites.\n",
    "\n",
    "It has been observed that high ratio of replies to likes suggests that a post is unpopular or controversial. The reasoning seems to be that if more people are choosing to reply or comment instead of liking the post, they did so to express their disapproval.\n",
    "\n",
    "Make a new column in `df_filtered` called `ratio` which is calculated by dividing the value in `replies` by the value in `favorites` for each tweet.\n",
    "\n",
    "**Steps:**\n",
    "- Make a new variable `ratio` which is the division of `replies` column with `favorites` column.\n",
    "- Make a new column called `ratio` in `df_filtered`, and assign it the value of the variable `ratio`. You might get a warning for this, ignore it.\n",
    "- Notice that the name of the new column as well as the new variable are the same -- `ratio`. Notice the difference, and avoid any confusion!"
   ]
  },
  {
   "cell_type": "code",
   "execution_count": null,
   "metadata": {
    "tags": [
     "otter_answer_cell"
    ]
   },
   "outputs": [],
   "source": [
    "### Write your code below (in place of ...)\n",
    "..."
   ]
  },
  {
   "cell_type": "code",
   "execution_count": null,
   "metadata": {
    "deletable": false,
    "editable": false
   },
   "outputs": [],
   "source": [
    "grader.check(\"q2\")"
   ]
  },
  {
   "cell_type": "markdown",
   "metadata": {},
   "source": [
    "---"
   ]
  },
  {
   "cell_type": "markdown",
   "metadata": {
    "deletable": false,
    "editable": false
   },
   "source": [
    "## Question 3: Identify the most ratio'ed tweet in `df_filtered` (1 point)\n",
    "\n",
    "Identify the most ratio'ed tweet in `df_filtered` and store it in `most_ratioed`.\n",
    "\n",
    "**Steps:**\n",
    "- Use the `.idxmax()` method to identify the index of the maximum value in the `ratio` column and store it in a new variable `max_ratio_index`. This is a new method which we have not covered in class. It is very simple to use, and you are fully capable to use it based on this documentation. Try it, and if you need any help, reach out to your group or post on the Discussion Board.\n",
    "- Extract the tweet text for this index using `.loc[max_ratio_index, 'text']` and store it in `most_ratioed`.\n",
    "- Follow these steps and don't simply copy the text of the most ratioed tweet here. If you do, it will be identified later and points will be deducted."
   ]
  },
  {
   "cell_type": "code",
   "execution_count": null,
   "metadata": {
    "tags": [
     "otter_answer_cell"
    ]
   },
   "outputs": [],
   "source": [
    "### Write your code below (in place of ...)\n",
    "..."
   ]
  },
  {
   "cell_type": "code",
   "execution_count": null,
   "metadata": {
    "deletable": false,
    "editable": false
   },
   "outputs": [],
   "source": [
    "grader.check(\"q3\")"
   ]
  },
  {
   "cell_type": "markdown",
   "metadata": {},
   "source": [
    "---"
   ]
  },
  {
   "cell_type": "markdown",
   "metadata": {
    "deletable": false,
    "editable": false
   },
   "source": [
    "## Question 4: Comparing Ratios on Tweets Across Parties in `df_filtered` (1 point)\n",
    "\n",
    "Compare the ratios across the three parties (stored in the column `party` in `df_filtered` with values **D**, **R**, and **I**) using ANOVA. \\\n",
    "Store the F statistic in `q4_f` and the p-value in `q4_p`.\n",
    "\n",
    "Follow similar steps as in Question 3A from the previous assignment. You are not being provided with a list of explicit steps for this question, but you have had enough practice to make this work. You got this :)"
   ]
  },
  {
   "cell_type": "code",
   "execution_count": null,
   "metadata": {
    "tags": [
     "otter_answer_cell"
    ]
   },
   "outputs": [],
   "source": [
    "### Write your code below (in place of ...)\n",
    "..."
   ]
  },
  {
   "cell_type": "code",
   "execution_count": null,
   "metadata": {
    "deletable": false,
    "editable": false
   },
   "outputs": [],
   "source": [
    "grader.check(\"q4\")"
   ]
  },
  {
   "cell_type": "markdown",
   "metadata": {},
   "source": [
    "---"
   ]
  }
 ],
 "metadata": {
  "kernelspec": {
   "display_name": "Python 3 (ipykernel)",
   "language": "python",
   "name": "python3"
  },
  "language_info": {
   "codemirror_mode": {
    "name": "ipython",
    "version": 3
   },
   "file_extension": ".py",
   "mimetype": "text/x-python",
   "name": "python",
   "nbconvert_exporter": "python",
   "pygments_lexer": "ipython3",
   "version": "3.12.9"
  },
  "otter": {
   "OK_FORMAT": true,
   "tests": {
    "q1": {
     "name": "q1",
     "points": 1,
     "suites": [
      {
       "cases": [
        {
         "code": ">>> df_filtered.shape == (36498, 10)\nTrue",
         "hidden": false,
         "locked": false
        },
        {
         "code": ">>> all(df_filtered == df[df['favorites'] != 0])\nTrue",
         "hidden": false,
         "locked": false
        }
       ],
       "scored": true,
       "setup": "",
       "teardown": "",
       "type": "doctest"
      }
     ]
    },
    "q2": {
     "name": "q2",
     "points": 1,
     "suites": [
      {
       "cases": [
        {
         "code": ">>> all(df_filtered['ratio'] == df_filtered['replies'] / df_filtered['favorites'])\nTrue",
         "hidden": false,
         "locked": false
        }
       ],
       "scored": true,
       "setup": "",
       "teardown": "",
       "type": "doctest"
      }
     ]
    },
    "q3": {
     "name": "q3",
     "points": 1,
     "suites": [
      {
       "cases": [
        {
         "code": ">>> most_ratioed == \"MT @ncmbc Don't forget to register: NC Aerospace Suppliers Conference, August 24. @SenatorBurr will kick off this event http://t.co/9Yc4Yne\"\nTrue",
         "hidden": false,
         "locked": false
        }
       ],
       "scored": true,
       "setup": "",
       "teardown": "",
       "type": "doctest"
      }
     ]
    },
    "q4": {
     "name": "q4",
     "points": 1,
     "suites": [
      {
       "cases": [
        {
         "code": ">>> bool(abs(q4_f - 937.5702574223225 < 0.001))\nTrue",
         "hidden": false,
         "locked": false
        },
        {
         "code": ">>> bool(abs(q4_p - 0 < 0.001))\nTrue",
         "hidden": false,
         "locked": false
        }
       ],
       "scored": true,
       "setup": "",
       "teardown": "",
       "type": "doctest"
      }
     ]
    }
   }
  },
  "varInspector": {
   "cols": {
    "lenName": 16,
    "lenType": 16,
    "lenVar": 40
   },
   "kernels_config": {
    "python": {
     "delete_cmd_postfix": "",
     "delete_cmd_prefix": "del ",
     "library": "var_list.py",
     "varRefreshCmd": "print(var_dic_list())"
    },
    "r": {
     "delete_cmd_postfix": ") ",
     "delete_cmd_prefix": "rm(",
     "library": "var_list.r",
     "varRefreshCmd": "cat(var_dic_list()) "
    }
   },
   "types_to_exclude": [
    "module",
    "function",
    "builtin_function_or_method",
    "instance",
    "_Feature"
   ],
   "window_display": false
  }
 },
 "nbformat": 4,
 "nbformat_minor": 4
}
