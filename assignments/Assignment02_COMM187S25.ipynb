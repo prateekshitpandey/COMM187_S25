{
 "cells": [
  {
   "cell_type": "code",
   "execution_count": null,
   "metadata": {
    "deletable": false,
    "editable": false
   },
   "outputs": [],
   "source": [
    "# Initialize Otter\n",
    "import otter\n",
    "grader = otter.Notebook(\"Assignment02_COMM187S25.ipynb\")"
   ]
  },
  {
   "cell_type": "markdown",
   "metadata": {},
   "source": [
    "# COMM 187 S25 Coding Assignment #2"
   ]
  },
  {
   "cell_type": "markdown",
   "metadata": {},
   "source": [
    "<span style=\"color:red\">**!!! PLEASE MAKE SURE TO RUN THE FIRST CELL ABOVE WHICH SAYS \"# Initialize Otter\" BEFORE RUNNING AUTO-GRADER !!!**</span>"
   ]
  },
  {
   "cell_type": "markdown",
   "metadata": {
    "deletable": false,
    "editable": false
   },
   "source": [
    "### Question 1\n",
    "\n",
    "Consider the following Python dictionary `productdata`, with product names as its keys, and its values are dictionaries that contain more information about the product.\n",
    "\n",
    "#### A. (0.5 point)\n",
    "\n",
    "Add a new product \"T-shirt\" with the following information to the dictionary `productdata`:\n",
    " - brand: Goodfellows\n",
    " - product_type: Clothing\n",
    " - price: 22.99\n",
    "\n",
    "To do so, add a new key:value pair to `productdata`, where key is \"T-shirt\" and value is a dictionary with the product information."
   ]
  },
  {
   "cell_type": "code",
   "execution_count": null,
   "metadata": {
    "tags": [
     "otter_answer_cell"
    ]
   },
   "outputs": [],
   "source": [
    "productdata = {\"Wireless Headphones\": {\"brand\": \"SoundCore\", \"product_type\": \"Electronics\", \"price\": 149.99},\n",
    "               \"Coffee Maker\": {\"brand\": \"BrewMaster\", \"product_type\": \"Kitchen Appliance\", \"price\": 89.95},\n",
    "               \"Running Shoes\": {\"brand\": \"Velocity\", \"product_type\": \"Footwear\", \"price\": 129.50},\n",
    "               \"Organic Shampoo\": {\"brand\": \"NaturalBliss\", \"product_type\": \"Personal Care\", \"price\": 18.75},\n",
    "               \"Desk Lamp\": {\"brand\": \"LuminaHome\", \"product_type\": \"Home Décor\", \"price\": 45.25},\n",
    "               \"Protein Powder\": {\"brand\": \"FitFuel\", \"product_type\": \"Nutrition\", \"price\": 32.99}}\n",
    "\n",
    "### Write your code below (in place of ...)\n",
    "..."
   ]
  },
  {
   "cell_type": "code",
   "execution_count": null,
   "metadata": {
    "deletable": false,
    "editable": false
   },
   "outputs": [],
   "source": [
    "grader.check(\"q1a\")"
   ]
  },
  {
   "cell_type": "markdown",
   "metadata": {
    "deletable": false,
    "editable": false
   },
   "source": [
    "#### B. (0.25 point)\n",
    "\n",
    "Convert `productdata` to a pandas DataFrame `productdf`. It should look like this:\n",
    "\n",
    "![](./imgs/A2_Q1B_img.png)\n",
    "\n",
    "**Tip:** Simply use the DataFrame function in pandas to convert the Python dictionary to a pandas DataFrame. "
   ]
  },
  {
   "cell_type": "code",
   "execution_count": null,
   "metadata": {
    "tags": [
     "otter_answer_cell"
    ]
   },
   "outputs": [],
   "source": [
    "import pandas as pd\n",
    "### Write your code below (in place of ...)\n",
    "productdf = ..."
   ]
  },
  {
   "cell_type": "code",
   "execution_count": null,
   "metadata": {
    "deletable": false,
    "editable": false
   },
   "outputs": [],
   "source": [
    "grader.check(\"q1b\")"
   ]
  },
  {
   "cell_type": "markdown",
   "metadata": {
    "deletable": false,
    "editable": false
   },
   "source": [
    "### Question 2\n",
    "\n",
    "#### A. (0.5 point)\n",
    "\n",
    "Load the CSV file named `recent-grads-mod.csv` from the `data` folder and store it in a variable called `grads_df`. \\\n",
    "Use the function `pd.read_csv` as described in this week's coding lab and Datacamp module.\n",
    "\n",
    "Context: This dataset is a modified version of the data behind [this article](https://fivethirtyeight.com/features/the-economic-guide-to-picking-a-college-major/). This data shows the earnings of Americans with different college majors from a survey conducted in 2014."
   ]
  },
  {
   "cell_type": "code",
   "execution_count": null,
   "metadata": {
    "tags": [
     "otter_answer_cell"
    ]
   },
   "outputs": [],
   "source": [
    "### Write your code below (in place of ...)\n",
    "grads_df = ..."
   ]
  },
  {
   "cell_type": "code",
   "execution_count": null,
   "metadata": {
    "deletable": false,
    "editable": false
   },
   "outputs": [],
   "source": [
    "grader.check(\"q2a\")"
   ]
  },
  {
   "cell_type": "markdown",
   "metadata": {
    "deletable": false,
    "editable": false
   },
   "source": [
    "#### B. (0.5 point)\n",
    "\n",
    "Use `.iloc()` to select the rows corresponding the majors \"COMMUNICATION\" (at index 92) and \"MASS MEDIA\" (at index 124) and store it in a new pandas DataFrame `comm_media`."
   ]
  },
  {
   "cell_type": "code",
   "execution_count": null,
   "metadata": {
    "tags": [
     "otter_answer_cell"
    ]
   },
   "outputs": [],
   "source": [
    "### Write your code below (in place of ...)\n",
    "comm_media = ..."
   ]
  },
  {
   "cell_type": "code",
   "execution_count": null,
   "metadata": {
    "deletable": false,
    "editable": false
   },
   "outputs": [],
   "source": [
    "grader.check(\"q2b\")"
   ]
  },
  {
   "cell_type": "markdown",
   "metadata": {
    "deletable": false,
    "editable": false
   },
   "source": [
    "#### C. (0.25 point)\n",
    "\n",
    "Extract the `Total` column as a pandas Series and store it in a variable called `total`."
   ]
  },
  {
   "cell_type": "code",
   "execution_count": null,
   "metadata": {
    "tags": [
     "otter_answer_cell"
    ]
   },
   "outputs": [],
   "source": [
    "### Write your code below (in place of ...)\n",
    "total = ..."
   ]
  },
  {
   "cell_type": "code",
   "execution_count": null,
   "metadata": {
    "deletable": false,
    "editable": false
   },
   "outputs": [],
   "source": [
    "grader.check(\"q2c\")"
   ]
  },
  {
   "cell_type": "markdown",
   "metadata": {
    "deletable": false,
    "editable": false
   },
   "source": [
    "#### D. (0.5 point)\n",
    "\n",
    "Create a boolean pandas Series called `total_greater_than_5k` that contains `True` for each value in the Series `total` that is greater than five thousand, and `False` for all other values."
   ]
  },
  {
   "cell_type": "code",
   "execution_count": null,
   "metadata": {
    "tags": [
     "otter_answer_cell"
    ]
   },
   "outputs": [],
   "source": [
    "### Write your code below (in place of ...)\n",
    "total_greater_than_5k = ..."
   ]
  },
  {
   "cell_type": "code",
   "execution_count": null,
   "metadata": {
    "deletable": false,
    "editable": false
   },
   "outputs": [],
   "source": [
    "grader.check(\"q2d\")"
   ]
  },
  {
   "cell_type": "markdown",
   "metadata": {
    "deletable": false,
    "editable": false
   },
   "source": [
    "#### E. (0.5 point)\n",
    "\n",
    "Make a new pandas DataFrame called `grads_df_large` with the data for only those majors for which the total number of majors were greater than five thousand. \n",
    "\n",
    "Steps:\n",
    " - Use the boolean Series `total_greater_than_5k` to subset the `grads_df` DataFrame.\n",
    " - Store the resulting selection in `grads_df_large`."
   ]
  },
  {
   "cell_type": "code",
   "execution_count": null,
   "metadata": {
    "tags": [
     "otter_answer_cell"
    ]
   },
   "outputs": [],
   "source": [
    "### Write your code below (in place of ...)\n",
    "grades_df_large = ..."
   ]
  },
  {
   "cell_type": "code",
   "execution_count": null,
   "metadata": {
    "deletable": false,
    "editable": false
   },
   "outputs": [],
   "source": [
    "grader.check(\"q2e\")"
   ]
  },
  {
   "cell_type": "markdown",
   "metadata": {
    "deletable": false,
    "editable": false
   },
   "source": [
    "#### F. (1 point)\n",
    "\n",
    "Make a new pandas DataFrame called `grads_df_parttime_20k` with the data for only those majors for which the number of partime workers, which is stored in the column `Part_time`, is greater than or equal to 20 thousand. \n",
    "\n",
    "Follow the steps similar to the ones used in the Question 2 C through E:\n",
    " - Extract the `Part_time` column as a pandas Series and store it in a variable called `parttime`.\n",
    " - Create a boolean pandas Series called `parttime_greater_than_20k` that contains `True` for each value in the Series `parttime` that is greater than or equal to 20,000, and `False` for all other values.\n",
    " - Use the boolean Series `parttime_greater_than_20k` to subset the `grads_df` DataFrame.\n",
    " - Store the resulting selection in `grads_df_parttime_20k`. This is the only variable that will be checked for accuracy by the autograder."
   ]
  },
  {
   "cell_type": "code",
   "execution_count": null,
   "metadata": {
    "tags": [
     "otter_answer_cell"
    ]
   },
   "outputs": [],
   "source": [
    "### Write your code below (in place of ...)\n",
    "..."
   ]
  },
  {
   "cell_type": "code",
   "execution_count": null,
   "metadata": {
    "deletable": false,
    "editable": false
   },
   "outputs": [],
   "source": [
    "grader.check(\"q2f\")"
   ]
  }
 ],
 "metadata": {
  "kernelspec": {
   "display_name": "Python 3 (ipykernel)",
   "language": "python",
   "name": "python3"
  },
  "language_info": {
   "codemirror_mode": {
    "name": "ipython",
    "version": 3
   },
   "file_extension": ".py",
   "mimetype": "text/x-python",
   "name": "python",
   "nbconvert_exporter": "python",
   "pygments_lexer": "ipython3",
   "version": "3.12.9"
  },
  "otter": {
   "OK_FORMAT": true,
   "tests": {
    "q1a": {
     "name": "q1a",
     "points": 0.5,
     "suites": [
      {
       "cases": [
        {
         "code": ">>> 'T-shirt' in productdata.keys()\nTrue",
         "hidden": false,
         "locked": false
        },
        {
         "code": ">>> productdata['T-shirt']['brand'] == 'Goodfellows'\nTrue",
         "hidden": false,
         "locked": false
        },
        {
         "code": ">>> productdata['T-shirt']['product_type'] == 'Clothing'\nTrue",
         "hidden": false,
         "locked": false
        },
        {
         "code": ">>> productdata['T-shirt']['price'] == 22.99\nTrue",
         "hidden": false,
         "locked": false
        }
       ],
       "scored": true,
       "setup": "",
       "teardown": "",
       "type": "doctest"
      }
     ]
    },
    "q1b": {
     "name": "q1b",
     "points": 0.25,
     "suites": [
      {
       "cases": [
        {
         "code": ">>> all(productdf == pd.DataFrame(productdata))\nTrue",
         "hidden": false,
         "locked": false
        }
       ],
       "scored": true,
       "setup": "",
       "teardown": "",
       "type": "doctest"
      }
     ]
    },
    "q2a": {
     "name": "q2a",
     "points": 0.5,
     "suites": [
      {
       "cases": [
        {
         "code": ">>> all(grads_df == pd.read_csv('./data/recent-grads-mod.csv'))\nTrue",
         "hidden": false,
         "locked": false
        }
       ],
       "scored": true,
       "setup": "",
       "teardown": "",
       "type": "doctest"
      }
     ]
    },
    "q2b": {
     "name": "q2b",
     "points": 0.5,
     "suites": [
      {
       "cases": [
        {
         "code": ">>> type(comm_media) == pd.core.frame.DataFrame\nTrue",
         "hidden": false,
         "locked": false
        },
        {
         "code": ">>> all(comm_media == grads_df.iloc[[92, 124]])\nTrue",
         "hidden": false,
         "locked": false
        }
       ],
       "scored": true,
       "setup": "",
       "teardown": "",
       "type": "doctest"
      }
     ]
    },
    "q2c": {
     "name": "q2c",
     "points": 0.25,
     "suites": [
      {
       "cases": [
        {
         "code": ">>> type(total) == pd.core.series.Series\nTrue",
         "hidden": false,
         "locked": false
        },
        {
         "code": ">>> all(total == grads_df['Total'])\nTrue",
         "hidden": false,
         "locked": false
        }
       ],
       "scored": true,
       "setup": "",
       "teardown": "",
       "type": "doctest"
      }
     ]
    },
    "q2d": {
     "name": "q2d",
     "points": 0.5,
     "suites": [
      {
       "cases": [
        {
         "code": ">>> type(total_greater_than_5k) == pd.core.series.Series\nTrue",
         "hidden": false,
         "locked": false
        },
        {
         "code": ">>> sum(total_greater_than_5k) == 125\nTrue",
         "hidden": false,
         "locked": false
        },
        {
         "code": ">>> all(total_greater_than_5k == (total > 5000))\nTrue",
         "hidden": false,
         "locked": false
        }
       ],
       "scored": true,
       "setup": "",
       "teardown": "",
       "type": "doctest"
      }
     ]
    },
    "q2e": {
     "name": "q2e",
     "points": 0.5,
     "suites": [
      {
       "cases": [
        {
         "code": ">>> grades_df_large.shape == (125, 21)\nTrue",
         "hidden": false,
         "locked": false
        },
        {
         "code": ">>> all(grades_df_large == grads_df[total_greater_than_5k])\nTrue",
         "hidden": false,
         "locked": false
        }
       ],
       "scored": true,
       "setup": "",
       "teardown": "",
       "type": "doctest"
      }
     ]
    },
    "q2f": {
     "name": "q2f",
     "points": 1,
     "suites": [
      {
       "cases": [
        {
         "code": ">>> grads_df_parttime_20k.shape == (21, 21)\nTrue",
         "hidden": false,
         "locked": false
        },
        {
         "code": ">>> all(grads_df_parttime_20k == grads_df[grads_df['Part_time'] >= 20000])\nTrue",
         "hidden": false,
         "locked": false
        }
       ],
       "scored": true,
       "setup": "",
       "teardown": "",
       "type": "doctest"
      }
     ]
    }
   }
  },
  "varInspector": {
   "cols": {
    "lenName": 16,
    "lenType": 16,
    "lenVar": 40
   },
   "kernels_config": {
    "python": {
     "delete_cmd_postfix": "",
     "delete_cmd_prefix": "del ",
     "library": "var_list.py",
     "varRefreshCmd": "print(var_dic_list())"
    },
    "r": {
     "delete_cmd_postfix": ") ",
     "delete_cmd_prefix": "rm(",
     "library": "var_list.r",
     "varRefreshCmd": "cat(var_dic_list()) "
    }
   },
   "types_to_exclude": [
    "module",
    "function",
    "builtin_function_or_method",
    "instance",
    "_Feature"
   ],
   "window_display": false
  }
 },
 "nbformat": 4,
 "nbformat_minor": 4
}
