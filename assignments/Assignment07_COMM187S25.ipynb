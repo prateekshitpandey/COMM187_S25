{
 "cells": [
  {
   "cell_type": "markdown",
   "metadata": {},
   "source": [
    "# COMM 187 S25 Coding Assignment #7 (not autograded)"
   ]
  },
  {
   "attachments": {},
   "cell_type": "markdown",
   "metadata": {},
   "source": [
    "## <center>THE LEGACY OF <span style=\"color:red\"> REDLINING</span> IN THE US</center>\n",
    "\n",
    "![](./imgs/538RedLiningArticle.png)\n",
    "\n",
    "The dataset for this week's assignment is about the concept of <span style=\"color:red\">redlining</span> in the US.\n",
    "\n",
    "<span style=\"color:red\">**Redlining**</span> is the discriminatory practice of denying services (like mortgages) to residents of certain areas based on racial or ethnic composition, leading to economic and social disparities.\n",
    "\n",
    "The dataset is stored as a csv file in the sub-folder \"data\" by the name \"metro-grades.csv\". \\\n",
    "You can read more about the dataset on its [github repository page](https://github.com/fivethirtyeight/data/tree/master/redlining). I have copied relevant information about the dataset below:\n",
    "\n",
    "This csv file contains 2020 population total estimates by race/ethnicity for combined zones of each redlining grade (from Home Owners' Loan Corporation \\[HOLC\\] maps originally drawn in 1935-40, downloaded from the [Mapping Inequality project](https://dsl.richmond.edu/panorama/redlining/#loc=5/37.8/-97.9&maps=0)) within micro- and metropolitan areas. Also included are population estimates in the surrounding area of each metropolitan area's HOLC map (computed by adding a 10 percent buffer radius to the minimum bounding circle of all zones in that metro area) and [location quotients](https://belonging.berkeley.edu/technical-appendix#footnote34_cnxakh3) (LQs) for each racial/ethnic group and HOLC grade. LQs are small-area measures of segregation that specifically compare one racial/ethnic group’s proportion in a granular geography to their proportion in a larger surrounding geography. An LQ above 1 for a given racial group indicates overrepresentation in that HOLC zone relative to the broader surrounding area, and values below 1 indicate underrepresentation. Only micro- and metropolitan areas with both A- (“best”) and D-rated (“hazardous”) zones in their redlining map are included — 138 of a total 143 metropolitan areas in the data from Mapping Inequality.\n",
    "\n",
    "Header | Definition\n",
    "--- | ---\n",
    "`metro_area` | Official U.S. Census name of micro- or metropolitan area — defined as [\"Core-Based Statistical Areas\"](https://www.census.gov/topics/housing/housing-patterns/about/core-based-statistical-areas.html). The first city and state listed are used as the display name for each micro/metropolitan area in the story (for example, \"Chicago-Naperville-Elgin, IL-IN-WI\" is referred to as \"Chicago, IL\").\n",
    "`holc_grade` | Grade assigned by the Home Owners' Loan Corporation (HOLC). `A`: \"best\" (green). `B`: \"Still Desirable\" (blue). `C`: \"Definitely Declining\" (yellow). `D`: \"Hazardous\" (red).\n",
    "`white_pop` | Estimate of non-Hispanic white population within HOLC zones with a given `holc_grade` in a given `metro_area`. Rounded to the nearest integer.\n",
    "`black_pop` | Estimate of non-Hispanic Black population within HOLC zones with a given `holc_grade` in a given `metro_area`. Rounded to the nearest integer.\n",
    "`hisp_pop` | Estimate of Hispanic/Latino population within HOLC zones with a given `holc_grade` in a given `metro_area`. Rounded to the nearest integer.\n",
    "`asian_pop` | Estimate of non-Hispanic Asian population within HOLC zones with a given `holc_grade` in a given `metro_area`. Rounded to the nearest integer.\n",
    "`other_pop` | Estimate of population in any other racial/ethnic groups within HOLC zones with a given `holc_grade` in a given `metro_area`. Rounded to the nearest integer.\n",
    "`total_pop` | Estimate of total population (across all racial/ethnic groups) within HOLC zones with a given `holc_grade` in a given `metro_area`. Rounded to the nearest integer.\n",
    "`pct_white` | Estimate of the percentage of total population within HOLC zones with a given `holc_grade` in a given `metro_area` that are non-Hispanic white. Represented between 0-100. Rounded to the nearest two decimal places.\n",
    "`pct_black` | Estimate of the percentage of total population within HOLC zones with a given `holc_grade` in a given `metro_area` that are non-Hispanic Black. Represented between 0-100. Rounded to the nearest two decimal places.\n",
    "`pct_hisp` | Estimate of the percentage of total population within HOLC zones with a given `holc_grade` in a given `metro_area` that are Hispanic/Latino. Represented between 0-100. Rounded to the nearest two decimal places.\n",
    "`pct_asian` | Estimate of the percentage of total population within HOLC zones with a given `holc_grade` in a given `metro_area` that are non-Hispanic Asian. Represented between 0-100. Rounded to the nearest two decimal places.\n",
    "`pct_other` | Estimate of the percentage of total population within HOLC zones with a given `holc_grade` in a given `metro_area` in any other racial/ethnic group. Represented between 0-100. Rounded to the nearest two decimal places.\n",
    "`lq_white` | Non-Hispanic white location quotient for a given `holc_grade` and `metro_area`.\n",
    "`lq_black` | Non-Hispanic Black location quotient for a given `holc_grade` and `metro_area`.\n",
    "`lq_hisp` | Hispanic/Latino location quotient for a given `holc_grade` and `metro_area`.\n",
    "`lq_asian` | Non-Hispanic Asian location quotient for a given `holc_grade` and `metro_area`.\n",
    "`lq_other` | All other racial/ethnic groups' location quotient for a given `holc_grade` and `metro_area`.\n",
    "`surr_area_white_pop` | Estimate of non-Hispanic white population within surrounding area of a given `metro_area`'s HOLC zones. Rounded to nearest integer. Repeated for each `holc_grade` for a given `metro_area`.\n",
    "`surr_area_black_pop` | Estimate of non-Hispanic Black population within surrounding area of a given `metro_area`'s HOLC zones. Rounded to nearest integer. Repeated for each `holc_grade` for a given `metro_area`.\n",
    "`surr_area_hisp_pop` | Estimate of Hispanic/Latino population within surrounding area of a given `metro_area`'s HOLC zones. Rounded to nearest integer. Repeated for each `holc_grade` for a given `metro_area`.\n",
    "`surr_area_asian_pop` | Estimate of non-Hispanic Asian population within surrounding area of a given `metro_area`'s HOLC zones. Rounded to nearest integer. Repeated for each `holc_grade` for a given `metro_area`.\n",
    "`surr_area_other_pop` | Estimate of population in any other racial/ethnic groups within surrounding area of a given `metro_area`'s HOLC zones. Rounded to nearest integer. Repeated for each `holc_grade` for a given `metro_area`.\n",
    "`surr_area_total_pop` | Estimate of total population (across all racial/ethnic groups) within surrounding area of a given `metro_area`'s HOLC zones. Rounded to nearest integer. Repeated for each `holc_grade` for a given `metro_area`.\n",
    "`surr_area_pct_white` | Estimate of the percentage of total population within surrounding area of a given `metro_area`'s HOLC zones that are non-Hispanic white. Represented between 0-100. Rounded to the nearest two decimal places. Repeated for each `holc_grade` for a given `metro_area`.\n",
    "`surr_area_pct_black` | Estimate of the percentage of total population within surrounding area of a given `metro_area`'s HOLC zones that are non-Hispanic Black. Represented between 0-100. Rounded to the nearest two decimal places. Repeated for each `holc_grade` for a given `metro_area`.\n",
    "`surr_area_pct_hisp` | Estimate of the percentage of total population within surrounding area of a given `metro_area`'s HOLC zones that are Hispanic/Latino. Represented between 0-100. Rounded to the nearest two decimal places. Repeated for each `holc_grade` for a given `metro_area`.\n",
    "`surr_area_pct_asian` | Estimate of the percentage of total population within surrounding area of a given `metro_area`'s HOLC zones that are non-Hispanic Asian. Represented between 0-100. Rounded to the nearest two decimal places. Repeated for each `holc_grade` for a given `metro_area`.\n",
    "`surr_area_pct_other` | Estimate of the percentage of total population within surrounding area of a given `metro_area`'s HOLC zones in any other racial/ethnic group. Represented between 0-100. Rounded to the nearest two decimal places. Repeated for each `holc_grade` for a given `metro_area`.\n",
    "\n",
    "---"
   ]
  },
  {
   "cell_type": "code",
   "execution_count": null,
   "metadata": {},
   "outputs": [],
   "source": [
    "# RUN THIS CELL BEFORE ATTEMPTING THE ASSIGNMENT QUESTIONS\n",
    "import numpy as np\n",
    "import pandas as pd\n",
    "import matplotlib.pyplot as plt\n",
    "import seaborn as sns\n",
    "\n",
    "df = pd.read_csv(\"./data/metro-grades.csv\")"
   ]
  },
  {
   "cell_type": "markdown",
   "metadata": {},
   "source": [
    "---"
   ]
  },
  {
   "cell_type": "markdown",
   "metadata": {
    "deletable": false,
    "editable": false
   },
   "source": [
    "<!-- BEGIN QUESTION -->\n",
    "\n",
    "## Question 1: Boxplot of Percentage of Black Population in Grade A and D regions\n",
    "\n",
    "Plot a boxplot of percentage of Black population in Grade A and Grade D regions. \n",
    "\n",
    "<span style=\"color:red\">Note that this assignment is NOT autograded. The way to check whether you got the right answer is to match your output image to the one provided below. Your output should look **identical** to the image below:</span>\n",
    "\n",
    "![](./imgs/a07_q1.png)\n",
    "\n",
    "**Steps:**\n",
    " - Subset the dataframe to include data only from Grade A and Grade D regions. Use the `.isin()` method as taught in this week's Coding Lab. Follow the documentation [here](https://pandas.pydata.org/docs/reference/api/pandas.DataFrame.isin.html) for more details.  \n",
    " - Use the `sns.boxplot` function using this subsetted dataset, `x` set to `holc_grade` and `y` set to `pct_black`.\n",
    " - Change the color of the boxplots to \"red\" using the `color` parameter.\n",
    " - Add title, x label, and y label."
   ]
  },
  {
   "cell_type": "code",
   "execution_count": null,
   "metadata": {
    "tags": [
     "otter_answer_cell"
    ]
   },
   "outputs": [],
   "source": [
    "### Write your code below (in place of ...)\n",
    "..."
   ]
  },
  {
   "cell_type": "markdown",
   "metadata": {
    "deletable": false,
    "editable": false
   },
   "source": [
    "<!-- END QUESTION -->\n",
    "\n",
    "---"
   ]
  },
  {
   "cell_type": "markdown",
   "metadata": {
    "deletable": false,
    "editable": false
   },
   "source": [
    "<!-- BEGIN QUESTION -->\n",
    "\n",
    "## Question 2: Boxplot of White population surrounding large California metropolitan areas, for each HOLC grade\n",
    "\n",
    "Plot boxplots of the white population surrounding the following metropolitan areas in California, for each HOLC grade region:\n",
    " - San Jose-Sunnyvale-Santa Clara, CA\n",
    " - Los Angeles-Long Beach-Anaheim, CA\n",
    " - San Francisco-Oakland-Berkeley, CA\n",
    " - San Diego-Chula Vista-Carlsbad, CA\n",
    "\n",
    "The box plots should colored according to the HOLC grades -- green for Grade A, blue for Grade B, orange for Grade C, and red for Grade D. \n",
    "\n",
    "<span style=\"color:red\">Note that this assignment is NOT autograded. The way to check whether you got the right answer is to match your output image to the one provided below. Your output should look **identical** to the image below:</span>\n",
    "\n",
    "![](./imgs/a07_q2.png)\n",
    "\n",
    "**Steps:**\n",
    " - Subset the dataframe to include data only from the metropolitan areas listed above using `.isin()` method.\n",
    " - With this new dataframe, use the `sns.boxplot` function. Figure out what the values of `x`, `y`, and `hue` parameters should be in the `sns.boxplot` function. Try out a few variations. Don't be afraid to make mistakes! Hint: your `x` and `hue` parameters can have the same value.\n",
    " - Set the `palette` parameter to the `holc_colors` dictionary created below. The `palette` parameters tells the computer to assign specific colors to each value in the column assigned to `hue`.\n",
    " - Notice how the image attached does not have any color filling the boxes. Which parameter can you use to make that happen? Look through the [jointplot documentation](https://seaborn.pydata.org/generated/seaborn.jointplot.html) to figure out the answer. \n",
    " - Add title, x label, and y label."
   ]
  },
  {
   "cell_type": "code",
   "execution_count": null,
   "metadata": {
    "tags": [
     "otter_answer_cell"
    ]
   },
   "outputs": [],
   "source": [
    "### Write your code below (in place of ...)\n",
    "holc_colors = {'A': 'green', 'B': 'blue', 'C': 'orange', 'D': 'red'}\n",
    "..."
   ]
  },
  {
   "cell_type": "markdown",
   "metadata": {
    "deletable": false,
    "editable": false
   },
   "source": [
    "<!-- END QUESTION -->\n",
    "\n",
    "---"
   ]
  },
  {
   "cell_type": "markdown",
   "metadata": {
    "deletable": false,
    "editable": false
   },
   "source": [
    "<!-- BEGIN QUESTION -->\n",
    "\n",
    "## Question 3: Visualizing the relationship between Asian population within region and the surrounding regions\n",
    "\n",
    "Similar to last week, plot the scatter plot between of percentage of Asian population within regions and the percentage of Asian population in the surrounding regions. The scatter plot should colored according to the HOLC grades -- green for Grade A, blue for Grade B, orange for Grade C, and red for Grade D. \n",
    "\n",
    "<span style=\"color:red\">Note that this assignment is NOT autograded. The way to check whether you got the right answer is to match your output image to the one provided below. Your output should look **identical** to the image below:</span>\n",
    "\n",
    "![](./imgs/a07_q3.png)\n",
    "\n",
    "**Steps:**\n",
    " - Use `sns.jointplot()` to plot the scatter plot with the appropriate x and y parameters.\n",
    " - Use the `hue` and `palette` parameters the same way you used it in the previous question.\n",
    " - Add a title and x and y labels. Make sure to use the right type of title function! Hint: it is not `plt.title()` :-)"
   ]
  },
  {
   "cell_type": "code",
   "execution_count": null,
   "metadata": {
    "tags": [
     "otter_answer_cell"
    ]
   },
   "outputs": [],
   "source": [
    "### Write your code below (in place of ...)\n",
    "..."
   ]
  },
  {
   "cell_type": "markdown",
   "metadata": {
    "deletable": false,
    "editable": false
   },
   "source": [
    "<!-- END QUESTION -->\n",
    "\n",
    "---"
   ]
  },
  {
   "cell_type": "markdown",
   "metadata": {
    "deletable": false,
    "editable": false
   },
   "source": [
    "<!-- BEGIN QUESTION -->\n",
    "\n",
    "## Question 4: Visualizing the relationship between Hispanic population within region and White population in the surrounding regions with HOLC Grade B\n",
    "\n",
    "Plot the scatter plot between of percentage of Hispanic population within regions and the percentage of White population in the surrounding regions, only for the Grade B regions. \n",
    "\n",
    "<span style=\"color:red\">Note that this assignment is NOT autograded. The way to check whether you got the right answer is to match your output image to the one provided below. Your output should look **identical** to the image below:</span>\n",
    "\n",
    "![](./imgs/a07_q4.png)\n",
    "\n",
    "**Tip:**\n",
    " - You will have to subset `df` such that it only has data for HOLC Grade B in it. \n",
    " - Use the `sns.jointplot()` for this plot, set color to `black`, use appropriate parameter settings (esp. `kind` parameter), and add x and y labels and a title. You have not been provided with detailed steps for this question. Use what you learned from this week's Coding lab and the earlier questions in this assignment! You got this!\n",
    " - If you are struggling with this or any other question, post your question on the discussion board and seek help from your instructors and peers in the class. If you submit a code that AI or a friend helped you write, without fully understanding what it is doing, that's plagiarism."
   ]
  },
  {
   "cell_type": "code",
   "execution_count": null,
   "metadata": {
    "tags": [
     "otter_answer_cell"
    ]
   },
   "outputs": [],
   "source": [
    "### Write your code below (in place of ...)\n",
    "..."
   ]
  },
  {
   "cell_type": "markdown",
   "metadata": {
    "deletable": false,
    "editable": false
   },
   "source": [
    "<!-- END QUESTION -->\n",
    "\n",
    "---"
   ]
  },
  {
   "cell_type": "markdown",
   "metadata": {},
   "source": [
    "## Final Project Dataset Question or Reflection (0 points)\n",
    "\n",
    "On Canvas, under Modules, go to \"Final Project > Final Project -- Datasets\" and identify which dataset your group is working on. \n",
    "\n",
    "Explore the dataset using the link provided as well as the data itself on Jupyterhub. Post a question or reflection about the dataset on the Discussion Board. For example, what seem interesting about the dataset? Do you find anything confusing about it? What are the kind of questions you think you can answer from the dataset and apply to your own life?"
   ]
  }
 ],
 "metadata": {
  "kernelspec": {
   "display_name": "Python 3 (ipykernel)",
   "language": "python",
   "name": "python3"
  },
  "language_info": {
   "codemirror_mode": {
    "name": "ipython",
    "version": 3
   },
   "file_extension": ".py",
   "mimetype": "text/x-python",
   "name": "python",
   "nbconvert_exporter": "python",
   "pygments_lexer": "ipython3",
   "version": "3.12.9"
  },
  "otter": {
   "OK_FORMAT": true,
   "tests": {}
  },
  "varInspector": {
   "cols": {
    "lenName": 16,
    "lenType": 16,
    "lenVar": 40
   },
   "kernels_config": {
    "python": {
     "delete_cmd_postfix": "",
     "delete_cmd_prefix": "del ",
     "library": "var_list.py",
     "varRefreshCmd": "print(var_dic_list())"
    },
    "r": {
     "delete_cmd_postfix": ") ",
     "delete_cmd_prefix": "rm(",
     "library": "var_list.r",
     "varRefreshCmd": "cat(var_dic_list()) "
    }
   },
   "types_to_exclude": [
    "module",
    "function",
    "builtin_function_or_method",
    "instance",
    "_Feature"
   ],
   "window_display": false
  }
 },
 "nbformat": 4,
 "nbformat_minor": 4
}
