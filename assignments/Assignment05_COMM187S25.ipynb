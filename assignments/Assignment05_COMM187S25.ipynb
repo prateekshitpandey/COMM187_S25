{
 "cells": [
  {
   "cell_type": "code",
   "execution_count": null,
   "metadata": {
    "deletable": false,
    "editable": false
   },
   "outputs": [],
   "source": [
    "# Initialize Otter\n",
    "import otter\n",
    "grader = otter.Notebook(\"Assignment05_COMM187S25.ipynb\")"
   ]
  },
  {
   "cell_type": "markdown",
   "metadata": {},
   "source": [
    "# COMM 187 S25 Coding Assignment #5"
   ]
  },
  {
   "cell_type": "markdown",
   "metadata": {},
   "source": [
    "<span style=\"color:red\">**!!! PLEASE MAKE SURE TO RUN THE FIRST CELL ABOVE WHICH SAYS \"# Initialize Otter\" BEFORE RUNNING AUTO-GRADER !!!**</span>"
   ]
  },
  {
   "attachments": {},
   "cell_type": "markdown",
   "metadata": {},
   "source": [
    "## <center>Do Pulitzers Help Newspapers Keep Readers?</center>\n",
    "\n",
    "![](./imgs/A5_introimg.png)\n",
    "\n",
    "The dataset for this assignment is about the number of Pulitzer awards won by top 50 newspapers in the US (as of 2004), and their daily circulation. This dataset was collected and analyzed for the following [blog post by FiveThirtyEight](https://fivethirtyeight.com/features/do-pulitzers-help-newspapers-keep-readers/), and you can read more information about dataset [here](https://github.com/fivethirtyeight/data/tree/master/pulitzer).\n",
    "\n",
    "The dataset is stored in the \"data\" subfolder and is named **`pulitzer-data.csv`**. It contains the following columns:\n",
    "\n",
    "\n",
    "Header | Definition\n",
    "--- | ---\n",
    "`Newspaper` | Name of the newspaper\n",
    "`Daily Circulation, 2004` | Daily circulation average as of 2004\n",
    "`Daily Circulation, 2013` | Daily circulation average as of 2013\n",
    "`Change in Daily Circulation, 2004-2013` | Percentage change in daily circulation average as of 2004 minus 2013\n",
    "`Pulitzer Prize Winners and Finalists, 1990-2003` | Number of Pulitzer award winners and finalists between 1990 and 2003\n",
    "`Pulitzer Prize Winners and Finalists, 2004-2014` | Number of Pulitzer award winners and finalists between 2004 and 2014\n",
    "`Pulitzer Prize Winners and Finalists, 1990-2014` | Number of Pulitzer award winners and finalists between 1990 and 2014\n",
    "---"
   ]
  },
  {
   "cell_type": "code",
   "execution_count": null,
   "metadata": {},
   "outputs": [],
   "source": [
    "# RUN THIS CELL BEFORE ATTEMPTING THE ASSIGNMENT QUESTIONS\n",
    "import numpy as np\n",
    "import pandas as pd\n",
    "from scipy import stats\n",
    "\n",
    "df = pd.read_csv(\"./data/pulitzer-data.csv\")"
   ]
  },
  {
   "cell_type": "markdown",
   "metadata": {},
   "source": [
    "---"
   ]
  },
  {
   "cell_type": "markdown",
   "metadata": {
    "deletable": false,
    "editable": false
   },
   "source": [
    "## Question 1\n",
    "\n",
    "### A. Covariance between the daily circulations in 2004 and 2013 (0.5 point)\n",
    "\n",
    "Calculate the covariance using the `.cov()` method in `pandas` between the daily circulations in 2004 and the daily circulations in 2013, and store it in the variable `q1_cov`.\n",
    "\n",
    "Refer to the Week #4 Coding Lab for help on the `.cov()` method.\n",
    "\n",
    "Note: Do not use the `np.cov()` function from `numpy`. "
   ]
  },
  {
   "cell_type": "code",
   "execution_count": null,
   "metadata": {
    "tags": [
     "otter_answer_cell"
    ]
   },
   "outputs": [],
   "source": [
    "### Write your code below (in place of ...)\n",
    "q1_cov = ..."
   ]
  },
  {
   "cell_type": "code",
   "execution_count": null,
   "metadata": {
    "deletable": false,
    "editable": false
   },
   "outputs": [],
   "source": [
    "grader.check(\"q1a\")"
   ]
  },
  {
   "cell_type": "markdown",
   "metadata": {},
   "source": [
    "---"
   ]
  },
  {
   "cell_type": "markdown",
   "metadata": {
    "deletable": false,
    "editable": false
   },
   "source": [
    "### B. Correlation between the daily circulations in 2004 and 2013 (0.5 point)\n",
    "\n",
    "Calculate the correlation using the `.corr()` method in `pandas` between the daily circulations in 2004 and the daily circulations in 2013, and store it in the variable `q1_corr`.\n",
    "\n",
    "Refer to the Week #4 Coding Lab for help on the `.corr()` method."
   ]
  },
  {
   "cell_type": "code",
   "execution_count": null,
   "metadata": {
    "tags": [
     "otter_answer_cell"
    ]
   },
   "outputs": [],
   "source": [
    "### Write your code below (in place of ...)\n",
    "q1_corr = ..."
   ]
  },
  {
   "cell_type": "code",
   "execution_count": null,
   "metadata": {
    "deletable": false,
    "editable": false
   },
   "outputs": [],
   "source": [
    "grader.check(\"q1b\")"
   ]
  },
  {
   "cell_type": "markdown",
   "metadata": {},
   "source": [
    "---"
   ]
  },
  {
   "cell_type": "markdown",
   "metadata": {
    "deletable": false,
    "editable": false
   },
   "source": [
    "## Question 2: Relation between Pulitzer Prize winners and change in circulation\n",
    "### A: Correlation between number of Pulitzer award winners and finalists (1990 - 2003) and change in circulation (2004 - 2013) (0.5 point)\n",
    "\n",
    "Does the number of Pulitzer prizes acquired by a newspaper during a decade correlate with the changes in circulation of the newspaper in the decade after?\n",
    "\n",
    "Calculate the correlation using the `.corr()` method in `pandas` between the number of Pulitzer award winners and finalists (1990 - 2003) and the percentage change in circulation between 2004 and 2013, and store it in the variable `q2a`."
   ]
  },
  {
   "cell_type": "code",
   "execution_count": null,
   "metadata": {
    "tags": [
     "otter_answer_cell"
    ]
   },
   "outputs": [],
   "source": [
    "### Write your code below (in place of ...)\n",
    "q2a = ..."
   ]
  },
  {
   "cell_type": "code",
   "execution_count": null,
   "metadata": {
    "deletable": false,
    "editable": false
   },
   "outputs": [],
   "source": [
    "grader.check(\"q2a\")"
   ]
  },
  {
   "cell_type": "markdown",
   "metadata": {},
   "source": [
    "---"
   ]
  },
  {
   "cell_type": "markdown",
   "metadata": {
    "deletable": false,
    "editable": false
   },
   "source": [
    "### B: Correlation between number of Pulitzer award winners and finalists (2004 - 2014) and change in circulation (2004 - 2013) (0.5 point)\n",
    "\n",
    "Does the number of Pulitzer prizes acquired by a newspaper during a decade correlate with the changes in circulation of the newspaper in the same decade?\n",
    "\n",
    "Calculate the correlation using the `.corr()` method in `pandas` between the number of Pulitzer award winners and finalists (2004 - 2014) and the percentage change in circulation between 2004 and 2013, and store it in the variable `q2b`."
   ]
  },
  {
   "cell_type": "code",
   "execution_count": null,
   "metadata": {
    "tags": [
     "otter_answer_cell"
    ]
   },
   "outputs": [],
   "source": [
    "### Write your code below (in place of ...)\n",
    "q2b = ..."
   ]
  },
  {
   "cell_type": "code",
   "execution_count": null,
   "metadata": {
    "deletable": false,
    "editable": false
   },
   "outputs": [],
   "source": [
    "grader.check(\"q2b\")"
   ]
  },
  {
   "cell_type": "markdown",
   "metadata": {},
   "source": [
    "---"
   ]
  },
  {
   "cell_type": "markdown",
   "metadata": {
    "deletable": false,
    "editable": false
   },
   "source": [
    "### C: Correlation between number of Pulitzer award winners and finalists (1990 - 2014) and change in circulation (2004 - 2013) (0.5 point)\n",
    "\n",
    "Do the changes in circulation of newspapers in a decade correlate with the number of Pulitzer prizes acquired by a newspaper during that decade as well as the decade before?\n",
    "\n",
    "Calculate the correlation using the `.corr()` method in `pandas` between the number of Pulitzer award winners and finalists (1990 - 2014) and the percentage change in circulation between 2004 and 2013, and store it in the variable `q2c`."
   ]
  },
  {
   "cell_type": "code",
   "execution_count": null,
   "metadata": {
    "tags": [
     "otter_answer_cell"
    ]
   },
   "outputs": [],
   "source": [
    "### Write your code below (in place of ...)\n",
    "q2c = ..."
   ]
  },
  {
   "cell_type": "code",
   "execution_count": null,
   "metadata": {
    "deletable": false,
    "editable": false
   },
   "outputs": [],
   "source": [
    "grader.check(\"q2c\")"
   ]
  },
  {
   "cell_type": "markdown",
   "metadata": {},
   "source": [
    "---"
   ]
  },
  {
   "cell_type": "markdown",
   "metadata": {
    "deletable": false,
    "editable": false
   },
   "source": [
    "## Question 3: Analysis without high circulation newspapers\n",
    "\n",
    "It is possible that correlations observed thus far are skewed, or inflated, because of the high circulation newspapers. High circulation newspapers are typically well resourced, and employ journalists who have high chances of winning the Pulitzer prize. \n",
    "\n",
    "Let's conduct an analysis without the high circulation newspapers, and notice if the correlation changes. \n",
    "\n",
    "**First step (A):** identify the newspapers for which the circulation is high, and make a new dataframe which excludes them.\\\n",
    "**Second step (B):** in this new dataset, calculate the correlation between the number of Pulitzer award winners and finalists (1990 - 2014) and change in circulation (2004 - 2013)\n",
    "\n",
    "### A. Removing high circulation newspapers (1 point)\n",
    "\n",
    "For this exercise, \"high circulation newspapers\" are defined as the ones for which the daily circulation in 2013 was higher than the mean + standard deviation of all circulations in 2013. (Can you think of a reason why we are choosing this definition of \"high circulation newspapers\"? Post your best guess in this week's Discussion Board.)\n",
    "\n",
    "Identify these newspapers, and make a new dataframe `df_filtered` which does not include these high circulation newspapers.\n",
    "\n",
    "**Steps:**\n",
    " - Calcualte the mean of \"Daily Circulation, 2013\" column using `.mean()` method and store it in a new variable `mean_circ_2013`\n",
    " - Calcualte the standard deviation of \"Daily Circulation, 2013\" column using `.std()` method and store it in a new variable `std_circ_2013`\n",
    " - Add the mean and standard deviation and store it in a new variable `mean_plus_std_2013`\n",
    " - Filter `df` to keep rows in which the value in \"Daily Circulation, 2013\" is less than or equal to `mean_plus_std_2013`, and store the result in a new variable `df_filtered` \\\n",
    "   Note: You have done a similar filtering in previous exercises, including Question 1 of Coding Assignment #4! You got this. Piece of cake."
   ]
  },
  {
   "cell_type": "code",
   "execution_count": null,
   "metadata": {
    "tags": [
     "otter_answer_cell"
    ]
   },
   "outputs": [],
   "source": [
    "### Write your code below (in place of ...)\n",
    "..."
   ]
  },
  {
   "cell_type": "code",
   "execution_count": null,
   "metadata": {
    "deletable": false,
    "editable": false
   },
   "outputs": [],
   "source": [
    "grader.check(\"q3a\")"
   ]
  },
  {
   "cell_type": "markdown",
   "metadata": {},
   "source": [
    "---"
   ]
  },
  {
   "cell_type": "markdown",
   "metadata": {
    "deletable": false,
    "editable": false
   },
   "source": [
    "### B. Correlation between the number of Pulitzer award winners and finalists (1990 - 2014) and change in circulation (2004 - 2013) in the newly filtered data (0.5 point)\n",
    "\n",
    "Calculate the correlation using the `.corr()` method in `pandas` between the number of Pulitzer award winners and finalists (1990 - 2014) and the percentage change in circulation between 2004 and 2013 in `df_filtered`, and store it in the variable `q3b`.\n",
    "\n",
    "Remember to use the newly created `df_filtered` and not `df` for this question!"
   ]
  },
  {
   "cell_type": "code",
   "execution_count": null,
   "metadata": {
    "tags": [
     "otter_answer_cell"
    ]
   },
   "outputs": [],
   "source": [
    "### Write your code below (in place of ...)\n",
    "q3b = ..."
   ]
  },
  {
   "cell_type": "code",
   "execution_count": null,
   "metadata": {
    "deletable": false,
    "editable": false
   },
   "outputs": [],
   "source": [
    "grader.check(\"q3b\")"
   ]
  },
  {
   "cell_type": "markdown",
   "metadata": {},
   "source": [
    "---"
   ]
  },
  {
   "cell_type": "markdown",
   "metadata": {},
   "source": [
    "### C. Inference. (0 points)\n",
    "\n",
    "This part is ungraded and just for your own practice. \n",
    "\n",
    "Compare the values of `q2c` and `q3b`. Both of these are correlations between the number of Pulitzer award winners and finalists (1990 - 2014) and change in circulation (2004 - 2013). `q2c` is the correlation when we **include** the high circulation newspapers, and `q3b` is the correlation when we **remove** the high circulation newspapers. \n",
    "\n",
    "Do you notice a difference? By just removing a few high circulation newspapers, what kind of difference are we able to observe in the correlations? What did you infer from this? **Post your inference on this week's Discussion Board.**"
   ]
  }
 ],
 "metadata": {
  "kernelspec": {
   "display_name": "Python 3 (ipykernel)",
   "language": "python",
   "name": "python3"
  },
  "language_info": {
   "codemirror_mode": {
    "name": "ipython",
    "version": 3
   },
   "file_extension": ".py",
   "mimetype": "text/x-python",
   "name": "python",
   "nbconvert_exporter": "python",
   "pygments_lexer": "ipython3",
   "version": "3.12.9"
  },
  "otter": {
   "OK_FORMAT": true,
   "tests": {
    "q1a": {
     "name": "q1a",
     "points": 0.5,
     "suites": [
      {
       "cases": [
        {
         "code": ">>> bool(q1_cov - 161106010846.87592 < 1e-05)\nTrue",
         "hidden": false,
         "locked": false
        }
       ],
       "scored": true,
       "setup": "",
       "teardown": "",
       "type": "doctest"
      }
     ]
    },
    "q1b": {
     "name": "q1b",
     "points": 0.5,
     "suites": [
      {
       "cases": [
        {
         "code": ">>> bool(q1_corr - 0.922249153863201 < 1e-05)\nTrue",
         "hidden": false,
         "locked": false
        }
       ],
       "scored": true,
       "setup": "",
       "teardown": "",
       "type": "doctest"
      }
     ]
    },
    "q2a": {
     "name": "q2a",
     "points": 0.5,
     "suites": [
      {
       "cases": [
        {
         "code": ">>> bool(q2a - 0.2943850085162899 < 1e-05)\nTrue",
         "hidden": false,
         "locked": false
        }
       ],
       "scored": true,
       "setup": "",
       "teardown": "",
       "type": "doctest"
      }
     ]
    },
    "q2b": {
     "name": "q2b",
     "points": 0.5,
     "suites": [
      {
       "cases": [
        {
         "code": ">>> bool(q2b - 0.4025279361189322 < 1e-05)\nTrue",
         "hidden": false,
         "locked": false
        }
       ],
       "scored": true,
       "setup": "",
       "teardown": "",
       "type": "doctest"
      }
     ]
    },
    "q2c": {
     "name": "q2c",
     "points": 0.5,
     "suites": [
      {
       "cases": [
        {
         "code": ">>> bool(q2c - 0.3523112737213655 < 1e-05)\nTrue",
         "hidden": false,
         "locked": false
        }
       ],
       "scored": true,
       "setup": "",
       "teardown": "",
       "type": "doctest"
      }
     ]
    },
    "q3a": {
     "name": "q3a",
     "points": 1,
     "suites": [
      {
       "cases": [
        {
         "code": ">>> df_filtered.shape == (47, 7)\nTrue",
         "hidden": false,
         "locked": false
        },
        {
         "code": ">>> not any(df_filtered['Newspaper'].isin(['USA Today', 'Wall Street Journal', 'New York Times']))\nTrue",
         "hidden": false,
         "locked": false
        },
        {
         "code": ">>> bool(df_filtered['Daily Circulation, 2013'].max() == 653868)\nTrue",
         "hidden": false,
         "locked": false
        },
        {
         "code": ">>> bool(df_filtered['Daily Circulation, 2004'].max() == 983727)\nTrue",
         "hidden": false,
         "locked": false
        }
       ],
       "scored": true,
       "setup": "",
       "teardown": "",
       "type": "doctest"
      }
     ]
    },
    "q3b": {
     "name": "q3b",
     "points": 0.5,
     "suites": [
      {
       "cases": [
        {
         "code": ">>> bool(q3b - -0.0037546253012713765 < 0.0001)\nTrue",
         "hidden": false,
         "locked": false
        }
       ],
       "scored": true,
       "setup": "",
       "teardown": "",
       "type": "doctest"
      }
     ]
    }
   }
  },
  "varInspector": {
   "cols": {
    "lenName": 16,
    "lenType": 16,
    "lenVar": 40
   },
   "kernels_config": {
    "python": {
     "delete_cmd_postfix": "",
     "delete_cmd_prefix": "del ",
     "library": "var_list.py",
     "varRefreshCmd": "print(var_dic_list())"
    },
    "r": {
     "delete_cmd_postfix": ") ",
     "delete_cmd_prefix": "rm(",
     "library": "var_list.r",
     "varRefreshCmd": "cat(var_dic_list()) "
    }
   },
   "types_to_exclude": [
    "module",
    "function",
    "builtin_function_or_method",
    "instance",
    "_Feature"
   ],
   "window_display": false
  }
 },
 "nbformat": 4,
 "nbformat_minor": 4
}
