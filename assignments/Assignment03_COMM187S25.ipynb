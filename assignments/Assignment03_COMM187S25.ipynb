{
 "cells": [
  {
   "cell_type": "code",
   "execution_count": null,
   "metadata": {
    "deletable": false,
    "editable": false
   },
   "outputs": [],
   "source": [
    "# Initialize Otter\n",
    "import otter\n",
    "grader = otter.Notebook(\"Assignment03_COMM187S25.ipynb\")"
   ]
  },
  {
   "cell_type": "markdown",
   "metadata": {},
   "source": [
    "# COMM 187 S25 Coding Assignment #3"
   ]
  },
  {
   "cell_type": "markdown",
   "metadata": {},
   "source": [
    "<span style=\"color:red\">**!!! PLEASE MAKE SURE TO RUN THE FIRST CELL ABOVE WHICH SAYS \"# Initialize Otter\" BEFORE RUNNING AUTO-GRADER !!!**</span>"
   ]
  },
  {
   "attachments": {},
   "cell_type": "markdown",
   "metadata": {},
   "source": [
    "## <center>TWEETS BY US SENATORS (2008-17)</center>\n",
    "\n",
    "![](./imgs/A3_introimg.png)\n",
    "\n",
    "The dataset for this assignment is about the favorites (likes), replies, and retweets on tweets made by US Senators between 2008 and 2017, as recorded on Oct. 19 and 20, 2017. This dataset was collected and analyzed for the following [blog post by FiveThirtyEight](https://fivethirtyeight.com/features/the-worst-tweeter-in-politics-isnt-trump/), and you can read more information about dataset [here](https://github.com/fivethirtyeight/data/tree/master/twitter-ratio/).\n",
    "\n",
    "The original dataset for this article contains over 288 thousand rows. For the purpose of this assignment, you have beeen provided with a reduced dataset of randomly selected five thousand rows, which is stored in the \"data\" subfolder and is named `senators_tweets.csv`. It contains the following columns:\n",
    "\n",
    "\n",
    "Header | Definition\n",
    "--- | ---\n",
    "`created_at` | Date and time of the creation of the tweet in the format \"mm/dd/yy hh:mm\"\n",
    "`text` | The text content of the tweet\n",
    "`url` | URL of the tweet\n",
    "`replies` | Number of replies for the tweet when data was collected\n",
    "`retweets` | Number of retweets for the tweet when data was collected\n",
    "`favorites` | Number of favorites (or likes) for the tweet when data was collected\n",
    "`user` | Twitter username of the US Senator\n",
    "`bioguide_id` | Unique ID for each US Senator\n",
    "`party` | Party identification for each US Senator: 'D' for Democrat, 'R' for Republican, and 'I' for Independent\n",
    "`state` | The state being represented by the US Senator\n",
    "\n",
    "---"
   ]
  },
  {
   "cell_type": "code",
   "execution_count": null,
   "metadata": {},
   "outputs": [],
   "source": [
    "# RUN THIS CELL BEFORE ATTEMPTING THE ASSIGNMENT QUESTIONS\n",
    "import numpy as np\n",
    "import pandas as pd\n",
    "from scipy import stats"
   ]
  },
  {
   "cell_type": "markdown",
   "metadata": {},
   "source": [
    "---"
   ]
  },
  {
   "cell_type": "markdown",
   "metadata": {
    "deletable": false,
    "editable": false
   },
   "source": [
    "## Question 1: Loading Data (0.25 point)\n",
    "\n",
    "Use the pandas `read_csv` function to load the data `senator_tweets.csv` file into a pandas DataFrame named `df`."
   ]
  },
  {
   "cell_type": "code",
   "execution_count": null,
   "metadata": {
    "tags": [
     "otter_answer_cell"
    ]
   },
   "outputs": [],
   "source": [
    "### Write your code below (in place of ...)\n",
    "df = ..."
   ]
  },
  {
   "cell_type": "code",
   "execution_count": null,
   "metadata": {
    "deletable": false,
    "editable": false
   },
   "outputs": [],
   "source": [
    "grader.check(\"q1\")"
   ]
  },
  {
   "cell_type": "markdown",
   "metadata": {},
   "source": [
    "---"
   ]
  },
  {
   "cell_type": "markdown",
   "metadata": {
    "deletable": false,
    "editable": false
   },
   "source": [
    "## Question 2: Senator Jack Reed's Tweets (1.25 points)\n",
    "\n",
    "Calculate the following for the tweets made by Senator Jack Reed (user ID = \"SenJackReed\"):\n",
    "\n",
    " - Mean number of retweets, store it in `mean_rt_JackReed` **(0.25 point)**\n",
    " - Standard deviation of retweets, using pandas `.std()` method, store it in `std_rt_JackReed` **(0.25 point)**\n",
    " - Median number of replies, store it in `median_replies_JackReed` **(0.25 point)**\n",
    " - Standard deviation of replies, using numpy `np.std()` function, store it in `std_replies_JackReed` **(0.25 point)**\n",
    " - Mean number of favorites, store it in `mean_fav_JackReed` **(0.25 point)**"
   ]
  },
  {
   "cell_type": "code",
   "execution_count": null,
   "metadata": {
    "tags": [
     "otter_answer_cell"
    ]
   },
   "outputs": [],
   "source": [
    "### Write your code below (in place of ...)\n",
    "mean_rt_JackReed = ...\n",
    "std_rt_JackReed = ...\n",
    "median_replies_JackReed = ...\n",
    "std_replies_JackReed = ...\n",
    "mean_fav_JackReed = df[df['user'] == \"SenJackReed\"]['favorites'].mean()"
   ]
  },
  {
   "cell_type": "code",
   "execution_count": null,
   "metadata": {
    "deletable": false,
    "editable": false
   },
   "outputs": [],
   "source": [
    "grader.check(\"q2\")"
   ]
  },
  {
   "cell_type": "markdown",
   "metadata": {},
   "source": [
    "---"
   ]
  },
  {
   "cell_type": "markdown",
   "metadata": {
    "deletable": false,
    "editable": false
   },
   "source": [
    "## Question 3: Comparing Favorites on Tweets Across Parties\n",
    "\n",
    "### A. (1 point)\n",
    "\n",
    "Compare the **favorites** (or *likes*) across the three parties (stored in the column `party` with values **D**, **R**, and **I**) using ANOVA. \\\n",
    "Store the F statistic in `q3a_f` and the p-value in `q3a_p`.\n",
    "\n",
    "**Steps:**\n",
    " - Extract `favorites` column for each party (D, R, and I) and store them in respective variables `D`, `R`, and `I`\n",
    " - Calculate the ANOVA using `stats.f_oneway()` function\n",
    " - **Tip:** by writing `var1, var2 = stats.f_oneway()`, you can store the F statistic in `var1` and p value in `var2`"
   ]
  },
  {
   "cell_type": "code",
   "execution_count": null,
   "metadata": {
    "tags": [
     "otter_answer_cell"
    ]
   },
   "outputs": [],
   "source": [
    "### Write your code below (in place of ...)\n",
    "..."
   ]
  },
  {
   "cell_type": "code",
   "execution_count": null,
   "metadata": {
    "deletable": false,
    "editable": false
   },
   "outputs": [],
   "source": [
    "grader.check(\"q3a\")"
   ]
  },
  {
   "cell_type": "markdown",
   "metadata": {
    "deletable": false,
    "editable": false
   },
   "source": [
    "### B. (0.5 point)\n",
    "\n",
    "Compare the number of **favorites** (or *likes*) between the two major parties (D and R) using t-test. Store the t-statistic in `q3b_t` and the p-value in `q3b_p`.\n",
    "\n",
    "Steps:\n",
    " - Use the variables `D` and `R` defined in the previous question\n",
    " - Calculate t-test using `stats.ttest_ind()` function\n",
    " - **Tip:** by writing `var1, var2 = stats.ttest_ind()`, you can store the T statistic in `var1` and p value in `var2`"
   ]
  },
  {
   "cell_type": "code",
   "execution_count": null,
   "metadata": {
    "tags": [
     "otter_answer_cell"
    ]
   },
   "outputs": [],
   "source": [
    "### Write your code below (in place of ...)\n",
    "..."
   ]
  },
  {
   "cell_type": "code",
   "execution_count": null,
   "metadata": {
    "deletable": false,
    "editable": false
   },
   "outputs": [],
   "source": [
    "grader.check(\"q3b\")"
   ]
  },
  {
   "cell_type": "markdown",
   "metadata": {},
   "source": [
    "---"
   ]
  },
  {
   "cell_type": "markdown",
   "metadata": {
    "deletable": false,
    "editable": false
   },
   "source": [
    "## Question 4: Comparing retweets across states (1 point)\n",
    "\n",
    "Compare the **retweets** across the senators from the following six states using ANOVA:\n",
    " - South Carolina (SC)\n",
    " - Arizona (AR)\n",
    " - Oregon (OR)\n",
    " - Kansas (KS)\n",
    " - New Jersey (NJ)\n",
    " - Delaware (DE)\n",
    "\n",
    "Store the F statistic in `q4_f` and the p-value in `q4_p`. \n",
    "\n",
    "Follow similar steps as in Question 3A. You are not being provided with a list of explicit steps for this question, but you have had enough practice to make this work. You got this :)\n"
   ]
  },
  {
   "cell_type": "code",
   "execution_count": null,
   "metadata": {
    "tags": [
     "otter_answer_cell"
    ]
   },
   "outputs": [],
   "source": [
    "### Write your code below (in place of ...)\n",
    "..."
   ]
  },
  {
   "cell_type": "code",
   "execution_count": null,
   "metadata": {
    "deletable": false,
    "editable": false
   },
   "outputs": [],
   "source": [
    "grader.check(\"q4\")"
   ]
  },
  {
   "cell_type": "markdown",
   "metadata": {},
   "source": [
    "---"
   ]
  }
 ],
 "metadata": {
  "kernelspec": {
   "display_name": "Python 3 (ipykernel)",
   "language": "python",
   "name": "python3"
  },
  "language_info": {
   "codemirror_mode": {
    "name": "ipython",
    "version": 3
   },
   "file_extension": ".py",
   "mimetype": "text/x-python",
   "name": "python",
   "nbconvert_exporter": "python",
   "pygments_lexer": "ipython3",
   "version": "3.12.9"
  },
  "otter": {
   "OK_FORMAT": true,
   "tests": {
    "q1": {
     "name": "q1",
     "points": 0.25,
     "suites": [
      {
       "cases": [
        {
         "code": ">>> all(df == pd.read_csv('./data/senator_tweets.csv'))\nTrue",
         "hidden": false,
         "locked": false
        }
       ],
       "scored": true,
       "setup": "",
       "teardown": "",
       "type": "doctest"
      }
     ]
    },
    "q2": {
     "name": "q2",
     "points": 1.25,
     "suites": [
      {
       "cases": [
        {
         "code": ">>> bool(mean_rt_JackReed == df[df['user'] == 'SenJackReed']['retweets'].mean())\nTrue",
         "hidden": false,
         "locked": false
        },
        {
         "code": ">>> bool(std_rt_JackReed == df[df['user'] == 'SenJackReed']['retweets'].std())\nTrue",
         "hidden": false,
         "locked": false
        },
        {
         "code": ">>> bool(median_replies_JackReed == df[df['user'] == 'SenJackReed']['replies'].median())\nTrue",
         "hidden": false,
         "locked": false
        },
        {
         "code": ">>> bool(std_replies_JackReed == np.std(df[df['user'] == 'SenJackReed']['replies']))\nTrue",
         "hidden": false,
         "locked": false
        },
        {
         "code": ">>> bool(mean_fav_JackReed == df[df['user'] == 'SenJackReed']['favorites'].mean())\nTrue",
         "hidden": false,
         "locked": false
        }
       ],
       "scored": true,
       "setup": "",
       "teardown": "",
       "type": "doctest"
      }
     ]
    },
    "q3a": {
     "name": "q3a",
     "points": 1,
     "suites": [
      {
       "cases": [
        {
         "code": ">>> bool(abs(q3a_f - 12.434260538101874) < 0.0001)\nTrue",
         "hidden": false,
         "locked": false
        },
        {
         "code": ">>> bool(abs(q3a_p - 0) < 1e-05)\nTrue",
         "hidden": false,
         "locked": false
        }
       ],
       "scored": true,
       "setup": "",
       "teardown": "",
       "type": "doctest"
      }
     ]
    },
    "q3b": {
     "name": "q3b",
     "points": 0.5,
     "suites": [
      {
       "cases": [
        {
         "code": ">>> bool(abs(q3b_t - 2.389643559096571) < 0.0001)\nTrue",
         "hidden": false,
         "locked": false
        },
        {
         "code": ">>> bool(abs(q3b_p - 0.016902486599381032) < 0.0001)\nTrue",
         "hidden": false,
         "locked": false
        }
       ],
       "scored": true,
       "setup": "",
       "teardown": "",
       "type": "doctest"
      }
     ]
    },
    "q4": {
     "name": "q4",
     "points": 1,
     "suites": [
      {
       "cases": [
        {
         "code": ">>> bool(abs(q4_f - 1.2590702223944095) < 0.0001)\nTrue",
         "hidden": false,
         "locked": false
        },
        {
         "code": ">>> bool(abs(q4_p - 0.27975665692284135) < 0.0001)\nTrue",
         "hidden": false,
         "locked": false
        }
       ],
       "scored": true,
       "setup": "",
       "teardown": "",
       "type": "doctest"
      }
     ]
    }
   }
  },
  "varInspector": {
   "cols": {
    "lenName": 16,
    "lenType": 16,
    "lenVar": 40
   },
   "kernels_config": {
    "python": {
     "delete_cmd_postfix": "",
     "delete_cmd_prefix": "del ",
     "library": "var_list.py",
     "varRefreshCmd": "print(var_dic_list())"
    },
    "r": {
     "delete_cmd_postfix": ") ",
     "delete_cmd_prefix": "rm(",
     "library": "var_list.r",
     "varRefreshCmd": "cat(var_dic_list()) "
    }
   },
   "types_to_exclude": [
    "module",
    "function",
    "builtin_function_or_method",
    "instance",
    "_Feature"
   ],
   "window_display": false
  }
 },
 "nbformat": 4,
 "nbformat_minor": 4
}
