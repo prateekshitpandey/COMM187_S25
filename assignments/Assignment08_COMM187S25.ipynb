{
 "cells": [
  {
   "cell_type": "markdown",
   "metadata": {},
   "source": [
    "# COMM 187 S25 Coding Assignment #8 (not autograded)"
   ]
  },
  {
   "attachments": {},
   "cell_type": "markdown",
   "metadata": {},
   "source": [
    "## <center>THE LEGACY OF <span style=\"color:red\"> REDLINING</span> IN THE US</center>\n",
    "\n",
    "![](./imgs/538RedLiningArticle.png)\n",
    "\n",
    "The dataset for this week's assignment is about the concept of <span style=\"color:red\">redlining</span> in the US.\n",
    "\n",
    "<span style=\"color:red\">**Redlining**</span> is the discriminatory practice of denying services (like mortgages) to residents of certain areas based on racial or ethnic composition, leading to economic and social disparities.\n",
    "\n",
    "The dataset is stored as a csv file in the sub-folder \"data\" by the name \"metro-grades.csv\". \\\n",
    "You can read more about the dataset on its [github repository page](https://github.com/fivethirtyeight/data/tree/master/redlining). I have copied relevant information about the dataset below:\n",
    "\n",
    "This csv file contains 2020 population total estimates by race/ethnicity for combined zones of each redlining grade (from Home Owners' Loan Corporation \\[HOLC\\] maps originally drawn in 1935-40, downloaded from the [Mapping Inequality project](https://dsl.richmond.edu/panorama/redlining/#loc=5/37.8/-97.9&maps=0)) within micro- and metropolitan areas. Also included are population estimates in the surrounding area of each metropolitan area's HOLC map (computed by adding a 10 percent buffer radius to the minimum bounding circle of all zones in that metro area) and [location quotients](https://belonging.berkeley.edu/technical-appendix#footnote34_cnxakh3) (LQs) for each racial/ethnic group and HOLC grade. LQs are small-area measures of segregation that specifically compare one racial/ethnic group’s proportion in a granular geography to their proportion in a larger surrounding geography. An LQ above 1 for a given racial group indicates overrepresentation in that HOLC zone relative to the broader surrounding area, and values below 1 indicate underrepresentation. Only micro- and metropolitan areas with both A- (“best”) and D-rated (“hazardous”) zones in their redlining map are included — 138 of a total 143 metropolitan areas in the data from Mapping Inequality.\n",
    "\n",
    "Header | Definition\n",
    "--- | ---\n",
    "`metro_area` | Official U.S. Census name of micro- or metropolitan area — defined as [\"Core-Based Statistical Areas\"](https://www.census.gov/topics/housing/housing-patterns/about/core-based-statistical-areas.html). The first city and state listed are used as the display name for each micro/metropolitan area in the story (for example, \"Chicago-Naperville-Elgin, IL-IN-WI\" is referred to as \"Chicago, IL\").\n",
    "`holc_grade` | Grade assigned by the Home Owners' Loan Corporation (HOLC). `A`: \"best\" (green). `B`: \"Still Desirable\" (blue). `C`: \"Definitely Declining\" (yellow). `D`: \"Hazardous\" (red).\n",
    "`white_pop` | Estimate of non-Hispanic white population within HOLC zones with a given `holc_grade` in a given `metro_area`. Rounded to the nearest integer.\n",
    "`black_pop` | Estimate of non-Hispanic Black population within HOLC zones with a given `holc_grade` in a given `metro_area`. Rounded to the nearest integer.\n",
    "`hisp_pop` | Estimate of Hispanic/Latino population within HOLC zones with a given `holc_grade` in a given `metro_area`. Rounded to the nearest integer.\n",
    "`asian_pop` | Estimate of non-Hispanic Asian population within HOLC zones with a given `holc_grade` in a given `metro_area`. Rounded to the nearest integer.\n",
    "`other_pop` | Estimate of population in any other racial/ethnic groups within HOLC zones with a given `holc_grade` in a given `metro_area`. Rounded to the nearest integer.\n",
    "`total_pop` | Estimate of total population (across all racial/ethnic groups) within HOLC zones with a given `holc_grade` in a given `metro_area`. Rounded to the nearest integer.\n",
    "`pct_white` | Estimate of the percentage of total population within HOLC zones with a given `holc_grade` in a given `metro_area` that are non-Hispanic white. Represented between 0-100. Rounded to the nearest two decimal places.\n",
    "`pct_black` | Estimate of the percentage of total population within HOLC zones with a given `holc_grade` in a given `metro_area` that are non-Hispanic Black. Represented between 0-100. Rounded to the nearest two decimal places.\n",
    "`pct_hisp` | Estimate of the percentage of total population within HOLC zones with a given `holc_grade` in a given `metro_area` that are Hispanic/Latino. Represented between 0-100. Rounded to the nearest two decimal places.\n",
    "`pct_asian` | Estimate of the percentage of total population within HOLC zones with a given `holc_grade` in a given `metro_area` that are non-Hispanic Asian. Represented between 0-100. Rounded to the nearest two decimal places.\n",
    "`pct_other` | Estimate of the percentage of total population within HOLC zones with a given `holc_grade` in a given `metro_area` in any other racial/ethnic group. Represented between 0-100. Rounded to the nearest two decimal places.\n",
    "`lq_white` | Non-Hispanic white location quotient for a given `holc_grade` and `metro_area`.\n",
    "`lq_black` | Non-Hispanic Black location quotient for a given `holc_grade` and `metro_area`.\n",
    "`lq_hisp` | Hispanic/Latino location quotient for a given `holc_grade` and `metro_area`.\n",
    "`lq_asian` | Non-Hispanic Asian location quotient for a given `holc_grade` and `metro_area`.\n",
    "`lq_other` | All other racial/ethnic groups' location quotient for a given `holc_grade` and `metro_area`.\n",
    "`surr_area_white_pop` | Estimate of non-Hispanic white population within surrounding area of a given `metro_area`'s HOLC zones. Rounded to nearest integer. Repeated for each `holc_grade` for a given `metro_area`.\n",
    "`surr_area_black_pop` | Estimate of non-Hispanic Black population within surrounding area of a given `metro_area`'s HOLC zones. Rounded to nearest integer. Repeated for each `holc_grade` for a given `metro_area`.\n",
    "`surr_area_hisp_pop` | Estimate of Hispanic/Latino population within surrounding area of a given `metro_area`'s HOLC zones. Rounded to nearest integer. Repeated for each `holc_grade` for a given `metro_area`.\n",
    "`surr_area_asian_pop` | Estimate of non-Hispanic Asian population within surrounding area of a given `metro_area`'s HOLC zones. Rounded to nearest integer. Repeated for each `holc_grade` for a given `metro_area`.\n",
    "`surr_area_other_pop` | Estimate of population in any other racial/ethnic groups within surrounding area of a given `metro_area`'s HOLC zones. Rounded to nearest integer. Repeated for each `holc_grade` for a given `metro_area`.\n",
    "`surr_area_total_pop` | Estimate of total population (across all racial/ethnic groups) within surrounding area of a given `metro_area`'s HOLC zones. Rounded to nearest integer. Repeated for each `holc_grade` for a given `metro_area`.\n",
    "`surr_area_pct_white` | Estimate of the percentage of total population within surrounding area of a given `metro_area`'s HOLC zones that are non-Hispanic white. Represented between 0-100. Rounded to the nearest two decimal places. Repeated for each `holc_grade` for a given `metro_area`.\n",
    "`surr_area_pct_black` | Estimate of the percentage of total population within surrounding area of a given `metro_area`'s HOLC zones that are non-Hispanic Black. Represented between 0-100. Rounded to the nearest two decimal places. Repeated for each `holc_grade` for a given `metro_area`.\n",
    "`surr_area_pct_hisp` | Estimate of the percentage of total population within surrounding area of a given `metro_area`'s HOLC zones that are Hispanic/Latino. Represented between 0-100. Rounded to the nearest two decimal places. Repeated for each `holc_grade` for a given `metro_area`.\n",
    "`surr_area_pct_asian` | Estimate of the percentage of total population within surrounding area of a given `metro_area`'s HOLC zones that are non-Hispanic Asian. Represented between 0-100. Rounded to the nearest two decimal places. Repeated for each `holc_grade` for a given `metro_area`.\n",
    "`surr_area_pct_other` | Estimate of the percentage of total population within surrounding area of a given `metro_area`'s HOLC zones in any other racial/ethnic group. Represented between 0-100. Rounded to the nearest two decimal places. Repeated for each `holc_grade` for a given `metro_area`.\n",
    "\n",
    "---"
   ]
  },
  {
   "cell_type": "code",
   "execution_count": null,
   "metadata": {},
   "outputs": [],
   "source": [
    "# RUN THIS CELL BEFORE ATTEMPTING THE ASSIGNMENT QUESTIONS\n",
    "import numpy as np\n",
    "import pandas as pd\n",
    "import matplotlib.pyplot as plt\n",
    "import seaborn as sns\n",
    "\n",
    "df = pd.read_csv(\"./data/metro-grades-updated.csv\") # NOTICE THAT THIS WEEEK'S DATA IS A DIFFERENT CSV FILE THAN LAST WEEK'S"
   ]
  },
  {
   "cell_type": "markdown",
   "metadata": {},
   "source": [
    "---"
   ]
  },
  {
   "cell_type": "markdown",
   "metadata": {
    "deletable": false,
    "editable": false
   },
   "source": [
    "<!-- BEGIN QUESTION -->\n",
    "\n",
    "## Question 1: Violin plot of Percentage of Black Population in Grade A and D regions (0.5 point)\n",
    "\n",
    "A **violin plot** combines a box plot with a kernel density plot on each side, creating a \"violin\" shape. Like box plots, they show median, quartiles, and range. **The key addition is the width of the violin at any point represents how common that value is in the data - wider sections mean more data points at that value.** This reveals the full distribution shape, showing whether data is bimodal (two peaks), skewed, or has other patterns that box plots hide. Particularly useful when comparing distributions across multiple groups side-by-side.\n",
    "\n",
    "In the first question for last week's assignment, you plotted boxplots of the percentage of Black population in Grade A and Grade D regions. Here, make a violin plot version of that box plot.\n",
    "\n",
    "<span style=\"color:red\">Note that this assignment is NOT autograded. The way to check whether you got the right answer is to match your output image to the one provided below. Your output should look **identical** to the image below:</span>\n",
    "\n",
    "![](./imgs/a08_q1.png)\n",
    "\n",
    "**Steps:**\n",
    " - Use the code from Coding Assignment #7 Question 1, and replace the `sns.boxplot` function with the `sns.violinplot` function.\n",
    " - Replace color with `'green'` instead of `'red'`, and set transparency (`alpha`) to `0.4`."
   ]
  },
  {
   "cell_type": "code",
   "execution_count": null,
   "metadata": {
    "tags": [
     "otter_answer_cell"
    ]
   },
   "outputs": [],
   "source": [
    "### Write your code below (in place of ...)\n",
    "..."
   ]
  },
  {
   "cell_type": "markdown",
   "metadata": {
    "deletable": false,
    "editable": false
   },
   "source": [
    "<!-- END QUESTION -->\n",
    "\n",
    "---"
   ]
  },
  {
   "cell_type": "markdown",
   "metadata": {
    "deletable": false,
    "editable": false
   },
   "source": [
    "<!-- BEGIN QUESTION -->\n",
    "\n",
    "## Question 2: White vs Black Population Percentages (0.5 point)\n",
    "\n",
    "Plot the scatter plot between the percentage of White population within regions and the percentage of Black population within regions. The scatter plot should be colored according to the HOLC grades -- green for Grade A, blue for Grade B, orange for Grade C, and red for Grade D. \n",
    "\n",
    "<span style=\"color:red\">Note that this assignment is NOT autograded. The way to check whether you got the right answer is to match your output image to the one provided below. Your output should look **identical** to the image below:</span>\n",
    "\n",
    "![](./imgs/a08_q2.png)\n",
    "\n",
    "**Steps:**\n",
    " - Use `sns.jointplot()` with `kind='scatter'`to plot the scatter plot with the appropriate `x`, `y`, and `hue` parameters.\n",
    " - Set the `palette` parameter to the `holc_colors` dictionary created below. \n",
    " - Set transparency (`alpha`) to `0.7` \\\n",
    "   1 means not transparent at all, and 0 means fully transparent. Try different values, play with it!\n",
    " - Set the size of scatter points (`s`) to `60`."
   ]
  },
  {
   "cell_type": "code",
   "execution_count": null,
   "metadata": {
    "tags": [
     "otter_answer_cell"
    ]
   },
   "outputs": [],
   "source": [
    "### Write your code below (in place of ...)\n",
    "holc_colors = {'A': 'green', 'B': 'blue', 'C': 'orange', 'D': 'red'}\n",
    "..."
   ]
  },
  {
   "cell_type": "markdown",
   "metadata": {
    "deletable": false,
    "editable": false
   },
   "source": [
    "<!-- END QUESTION -->\n",
    "\n",
    "---"
   ]
  },
  {
   "cell_type": "markdown",
   "metadata": {
    "deletable": false,
    "editable": false
   },
   "source": [
    "<!-- BEGIN QUESTION -->\n",
    "\n",
    "## Question 3: Radial Chart: Average Racial Composition by Grade (1 point)\n",
    "\n",
    "In this question, you will try out a new type of visualization -- the **radial chart**.\n",
    "\n",
    "A **radial chart** displays data in a circular format where bars/data points extend outward from a central point, with categories arranged around the circle like hours on a clock. **It's essentially a bar chart wrapped into a circle, useful for creating visually striking comparisons when the circular layout enhances understanding of the data relationships.**\n",
    "\n",
    "<span style=\"color:green\">Now, just like the violin plot, we have not covered this in class. My goal with this question is to introduce you to this type of visualization, without getting into the nitty-gritties of it all. Much of the code that is needed for this visualization is already provided; you just need to fill in the gaps by following the steps outlined below. Easy!</span>\n",
    "\n",
    "<span style=\"color:red\">Note that this assignment is NOT autograded. The way to check whether you got the right answer is to match your output image to the one provided below. Your output should look **identical** to the image below:</span>\n",
    "\n",
    "\n",
    "![](./imgs/a08_q3.png)\n",
    "\n",
    "\n",
    "**Steps:**\n",
    " - The code to plot everything except the data for Hispanic and Asian population has been provided.\n",
    " - Write the code for the radial plot for Hispanic population by copying the code for Black population and replacing the Black population-related variables with those for Hispanic population. For instance, replace `pct_black` with `pct_hisp`. Accordingly, change the `label` to `'Hispanic'` and `color` to `'green'`.\n",
    " - Add the plot for Asian population by making similar adjustments. Change `color` to `'red'` for Asian population."
   ]
  },
  {
   "cell_type": "code",
   "execution_count": null,
   "metadata": {
    "tags": [
     "otter_answer_cell"
    ]
   },
   "outputs": [],
   "source": [
    "### Write your code below (in place of ...)\n",
    "fig = plt.figure(figsize=(10, 10))\n",
    "ax = plt.subplot(111, projection='polar')\n",
    "grades = ['A', 'B', 'C', 'D']\n",
    "angles = np.linspace(0, 2 * np.pi, len(grades), endpoint=False).tolist()\n",
    "\n",
    "# White population\n",
    "white_values = [df[df['holc_grade'] == 'A']['pct_white'].mean(),\n",
    "                df[df['holc_grade'] == 'B']['pct_white'].mean(),\n",
    "                df[df['holc_grade'] == 'C']['pct_white'].mean(),\n",
    "                df[df['holc_grade'] == 'D']['pct_white'].mean()]\n",
    "white_values += white_values[:1]\n",
    "angles_plot = angles + angles[:1]\n",
    "ax.plot(angles_plot, white_values, 'o-', linewidth=2, label='White', color='blue')\n",
    "ax.fill(angles_plot, white_values, alpha=0.1, color='blue')\n",
    "\n",
    "# Black population\n",
    "black_values = [df[df['holc_grade'] == 'A']['pct_black'].mean(),\n",
    "                df[df['holc_grade'] == 'B']['pct_black'].mean(),\n",
    "                df[df['holc_grade'] == 'C']['pct_black'].mean(),\n",
    "                df[df['holc_grade'] == 'D']['pct_black'].mean()]\n",
    "black_values += black_values[:1]\n",
    "ax.plot(angles_plot, black_values, 'o-', linewidth=2, label='Black', color='orange')\n",
    "ax.fill(angles_plot, black_values, alpha=0.1, color='orange')\n",
    "\n",
    "...\n",
    "\n",
    "ax.set_theta_offset(np.pi / 2)\n",
    "ax.set_theta_direction(-1)\n",
    "ax.set_xticks(angles)\n",
    "ax.set_xticklabels(grades)\n",
    "ax.set_ylim(0, 80)\n",
    "ax.set_ylabel('Average Percentage', labelpad=30)\n",
    "ax.set_title('Racial Composition Radar Chart by HOLC Grade', pad=30, fontsize=16)\n",
    "ax.legend(loc='upper right', bbox_to_anchor=(1.2, 1.1))\n",
    "plt.show()"
   ]
  },
  {
   "cell_type": "markdown",
   "metadata": {
    "deletable": false,
    "editable": false
   },
   "source": [
    "<!-- END QUESTION -->\n",
    "\n",
    "---"
   ]
  },
  {
   "cell_type": "markdown",
   "metadata": {
    "deletable": false,
    "editable": false
   },
   "source": [
    "<!-- BEGIN QUESTION -->\n",
    "\n",
    "## Question 4: Bubble Chart: Top Metro Areas Segregation Pattern\n",
    "\n",
    "### A: Creating the dataset (0.5 point)\n",
    "\n",
    "Create a new dataframe `top10_blackpop_gradeD` by following these steps:\n",
    "\n",
    " - Filter `df` to include only rows where `holc_grade` equals `'D'`.\n",
    " - From this filtered data, select the 10 rows with the highest values in the `black_pop` column.\n",
    " - Store this result as `top10_blackpop_gradeD`.\n",
    "\n",
    "**Optional:** You can also accomplish this task with a single line of code, using the `.nlargest()` method. See the documentation [here](https://pandas.pydata.org/docs/reference/api/pandas.DataFrame.nlargest.html) and see if you can make it work for you!\n",
    "\n",
    "<span style=\"color:green\">Remember, this assignment is not autograded. For your reference, your resultant dataframe should look something like this (some columns on the right are cut off in this image):</span>\n",
    "\n",
    "![](./imgs/a08_q4a.png)"
   ]
  },
  {
   "cell_type": "code",
   "execution_count": null,
   "metadata": {
    "tags": [
     "otter_answer_cell"
    ]
   },
   "outputs": [],
   "source": [
    "### Write your code below (in place of ...)\n",
    "..."
   ]
  },
  {
   "cell_type": "markdown",
   "metadata": {
    "deletable": false,
    "editable": false
   },
   "source": [
    "<!-- END QUESTION -->\n",
    "\n",
    "---"
   ]
  },
  {
   "cell_type": "markdown",
   "metadata": {
    "deletable": false,
    "editable": false
   },
   "source": [
    "<!-- BEGIN QUESTION -->\n",
    "\n",
    "### B: Plotting the bubble plot (1.5 points)\n",
    "\n",
    "**Bubble plots** are scatter plots with two additional data dimensions: **bubble size** represents a third variable, while **bubble color** represents a fourth variable.\n",
    "\n",
    "This conversion transforms a 2D visualization into a 4D one, enabling the identification of patterns across multiple variables simultaneously. **In this task, we are creating a bubble plot where the x/y positions represent the percentages of White versus Black populations, the bubble size indicates the total population, and the color intensity reflects the Black location quotient (a measure of segregation) for the most segregated metropolitan areas.**\n",
    "\n",
    "<span style=\"color:red\">Note that this assignment is NOT autograded. The way to check whether you got the right answer is to match your output image to the one provided below. Your output should look **identical** to the image below:</span>\n",
    "\n",
    "![](./imgs/a08_q4b.png)\n",
    "\n",
    "**Steps:**\n",
    " - Most of the code is already written. You need to replace the `…` with the code to generate the bubble plot.\n",
    " - Use the `plt.scatter` function we have previously used. Assign the percentage of the White population to the x-axis and the percentage of the Black population to the y-axis.\n",
    " - Previously, we have used the `s` parameter to change the size of a point in a scatter plot. Instead of setting `s` to a single size, set it to `top10_blackpop_gradeD[‘total_pop’]/1000`. This sets the size of each scatter point as the total population in that region, divided by 1000. Why divide by 1000? To scale down the sizes overall and make them fit on our screens. Try different values other than 1000 to see the effect.\n",
    " - Set `alpha` to 0.6 to improve readability with labels.\n",
    " - Similar to using the `s` parameter for setting variable sizes, we will use the `c` parameter. Assign `top10_blackpop_gradeD[‘lq_black’]` to the `c` parameter, so the fill colors of the bubbles represent the location quotient. \\\n",
    "   A bubble with a more yellow/green hue indicates a higher location quotient, suggesting a greater overrepresentation of the Black population in that Grade D region. Conversely, a bubble with a more purple/blue hue indicates a lower location quotient, suggesting a lesser overrepresentation of the Black population in that Grade D region.\n",
    " - Set `edgecolors` to `’black’` to make the edges of the bubbles black.\n",
    " - The code to add labels on top of the bubble plot is already provided."
   ]
  },
  {
   "cell_type": "code",
   "execution_count": null,
   "metadata": {
    "tags": [
     "otter_answer_cell"
    ]
   },
   "outputs": [],
   "source": [
    "### Write your code below (in place of ...)\n",
    "plt.figure(figsize=(14, 8))\n",
    "\n",
    "...\n",
    "\n",
    "# Add metro labels\n",
    "for idx, row in top10_blackpop_gradeD.iterrows():\n",
    "    metro_name = row['metro_area'].split(',')[0]  # Get city name only\n",
    "    plt.annotate(metro_name, (row['pct_white'], row['pct_black']), \n",
    "                fontsize=10, alpha=0.7)\n",
    "\n",
    "plt.colorbar(scatter, label='Black Location Quotient')\n",
    "plt.xlabel('White Population %')\n",
    "plt.ylabel('Black Population %')\n",
    "plt.xlim(10, 55)\n",
    "plt.title('Segregation in D-Rated Areas: Top 10 Metros by Black Population\\n(Bubble size = Total Population)', \n",
    "          fontsize=16, pad=20)\n",
    "plt.show()"
   ]
  },
  {
   "cell_type": "markdown",
   "metadata": {
    "deletable": false,
    "editable": false
   },
   "source": [
    "<!-- END QUESTION -->\n",
    "\n",
    "---"
   ]
  },
  {
   "cell_type": "markdown",
   "metadata": {},
   "source": [
    "## Optional Question: Final Project Visualizations (0 points)\n",
    "\n",
    "Can you think of ways to utilize these new types of visualizations in your final project? Post your ideas (or first drafts of visualizations!) on the Discussion Board for this week. "
   ]
  }
 ],
 "metadata": {
  "kernelspec": {
   "display_name": "Python 3 (ipykernel)",
   "language": "python",
   "name": "python3"
  },
  "language_info": {
   "codemirror_mode": {
    "name": "ipython",
    "version": 3
   },
   "file_extension": ".py",
   "mimetype": "text/x-python",
   "name": "python",
   "nbconvert_exporter": "python",
   "pygments_lexer": "ipython3",
   "version": "3.12.9"
  },
  "otter": {
   "OK_FORMAT": true,
   "tests": {}
  },
  "varInspector": {
   "cols": {
    "lenName": 16,
    "lenType": 16,
    "lenVar": 40
   },
   "kernels_config": {
    "python": {
     "delete_cmd_postfix": "",
     "delete_cmd_prefix": "del ",
     "library": "var_list.py",
     "varRefreshCmd": "print(var_dic_list())"
    },
    "r": {
     "delete_cmd_postfix": ") ",
     "delete_cmd_prefix": "rm(",
     "library": "var_list.r",
     "varRefreshCmd": "cat(var_dic_list()) "
    }
   },
   "types_to_exclude": [
    "module",
    "function",
    "builtin_function_or_method",
    "instance",
    "_Feature"
   ],
   "window_display": false
  }
 },
 "nbformat": 4,
 "nbformat_minor": 4
}
