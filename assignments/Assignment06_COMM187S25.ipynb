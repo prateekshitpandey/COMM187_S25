{
 "cells": [
  {
   "cell_type": "markdown",
   "metadata": {},
   "source": [
    "# COMM 187 S25 Coding Assignment #6 (not autograded)"
   ]
  },
  {
   "attachments": {},
   "cell_type": "markdown",
   "metadata": {},
   "source": [
    "## <center>THE LEGACY OF <span style=\"color:red\"> REDLINING</span> IN THE US</center>\n",
    "\n",
    "![](./imgs/538RedLiningArticle.png)\n",
    "\n",
    "The dataset for this week's assignment is about the concept of <span style=\"color:red\">redlining</span> in the US.\n",
    "\n",
    "<span style=\"color:red\">**Redlining**</span> is the discriminatory practice of denying services (like mortgages) to residents of certain areas based on racial or ethnic composition, leading to economic and social disparities.\n",
    "\n",
    "The dataset is stored as a csv file in the sub-folder \"data\" by the name \"metro-grades.csv\". \\\n",
    "You can read more about the dataset on its [github repository page](https://github.com/fivethirtyeight/data/tree/master/redlining). I have copied relevant information about the dataset below:\n",
    "\n",
    "This csv file contains 2020 population total estimates by race/ethnicity for combined zones of each redlining grade (from Home Owners' Loan Corporation \\[HOLC\\] maps originally drawn in 1935-40, downloaded from the [Mapping Inequality project](https://dsl.richmond.edu/panorama/redlining/#loc=5/37.8/-97.9&maps=0)) within micro- and metropolitan areas. Also included are population estimates in the surrounding area of each metropolitan area's HOLC map (computed by adding a 10 percent buffer radius to the minimum bounding circle of all zones in that metro area) and [location quotients](https://belonging.berkeley.edu/technical-appendix#footnote34_cnxakh3) (LQs) for each racial/ethnic group and HOLC grade. LQs are small-area measures of segregation that specifically compare one racial/ethnic group’s proportion in a granular geography to their proportion in a larger surrounding geography. An LQ above 1 for a given racial group indicates overrepresentation in that HOLC zone relative to the broader surrounding area, and values below 1 indicate underrepresentation. Only micro- and metropolitan areas with both A- (“best”) and D-rated (“hazardous”) zones in their redlining map are included — 138 of a total 143 metropolitan areas in the data from Mapping Inequality.\n",
    "\n",
    "Header | Definition\n",
    "--- | ---\n",
    "`metro_area` | Official U.S. Census name of micro- or metropolitan area — defined as [\"Core-Based Statistical Areas\"](https://www.census.gov/topics/housing/housing-patterns/about/core-based-statistical-areas.html). The first city and state listed are used as the display name for each micro/metropolitan area in the story (for example, \"Chicago-Naperville-Elgin, IL-IN-WI\" is referred to as \"Chicago, IL\").\n",
    "`holc_grade` | Grade assigned by the Home Owners' Loan Corporation (HOLC). `A`: \"best\" (green). `B`: \"Still Desirable\" (blue). `C`: \"Definitely Declining\" (yellow). `D`: \"Hazardous\" (red).\n",
    "`white_pop` | Estimate of non-Hispanic white population within HOLC zones with a given `holc_grade` in a given `metro_area`. Rounded to the nearest integer.\n",
    "`black_pop` | Estimate of non-Hispanic Black population within HOLC zones with a given `holc_grade` in a given `metro_area`. Rounded to the nearest integer.\n",
    "`hisp_pop` | Estimate of Hispanic/Latino population within HOLC zones with a given `holc_grade` in a given `metro_area`. Rounded to the nearest integer.\n",
    "`asian_pop` | Estimate of non-Hispanic Asian population within HOLC zones with a given `holc_grade` in a given `metro_area`. Rounded to the nearest integer.\n",
    "`other_pop` | Estimate of population in any other racial/ethnic groups within HOLC zones with a given `holc_grade` in a given `metro_area`. Rounded to the nearest integer.\n",
    "`total_pop` | Estimate of total population (across all racial/ethnic groups) within HOLC zones with a given `holc_grade` in a given `metro_area`. Rounded to the nearest integer.\n",
    "`pct_white` | Estimate of the percentage of total population within HOLC zones with a given `holc_grade` in a given `metro_area` that are non-Hispanic white. Represented between 0-100. Rounded to the nearest two decimal places.\n",
    "`pct_black` | Estimate of the percentage of total population within HOLC zones with a given `holc_grade` in a given `metro_area` that are non-Hispanic Black. Represented between 0-100. Rounded to the nearest two decimal places.\n",
    "`pct_hisp` | Estimate of the percentage of total population within HOLC zones with a given `holc_grade` in a given `metro_area` that are Hispanic/Latino. Represented between 0-100. Rounded to the nearest two decimal places.\n",
    "`pct_asian` | Estimate of the percentage of total population within HOLC zones with a given `holc_grade` in a given `metro_area` that are non-Hispanic Asian. Represented between 0-100. Rounded to the nearest two decimal places.\n",
    "`pct_other` | Estimate of the percentage of total population within HOLC zones with a given `holc_grade` in a given `metro_area` in any other racial/ethnic group. Represented between 0-100. Rounded to the nearest two decimal places.\n",
    "`lq_white` | Non-Hispanic white location quotient for a given `holc_grade` and `metro_area`.\n",
    "`lq_black` | Non-Hispanic Black location quotient for a given `holc_grade` and `metro_area`.\n",
    "`lq_hisp` | Hispanic/Latino location quotient for a given `holc_grade` and `metro_area`.\n",
    "`lq_asian` | Non-Hispanic Asian location quotient for a given `holc_grade` and `metro_area`.\n",
    "`lq_other` | All other racial/ethnic groups' location quotient for a given `holc_grade` and `metro_area`.\n",
    "`surr_area_white_pop` | Estimate of non-Hispanic white population within surrounding area of a given `metro_area`'s HOLC zones. Rounded to nearest integer. Repeated for each `holc_grade` for a given `metro_area`.\n",
    "`surr_area_black_pop` | Estimate of non-Hispanic Black population within surrounding area of a given `metro_area`'s HOLC zones. Rounded to nearest integer. Repeated for each `holc_grade` for a given `metro_area`.\n",
    "`surr_area_hisp_pop` | Estimate of Hispanic/Latino population within surrounding area of a given `metro_area`'s HOLC zones. Rounded to nearest integer. Repeated for each `holc_grade` for a given `metro_area`.\n",
    "`surr_area_asian_pop` | Estimate of non-Hispanic Asian population within surrounding area of a given `metro_area`'s HOLC zones. Rounded to nearest integer. Repeated for each `holc_grade` for a given `metro_area`.\n",
    "`surr_area_other_pop` | Estimate of population in any other racial/ethnic groups within surrounding area of a given `metro_area`'s HOLC zones. Rounded to nearest integer. Repeated for each `holc_grade` for a given `metro_area`.\n",
    "`surr_area_total_pop` | Estimate of total population (across all racial/ethnic groups) within surrounding area of a given `metro_area`'s HOLC zones. Rounded to nearest integer. Repeated for each `holc_grade` for a given `metro_area`.\n",
    "`surr_area_pct_white` | Estimate of the percentage of total population within surrounding area of a given `metro_area`'s HOLC zones that are non-Hispanic white. Represented between 0-100. Rounded to the nearest two decimal places. Repeated for each `holc_grade` for a given `metro_area`.\n",
    "`surr_area_pct_black` | Estimate of the percentage of total population within surrounding area of a given `metro_area`'s HOLC zones that are non-Hispanic Black. Represented between 0-100. Rounded to the nearest two decimal places. Repeated for each `holc_grade` for a given `metro_area`.\n",
    "`surr_area_pct_hisp` | Estimate of the percentage of total population within surrounding area of a given `metro_area`'s HOLC zones that are Hispanic/Latino. Represented between 0-100. Rounded to the nearest two decimal places. Repeated for each `holc_grade` for a given `metro_area`.\n",
    "`surr_area_pct_asian` | Estimate of the percentage of total population within surrounding area of a given `metro_area`'s HOLC zones that are non-Hispanic Asian. Represented between 0-100. Rounded to the nearest two decimal places. Repeated for each `holc_grade` for a given `metro_area`.\n",
    "`surr_area_pct_other` | Estimate of the percentage of total population within surrounding area of a given `metro_area`'s HOLC zones in any other racial/ethnic group. Represented between 0-100. Rounded to the nearest two decimal places. Repeated for each `holc_grade` for a given `metro_area`.\n",
    "\n",
    "---"
   ]
  },
  {
   "cell_type": "code",
   "execution_count": null,
   "metadata": {},
   "outputs": [],
   "source": [
    "# RUN THIS CELL BEFORE ATTEMPTING THE ASSIGNMENT QUESTIONS\n",
    "import numpy as np\n",
    "import pandas as pd\n",
    "from scipy import stats\n",
    "import matplotlib.pyplot as plt\n",
    "\n",
    "df = pd.read_csv(\"./data/metro-grades.csv\")"
   ]
  },
  {
   "cell_type": "markdown",
   "metadata": {},
   "source": [
    "---"
   ]
  },
  {
   "cell_type": "markdown",
   "metadata": {
    "deletable": false,
    "editable": false
   },
   "source": [
    "<!-- BEGIN QUESTION -->\n",
    "\n",
    "## Question 1: Histogram of Percentage of Black Population in Grade A and D regions\n",
    "\n",
    "Plot the historgrams of percentage of Black population in Grade A and Grade D regions. \n",
    "\n",
    "Note that this assignment is NOT autograder. The way to check whether you got the right answer is to match your output image to the one provided below. Your output should look **identical** to the image below, where green means Grade A, and red means Grade D:\n",
    "\n",
    "![](./imgs/a06_q1.png)\n",
    "\n",
    "**Steps:**\n",
    " - Subset the dataframe to include data only from Grade A and Grade D regions.\n",
    " - Use the `plt.hist()` function to plot the histogram for percentage of Black population in Grade A regions, then Grade D regions. \\\n",
    "   Read about the different parameters [here](https://matplotlib.org/stable/api/_as_gen/matplotlib.pyplot.hist.html).\n",
    " - Set the `bins` parameter to 20.\n",
    " - Figure out what the most appropriate `histtype` would be to match the plot shown above.\n",
    " - Add title, x label, and y label.\n",
    " - Add a legend using the following line of code: `plt.legend(['Grade A', 'Grade B'])`."
   ]
  },
  {
   "cell_type": "code",
   "execution_count": null,
   "metadata": {
    "tags": [
     "otter_answer_cell"
    ]
   },
   "outputs": [],
   "source": [
    "### Write your code below (in place of ...)\n",
    "..."
   ]
  },
  {
   "cell_type": "markdown",
   "metadata": {
    "deletable": false,
    "editable": false
   },
   "source": [
    "<!-- END QUESTION -->\n",
    "\n",
    "---"
   ]
  },
  {
   "cell_type": "markdown",
   "metadata": {
    "deletable": false,
    "editable": false
   },
   "source": [
    "<!-- BEGIN QUESTION -->\n",
    "\n",
    "## Question 2: Distribution of Population by Racial/Ethnic Groups in Grade D regions\n",
    "\n",
    "Plot the historgram of percentage of White, Black, Hispanic, and Asian population in Grade D regions. \n",
    "\n",
    "Note that this assignment is NOT autograder. The way to check whether you got the right answer is to match your output image to the one provided below. Your output should look **identical** to the image below:\n",
    "\n",
    "![](./imgs/a06_q2.png)\n",
    "\n",
    "**Steps:**\n",
    " - Use `plt.subplots()` (refer to Datacamp Module #3 for reference) to make a grid of 2 rows and 2 columns.\n",
    " - For each subplot, plot a histogram of the assigned racial/ethic group, with `bins = 20`.\n",
    " - For each subplot, assign a legend with the text as shown in the figure above. For instance, for the top left subplot, use the following line of code: `ax[0,0].legend(['White population'])`.\\\n",
    "   Similarly, assign legends to all other subplots.\n",
    " - Use function `plt.setp()` to set the y limits of all subplots to (0,60). This is a new function we haven't worked with before! Read documentation [here](https://matplotlib.org/stable/api/_as_gen/matplotlib.pyplot.setp.html) and apply it to this visualization. It's super simple, you got this.\n"
   ]
  },
  {
   "cell_type": "code",
   "execution_count": null,
   "metadata": {
    "tags": [
     "otter_answer_cell"
    ]
   },
   "outputs": [],
   "source": [
    "### Write your code below (in place of ...)\n",
    "..."
   ]
  },
  {
   "cell_type": "markdown",
   "metadata": {
    "deletable": false,
    "editable": false
   },
   "source": [
    "<!-- END QUESTION -->\n",
    "\n",
    "---"
   ]
  },
  {
   "cell_type": "markdown",
   "metadata": {
    "deletable": false,
    "editable": false
   },
   "source": [
    "<!-- BEGIN QUESTION -->\n",
    "\n",
    "## Question 3: Visualizing the relationship between Asian population within region and the surrounding regions\n",
    "\n",
    "Plot the scatter plot between of percentage of Asian population within regions and the percentage of Asian population in the surrounding regions. The scatter plot should colored according to the HOLC grades -- green for Grade A, yellow for Grade B, orange for Grade C, and red for Grade D. The output should look like this:\n",
    "\n",
    "![](./imgs/a06_q3.png)\n",
    "\n",
    "**Steps:**\n",
    " - Use `plt.scatter()` to plot the scatter plot.\n",
    " - To assign colors to data points based on HOLC Grade, use the `c` parameter in the `plt.scatter()` function. Specifically, assign the `holc_grade_colors` list-type variable to `c`. Notice how the values in this list are defined. For future use cases, use this as a template!\n",
    " - Use the `s` parameter in `plt.scatter()` function to change the size of the scatter points to 8.\n",
    " - Add x and y labels."
   ]
  },
  {
   "cell_type": "code",
   "execution_count": null,
   "metadata": {
    "tags": [
     "otter_answer_cell"
    ]
   },
   "outputs": [],
   "source": [
    "### Write your code below (in place of ...)\n",
    "holc_grade_to_colors = {'A': 'green', 'B': 'yellow', 'C': 'orange', 'D': 'red'}\n",
    "holc_grade_colors = [holc_grade_to_colors[grade] for grade in df['holc_grade']]\n",
    "..."
   ]
  },
  {
   "cell_type": "markdown",
   "metadata": {
    "deletable": false,
    "editable": false
   },
   "source": [
    "<!-- END QUESTION -->\n",
    "\n",
    "---"
   ]
  },
  {
   "cell_type": "markdown",
   "metadata": {
    "deletable": false,
    "editable": false
   },
   "source": [
    "<!-- BEGIN QUESTION -->\n",
    "\n",
    "## Question 4: Visualizing the relationship between Hispanic population within region and the surrounding regions, only for Grades A and D\n",
    "\n",
    "Plot the scatter plot between of percentage of Hispanic population within regions and the percentage of Hispanic population in the surrounding regions, only for the Grade A and Grade D regions.  between of percentage of Asian population within regions and the percentage of Asian population in the surrounding regions. Just like the last plot, the scatter plot should be colored according to the HOLC grades -- <span style=\"color:green\">green</span> for Grade A, and <span style=\"color:red\">red</span> for Grade D. The output should look like this:\n",
    "\n",
    "![](./imgs/a06_q4.png)\n",
    "\n",
    "Tip: \n",
    " - You will have to subset `df` such that it only has HOLC Grades A and D in it.\n",
    " - Similarly, you will have to make a new version of `holc_grade_colors` which only has Grades A and D in it. Use the code from Question 3 and modify it for this question!\n",
    " - You have not been provided with detailed steps for this question. If you have done Questions 1 through 3 of this assignment, you are fully equipped to solve this question! If you run into any questions, post it on the Discussion Board. \n"
   ]
  },
  {
   "cell_type": "code",
   "execution_count": null,
   "metadata": {
    "tags": [
     "otter_answer_cell"
    ]
   },
   "outputs": [],
   "source": [
    "### Write your code below (in place of ...)\n",
    "..."
   ]
  },
  {
   "cell_type": "markdown",
   "metadata": {
    "deletable": false,
    "editable": false
   },
   "source": [
    "<!-- END QUESTION -->\n",
    "\n",
    "---"
   ]
  }
 ],
 "metadata": {
  "kernelspec": {
   "display_name": "Python 3 (ipykernel)",
   "language": "python",
   "name": "python3"
  },
  "language_info": {
   "codemirror_mode": {
    "name": "ipython",
    "version": 3
   },
   "file_extension": ".py",
   "mimetype": "text/x-python",
   "name": "python",
   "nbconvert_exporter": "python",
   "pygments_lexer": "ipython3",
   "version": "3.12.9"
  },
  "otter": {
   "OK_FORMAT": true,
   "tests": {}
  },
  "varInspector": {
   "cols": {
    "lenName": 16,
    "lenType": 16,
    "lenVar": 40
   },
   "kernels_config": {
    "python": {
     "delete_cmd_postfix": "",
     "delete_cmd_prefix": "del ",
     "library": "var_list.py",
     "varRefreshCmd": "print(var_dic_list())"
    },
    "r": {
     "delete_cmd_postfix": ") ",
     "delete_cmd_prefix": "rm(",
     "library": "var_list.r",
     "varRefreshCmd": "cat(var_dic_list()) "
    }
   },
   "types_to_exclude": [
    "module",
    "function",
    "builtin_function_or_method",
    "instance",
    "_Feature"
   ],
   "window_display": false
  }
 },
 "nbformat": 4,
 "nbformat_minor": 4
}
