{
 "cells": [
  {
   "cell_type": "markdown",
   "id": "30685cd6-e608-4359-a781-57961e854133",
   "metadata": {},
   "source": [
    "# COMM 187: Data Science in Communication Research\n",
    "# Spring 2025\n",
    "\n",
    "## Week #4 Coding Lab: Statistics with Python\n",
    "**Monday, April 21, 2025**"
   ]
  },
  {
   "cell_type": "markdown",
   "id": "2fdf4c10-0a1b-4f44-866b-5c1e82a21610",
   "metadata": {},
   "source": [
    "Welcome to the Week #4 Coding Lab for COMM 187: Data Science in Communication Research! \n",
    "\n",
    "Thus far, we have learned some basic Python skills (variables, data types, lists, and NumPy), Python dictionaries, and Pandas.\n",
    "\n",
    "Today's lesson plan:\n",
    " - Introduction to `scipy`\n",
    " - Comparitive Statistics: t-test, Z-test, ANOVA, and Chi-Squared test\n",
    " - Visualizing comparative statistics using `matplotlib`"
   ]
  },
  {
   "cell_type": "markdown",
   "id": "b8701d62",
   "metadata": {},
   "source": [
    "### Introduction to `scipy`"
   ]
  },
  {
   "cell_type": "code",
   "execution_count": null,
   "id": "1a945675-96fd-4704-b36d-8f4b6410b1dd",
   "metadata": {},
   "outputs": [],
   "source": [
    "import pandas as pd\n",
    "import numpy as np"
   ]
  },
  {
   "cell_type": "markdown",
   "id": "d9fed262-7b2e-4abd-8bd2-da8133231b1c",
   "metadata": {},
   "source": [
    "We will now use a new library, called `scipy`, which is a powerful scientific computation library in Python. \n",
    "\n",
    "In Python, we have learned how to `import` a library, and how to `import` a library `as` a nickname/alias. Now, we will try importing a specific subset of functions from a library. We do this by using the format:\n",
    "```\n",
    "from <library> import <name of sub-library>\n",
    "```\n",
    "\n",
    "Here, we only need to sub-library `stats` from `scipy`, so we will run the following code:"
   ]
  },
  {
   "cell_type": "code",
   "execution_count": null,
   "id": "a71ae906-baa5-45ff-a2a7-214ceec86a9b",
   "metadata": {},
   "outputs": [],
   "source": [
    "from scipy import stats"
   ]
  },
  {
   "cell_type": "markdown",
   "id": "ddaff2b7-bbcd-469e-a236-6fec545f9deb",
   "metadata": {},
   "source": [
    "Let us start with a familiar dataset: the college majors dataset. This dataset is the data behind [this article](https://fivethirtyeight.com/features/the-economic-guide-to-picking-a-college-major/).\n",
    "\n",
    "You can access the repository for this dataset [here](https://github.com/fivethirtyeight/data/tree/master/college-majors)."
   ]
  },
  {
   "cell_type": "code",
   "execution_count": null,
   "id": "ac596f47-96ac-48cf-abdb-307a616f79ed",
   "metadata": {},
   "outputs": [],
   "source": [
    "### Your code below this line\n",
    "df = pd.read_csv('./data/recent-grads.csv')"
   ]
  },
  {
   "cell_type": "markdown",
   "id": "c559211b-f06e-4062-9895-d981f2e91499",
   "metadata": {},
   "source": [
    "Now, print the name of the columns of this DataFrame using `df.columns`."
   ]
  },
  {
   "cell_type": "code",
   "execution_count": null,
   "id": "f6ade175-268e-4471-882d-805b100bc858",
   "metadata": {},
   "outputs": [],
   "source": [
    "### Your code below this line\n",
    "df.columns"
   ]
  },
  {
   "cell_type": "markdown",
   "id": "4ddebd4e-2358-4421-bc53-3964eca74cf7",
   "metadata": {},
   "source": [
    "For your reference, here are the descriptions of the values in each of these columns:\n",
    "\n",
    "Column Name | Description\n",
    "---|---------\n",
    "`Rank` | Rank by median earnings\n",
    "`Major_code` | Major code, FO1DP in ACS PUMS\n",
    "`Major` | Major description\n",
    "`Major_category` | Category of major from Carnevale et al\n",
    "`Total` | Total number of people with major\n",
    "`Sample_size` | Sample size (unweighted) of full-time, year-round ONLY (used for earnings)\n",
    "`Men` | Male graduates\n",
    "`Women` | Female graduates\n",
    "`ShareWomen` | Women as share of total\n",
    "`Employed` | Number employed (ESR == 1 or 2)\n",
    "`Full_time` | Employed 35 hours or more\n",
    "`Part_time` | Employed less than 35 hours\n",
    "`Full_time_year_round` | Employed at least 50 weeks (WKW == 1) and at least 35 hours (WKHP >= 35)\n",
    "`Unemployed` | Number unemployed (ESR == 3)\n",
    "`Unemployment_rate` | Unemployed / (Unemployed + Employed)\n",
    "`Income` | Median earnings of full-time, year-round workers\n",
    "`P25th` | 25th percentile of earnings\n",
    "`P75th` | 75th percentile of earnings\n",
    "`College_jobs` | Number with job requiring a college degree\n",
    "`Non_college_jobs` | Number with job not requiring a college degree\n",
    "`Low_wage_jobs` | Number in low-wage service jobs"
   ]
  },
  {
   "cell_type": "markdown",
   "id": "414bbd62-7daa-4c19-932e-615dd4ccfc15",
   "metadata": {},
   "source": [
    "---"
   ]
  },
  {
   "cell_type": "markdown",
   "id": "089bcc91-c92c-4c44-8231-6a67fc9404b1",
   "metadata": {},
   "source": [
    "## Descriptive Statistics"
   ]
  },
  {
   "cell_type": "markdown",
   "id": "d3734844-5cb4-4f26-8694-6a67ec782b35",
   "metadata": {},
   "source": [
    "### Mean (or Average)\n",
    "\n",
    "Two ways to go about it:\n",
    " - **numpy**: Use the `np.mean()` function\n",
    " - **pandas**: Use the method `.mean()` for any column with numerical values.\n",
    "\n",
    "Let us try it on the column \"Employed\"."
   ]
  },
  {
   "cell_type": "code",
   "execution_count": null,
   "id": "953fcc01-2661-45ea-ab13-e02af631fd64",
   "metadata": {},
   "outputs": [],
   "source": [
    "df[\"Employed\"].mean()"
   ]
  },
  {
   "cell_type": "code",
   "execution_count": null,
   "id": "9cd97639-916e-45e3-bec1-a2eefc3bb614",
   "metadata": {},
   "outputs": [],
   "source": [
    "np.mean(df[\"Employed\"])"
   ]
  },
  {
   "cell_type": "markdown",
   "id": "3568e448-2e3f-4125-a3d0-b9006643bc44",
   "metadata": {},
   "source": [
    "**Practice:** Calculate the mean of \"Median earnings of full-time, year-round workers\" in the dataset."
   ]
  },
  {
   "cell_type": "code",
   "execution_count": null,
   "id": "47c73db2-1c15-41a0-92c0-e6c747e38d40",
   "metadata": {},
   "outputs": [],
   "source": [
    "### Your code below this line\n"
   ]
  },
  {
   "cell_type": "markdown",
   "id": "c6e48753-6f2f-4088-82a8-a8a79c891cd0",
   "metadata": {},
   "source": [
    "### MEDIAN\n",
    "\n",
    "Two ways to go about it:\n",
    " - **numpy**: Use the `np.median()` function\n",
    " - **pandas**: Use the method `.median()` for any column with numerical values.\n",
    "\n",
    "Let us try it on the column \"Employed\"."
   ]
  },
  {
   "cell_type": "code",
   "execution_count": null,
   "id": "2470fb6f-7d4a-4ebc-b9ec-1ca92791342d",
   "metadata": {},
   "outputs": [],
   "source": [
    "df[\"Employed\"].median()"
   ]
  },
  {
   "cell_type": "code",
   "execution_count": null,
   "id": "3db2c954-3157-4fe1-ba75-71aab52db04e",
   "metadata": {},
   "outputs": [],
   "source": [
    "np.median(df[\"Employed\"])"
   ]
  },
  {
   "cell_type": "markdown",
   "id": "2ed19fc9-1c86-4b4d-9182-8f99022b26b6",
   "metadata": {},
   "source": [
    "**Practice:** Calculate the median of \"Median earnings of full-time, year-round workers\" in the dataset."
   ]
  },
  {
   "cell_type": "code",
   "execution_count": null,
   "id": "d9c25d41-d226-43df-aa11-b540532120d7",
   "metadata": {},
   "outputs": [],
   "source": [
    "### Your code below this line\n"
   ]
  },
  {
   "cell_type": "markdown",
   "id": "ab431640-4a19-465b-9eed-dec720f3ba14",
   "metadata": {},
   "source": [
    "### STANDARD DEVIATION\n",
    "\n",
    "Two ways to go about it:\n",
    " - **numpy**: Use the `np.std()` function\n",
    " - **pandas**: Use the method `.std()` for any column with numerical values.\n",
    "\n",
    "Let us try it on the columns \"Employed\""
   ]
  },
  {
   "cell_type": "code",
   "execution_count": null,
   "id": "d1533323-b2ad-41f2-9d49-9c656abad479",
   "metadata": {},
   "outputs": [],
   "source": [
    "df[\"Employed\"].std()"
   ]
  },
  {
   "cell_type": "code",
   "execution_count": null,
   "id": "eb4169a8-2dc7-4040-af40-b471fcf0a5c5",
   "metadata": {},
   "outputs": [],
   "source": [
    "np.std(df[\"Employed\"])"
   ]
  },
  {
   "cell_type": "markdown",
   "id": "f9077a26-89d8-4ae1-a153-61b0df042fd4",
   "metadata": {},
   "source": [
    "**Practice:** Calculate the standard deviation of \"Median earnings of full-time, year-round workers\" in the dataset."
   ]
  },
  {
   "cell_type": "code",
   "execution_count": null,
   "id": "836bb4a1-9b28-4818-adb1-8388405c844f",
   "metadata": {},
   "outputs": [],
   "source": [
    "### Your code below this line\n"
   ]
  },
  {
   "cell_type": "markdown",
   "id": "e838cb4d-9274-4678-9541-076e206c1760",
   "metadata": {},
   "source": [
    "### Multiple Descriptive Statistics (`.agg()`)\n",
    "\n",
    "Use the function `.agg()` for any column with numerical values, and inside the `()` brackets, enter a list of the statistical functions you would like to use on that columns. \n",
    "\n",
    " - for mean, just write `'mean'`\n",
    " - for median, just write `'median'`\n",
    " - for standard deviation, just write `'std'`\n",
    "\n",
    "Remember! In Python, `'` and `\"` are interchangeable.\n",
    "\n",
    "Let us try it on the columns \"Employed\""
   ]
  },
  {
   "cell_type": "code",
   "execution_count": null,
   "id": "1fb06572-e7b9-42d0-978c-37b6f74e49d5",
   "metadata": {},
   "outputs": [],
   "source": [
    "df[\"Employed\"].agg('mean')"
   ]
  },
  {
   "cell_type": "code",
   "execution_count": null,
   "id": "86cbfeb4-a8fa-4434-8c06-8fdf327afa1d",
   "metadata": {},
   "outputs": [],
   "source": [
    "df[\"Employed\"].agg(['mean'])"
   ]
  },
  {
   "cell_type": "code",
   "execution_count": null,
   "id": "87f303dc-78d6-408f-b3ad-488c73f6122b",
   "metadata": {},
   "outputs": [],
   "source": [
    "df[\"Employed\"].agg(['mean', 'median'])"
   ]
  },
  {
   "cell_type": "code",
   "execution_count": null,
   "id": "9058aa72-1416-4ce2-9055-e09c461753b5",
   "metadata": {},
   "outputs": [],
   "source": [
    "df[\"Employed\"].agg(['mean', 'median', 'std'])"
   ]
  },
  {
   "cell_type": "markdown",
   "id": "f97969e7-0177-47af-9555-17914beaee31",
   "metadata": {},
   "source": [
    "**Practice:** Calculate the standard deviation of \"Median earnings of full-time, year-round workers\" in the dataset."
   ]
  },
  {
   "cell_type": "code",
   "execution_count": null,
   "id": "ebcd6f04-8207-4f46-a746-6032b89c94ab",
   "metadata": {},
   "outputs": [],
   "source": [
    "### Your code below this line\n"
   ]
  },
  {
   "cell_type": "markdown",
   "id": "0c6a3eb7-4bd8-428d-bd48-303774e01d92",
   "metadata": {},
   "source": [
    "### Summary Statistics (`.describe()`)\n",
    "\n",
    "Instead of calculating individual statistics for individual columns, we can also get a summary of **mean**, **median**, **standard deviation**, and some other statistics using the function `.describe()`. Let us try that out:\n",
    "\n",
    "Let us try it on the column \"Employed\""
   ]
  },
  {
   "cell_type": "code",
   "execution_count": null,
   "id": "654e0acb-db72-4522-9afe-a0c7673ffd7e",
   "metadata": {},
   "outputs": [],
   "source": [
    "df[\"Employed\"].describe()"
   ]
  },
  {
   "cell_type": "markdown",
   "id": "1acbdadb-e1d0-4d26-b3cf-76a754ae9676",
   "metadata": {},
   "source": [
    "## Comparative Statistics"
   ]
  },
  {
   "cell_type": "markdown",
   "id": "9b81f055-27a2-43df-b36b-432ceb9d3b82",
   "metadata": {},
   "source": [
    "### T-TEST"
   ]
  },
  {
   "cell_type": "markdown",
   "id": "e06faf92-38ab-4a4d-824b-a5923bcc40b1",
   "metadata": {},
   "source": [
    "With your group, go through the [SciPy Documentation for T-Test](https://docs.scipy.org/doc/scipy/reference/generated/scipy.stats.ttest_ind.html) and solve the following practice question:\n",
    "\n",
    "**Question:** Compare the mean `Unemployment_rate` between the following two `Major_category`: \"Humanities & Liberal Arts\" and \"Social Science\". \\\n",
    "Run a t-test, and interpret the results."
   ]
  },
  {
   "cell_type": "code",
   "execution_count": null,
   "id": "57cab223-d092-486d-8b35-ec1a5efd810c",
   "metadata": {},
   "outputs": [],
   "source": [
    "pd.unique(df['Major_category'])"
   ]
  },
  {
   "cell_type": "code",
   "execution_count": null,
   "id": "b1f52b98-cb1f-417c-b878-04cf3ed8c740",
   "metadata": {},
   "outputs": [],
   "source": [
    "# Extract data for 'Humanities & Liberal Arts' and 'Social Science'\n",
    "HLA = df[df['Major_category'] == 'Humanities & Liberal Arts']['Unemployment_rate']\n",
    "SS = df[df['Major_category'] == 'Social Science']['Unemployment_rate']\n",
    "\n",
    "# Perform t-test using stats.ttest_ind\n",
    "stats.ttest_ind(HLA, SS)"
   ]
  },
  {
   "cell_type": "markdown",
   "id": "c8907e05-10fd-46d4-b083-495ef7d9c66b",
   "metadata": {},
   "source": [
    "**Question:** Compare the mean `Unemployment_rate` between the following two `Major_category`: \"Law & Public Policy\" and \"Engineering\". \\\n",
    "Run a t-test, and interpret the results."
   ]
  },
  {
   "cell_type": "code",
   "execution_count": null,
   "id": "27770033-d4b4-4996-b445-989dfa0a6466",
   "metadata": {},
   "outputs": [],
   "source": [
    "# Extract data for different majors\n",
    "\n",
    "# Perform t-test using stats.ttest_ind\n"
   ]
  },
  {
   "cell_type": "markdown",
   "id": "838839c7-1e3a-4131-bac2-b5ca30c90168",
   "metadata": {},
   "source": [
    "### ANOVA"
   ]
  },
  {
   "cell_type": "markdown",
   "id": "f27ca3f1-d596-432a-8390-8fb747980ab9",
   "metadata": {},
   "source": [
    "With your group, go through the [SciPy Documentation for one-way ANOVA](https://docs.scipy.org/doc/scipy/reference/generated/scipy.stats.f_oneway.html) and solve the following practice question:\n",
    "\n",
    "**Question:** Test if there are any significant differences in the `Unemployment_rate` between the following four `Major_category`: \"Humanities & Liberal Arts\", \"Law & Public Policy\", \"Engineering\", and \"Social Science\"."
   ]
  },
  {
   "cell_type": "code",
   "execution_count": null,
   "id": "71d07a39-4289-4e1b-a487-8b525e3ff742",
   "metadata": {},
   "outputs": [],
   "source": [
    "# Extract data for each major\n",
    "HLA = df[df['Major_category'] == 'Humanities & Liberal Arts']['Unemployment_rate']\n",
    "SS = df[df['Major_category'] == 'Social Science']['Unemployment_rate']\n",
    "LPP = df[df['Major_category'] == 'Law & Public Policy']['Unemployment_rate']\n",
    "E = df[df['Major_category'] == 'Engineering']['Unemployment_rate']\n",
    "\n",
    "# Perform ANOVA using stats.f_oneway\n",
    "stats.f_oneway(HLA, SS, LPP, E)"
   ]
  },
  {
   "cell_type": "markdown",
   "id": "99db121a-ce09-4a26-84de-d944c454b904",
   "metadata": {},
   "source": [
    "**Question:** Test if there are any significant differences in `ShareWomen` between the following three `Major_category`: \"Biology & Life Science\", \"Computers & Mathematics\", and \"Business\"."
   ]
  },
  {
   "cell_type": "code",
   "execution_count": null,
   "id": "a223fbbd-1996-49d3-bae1-98f629516453",
   "metadata": {},
   "outputs": [],
   "source": [
    "# Extract data for each major\n",
    "\n",
    "# Perform ANOVA using stats.f_oneway\n"
   ]
  },
  {
   "cell_type": "markdown",
   "id": "18552b7a-8f63-46f1-b42f-90b183785dba",
   "metadata": {},
   "source": [
    "## Associative Statistics"
   ]
  },
  {
   "cell_type": "markdown",
   "id": "62d609f1-685d-4561-bfef-73ec8ffb9f3a",
   "metadata": {},
   "source": [
    "### COVARIANCE\n",
    "\n",
    "Two ways to go about it:\n",
    " - **numpy**: Use the `np.cov()` function\n",
    " - **pandas**: Use the method `.cov( <column to calculate covariance with> )` for any two columns with numerical values.\n",
    "\n",
    "Let us try it on the columns \"Employed\" and \"ShareWomen\"."
   ]
  },
  {
   "cell_type": "code",
   "execution_count": null,
   "id": "f58f3bae-197e-4abf-8e07-73fee2d68be0",
   "metadata": {},
   "outputs": [],
   "source": [
    "np.cov(df[\"Employed\"], df[\"ShareWomen\"])[0,0]"
   ]
  },
  {
   "cell_type": "code",
   "execution_count": null,
   "id": "57853e2e-a934-41a7-a7f0-cdfd535cd99a",
   "metadata": {},
   "outputs": [],
   "source": [
    "df[\"Employed\"].cov(df[\"ShareWomen\"])"
   ]
  },
  {
   "cell_type": "markdown",
   "id": "25b0244f-e207-4e66-b3bc-543bbd415e32",
   "metadata": {},
   "source": [
    "**Practice:** Calculate the covariance between the column with the \"Median earnings of full-time, year-round workers\" and the column with \"Women as share of total\" in the dataset."
   ]
  },
  {
   "cell_type": "code",
   "execution_count": null,
   "id": "b23275c5-bb19-4082-944a-03b920075593",
   "metadata": {},
   "outputs": [],
   "source": [
    "### Your code below this line\n"
   ]
  },
  {
   "cell_type": "markdown",
   "id": "2d3513a0-bb43-4932-87f8-0374f11bfeae",
   "metadata": {},
   "source": [
    "### CORRELATION\n",
    "\n",
    "Preferred way to go about it:\n",
    " - **pandas**: Use the method `.corr( <column to calculate correlation with> )` for any two columns with numerical values. Let us try it on the columns \"Employed\" and \"ShareWomen\"."
   ]
  },
  {
   "cell_type": "code",
   "execution_count": null,
   "id": "fbd17326-44c5-488f-a350-0aecf6abfa1f",
   "metadata": {},
   "outputs": [],
   "source": [
    "df[\"Employed\"].corr(df[\"ShareWomen\"])"
   ]
  },
  {
   "cell_type": "markdown",
   "id": "a0c67368-332c-478b-b12c-306519a7e7d8",
   "metadata": {},
   "source": [
    "**Practice:** Calculate the correlation between the column with the \"Median earnings of full-time, year-round workers\" and the column with \"Women as share of total\" in the dataset."
   ]
  },
  {
   "cell_type": "code",
   "execution_count": null,
   "id": "cebcefb4-5def-41f9-b0cf-ce73d5bfb7ba",
   "metadata": {},
   "outputs": [],
   "source": [
    "### Your code below this line\n"
   ]
  }
 ],
 "metadata": {
  "kernelspec": {
   "display_name": "Python 3 (ipykernel)",
   "language": "python",
   "name": "python3"
  },
  "language_info": {
   "codemirror_mode": {
    "name": "ipython",
    "version": 3
   },
   "file_extension": ".py",
   "mimetype": "text/x-python",
   "name": "python",
   "nbconvert_exporter": "python",
   "pygments_lexer": "ipython3",
   "version": "3.12.9"
  }
 },
 "nbformat": 4,
 "nbformat_minor": 5
}
