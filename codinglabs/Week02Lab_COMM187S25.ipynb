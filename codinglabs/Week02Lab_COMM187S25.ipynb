{
 "cells": [
  {
   "cell_type": "markdown",
   "id": "533ac834-ae77-4da2-b96b-de2be9ef1089",
   "metadata": {},
   "source": [
    "# COMM 187: Data Science in Communication Research\n",
    "# Spring 2025\n",
    "\n",
    "## Week #2 Coding Lab: Python Fundamentals\n",
    "**Monday, April 7, 2025**"
   ]
  },
  {
   "cell_type": "markdown",
   "id": "f923a686-e95b-42f7-ab43-ebdf1e795cbe",
   "metadata": {},
   "source": [
    "Welcome to the first Coding Lab for **COMM 187: Data Science in Communication Research!**\n",
    "\n",
    "Today's lesson plan:\n",
    " - Python Basics Review: Lists, Functions, Packages, and NumPy"
   ]
  },
  {
   "cell_type": "markdown",
   "id": "4b2aff0b-3759-4beb-9e0f-7b493bb9de7c",
   "metadata": {},
   "source": [
    "## What is Jupyterhub?"
   ]
  },
  {
   "cell_type": "markdown",
   "id": "de2ba821-51cc-4b68-87b8-e6d8b26a4711",
   "metadata": {},
   "source": [
    "To write and execute Python code, you need a platform or software which helps you do that. **Jupyter** is one such interactive platform for Python programming. Jupyter's name is a reference to the three core programming languages supported by Jupyter, which are **Ju**lia, **Pyt**hon and **R**! On Jupyter, you can write code and execute its output right underneath it. More importantly, Jupyter can be hosted on a server, which means that the code runs on the server and not your computer. This is helpful for us, because we do not need to install anything on our computers, and we can simply write and execute Python code using Jupyter.\n",
    "\n",
    "What you are currently viewing this on is the Jupyter**Lab** environment. Here, you can have multiple tabs open, with different types of coding environments, along with a side bar (on the left side of the screen) which displays a file system. "
   ]
  },
  {
   "cell_type": "markdown",
   "id": "8dc3e15f-3682-4208-903f-c82670f36b07",
   "metadata": {},
   "source": [
    "### Jupyter Notebooks\n",
    "\n",
    "The Jupyter Notebook is at the heart of what Jupyter offers as a platform -- it is an interactive document for code, text, data visualizations, and other output. This document you are reading right now is a notebook too! \n",
    "\n",
    "Jupyter Notebooks are organized into cells. You might have noticed that the text in this notebook thus far has been organized into \"chunks\", which are indicated by a blue ribbon on the left margin. These \"chunks\" are called cells, and can be of three types:\n",
    "\n",
    "1. **Raw:** This is raw, unformatted text.\n",
    "2. **Markdown:** This is a piece of text formatted using Markdown, which is a markup language used to add formatting to text. HTML is another markup language!\n",
    "4. **Code:** As the name says, this is a piece of code which can be executed!"
   ]
  },
  {
   "cell_type": "markdown",
   "id": "d1e23c75-ba2b-4b94-b914-124dcb399426",
   "metadata": {},
   "source": [
    "Look at the top ribbon, you might see the following icons:\n",
    "\n",
    "![ribbon](./imgs/JupyterlabRibbon.png)"
   ]
  },
  {
   "cell_type": "markdown",
   "id": "5a37c193-aade-440a-afca-803415a5dc6f",
   "metadata": {},
   "source": [
    "You can use the `+` sign to add a new cell to this notebook."
   ]
  },
  {
   "cell_type": "markdown",
   "id": "c7908050-712e-4a47-a708-4d608cf378c6",
   "metadata": {},
   "source": [
    "Now, if you click on \"Markdown\", you will see three options emerge: Code, Markdown, and Raw.\n",
    "\n",
    "![CellOptions](./imgs/JupyterlabCellOptions.png)\n",
    "\n",
    "Try out these different cell types, and see what it looks like to type in cells of different types. \\\n",
    "Do the colors and formatting of the texts change in different cell types?"
   ]
  },
  {
   "cell_type": "markdown",
   "id": "d1a96b8a-550d-4211-a97c-b706a786bf50",
   "metadata": {},
   "source": [
    "### Let us write some code!"
   ]
  },
  {
   "cell_type": "markdown",
   "id": "7f183535-2c8b-4d91-af76-aa43bec64eca",
   "metadata": {},
   "source": [
    "Follow these steps: \n",
    "\n",
    "1. Use the `+` button in the top ribbon to make a new cell below\n",
    "2. Write the following in it: `1+1`\n",
    "3. Execute the cell (either use the play button on the top ribbon or the shortcut!)"
   ]
  },
  {
   "cell_type": "markdown",
   "id": "7fe48002-619d-497a-977f-c8623796a69e",
   "metadata": {},
   "source": [
    "**TIP:** You can execute a cell by using the following shortcut: Ctrl + Enter (on Windows), Command + Enter (on Mac)"
   ]
  },
  {
   "cell_type": "markdown",
   "id": "ba9521bf-b6a0-48f3-a2ea-1b5e97690ca4",
   "metadata": {},
   "source": [
    "## Python Basics Review Exercise"
   ]
  },
  {
   "cell_type": "markdown",
   "id": "3a31eb4e-58fc-4e6a-b86a-3ecfe661d967",
   "metadata": {},
   "source": [
    "### Question 1\n",
    "\n",
    " - Create a new **int**, `var_int`, with the value 12.\n",
    " - Create a new **float**, `var_float`, with the value 0.5.\n",
    " - Create a new **string**, `var_string`, with the value \"Week 2!\".\n",
    " - Create a new **boolean**, `var_bool`, with the value `False`.\n"
   ]
  },
  {
   "cell_type": "code",
   "execution_count": null,
   "id": "fda60f42-5933-4beb-a029-7f7ed0d4f02e",
   "metadata": {},
   "outputs": [],
   "source": [
    "### Write your code below this line by replacing ...\n",
    "..."
   ]
  },
  {
   "cell_type": "markdown",
   "id": "7492e77d-5e01-45cf-9989-5fec64355474",
   "metadata": {},
   "source": [
    "### Question 2\n",
    "\n",
    " - Create a variable `insta_views` with the value of 250.\n",
    " - Check out this variable by typing `print(insta_views)`."
   ]
  },
  {
   "cell_type": "code",
   "execution_count": null,
   "id": "9b9adb4f-b07a-4f00-afde-40c9eb32a8ae",
   "metadata": {},
   "outputs": [],
   "source": [
    "### Write your code below this line by replacing ...\n",
    "..."
   ]
  },
  {
   "cell_type": "markdown",
   "id": "4347f50f-47cc-453b-b0bc-aa98f4e50e2d",
   "metadata": {},
   "source": [
    "### Question 3\n",
    "\n",
    " - Create a variable `views_per_minute`, equal to 7 and `num_minutes`, equal to 360.\n",
    " - Multiply `views_per_minute` by `num_minutes` and assign it to `new_insta_views`.\n",
    " - Print the value of `new_insta_views`."
   ]
  },
  {
   "cell_type": "code",
   "execution_count": null,
   "id": "a26f6721-3990-4cd0-8074-c081e8eed9d8",
   "metadata": {},
   "outputs": [],
   "source": [
    "### Write your code below this line by replacing ...\n",
    "..."
   ]
  },
  {
   "cell_type": "markdown",
   "id": "4ecc2b35-e911-42d7-ad16-85c0254044a5",
   "metadata": {},
   "source": [
    "### Question 4\n",
    "\n",
    " - Create a variable `views_per_minute`, equal to 7 and `num_minutes`, equal to 360.\n",
    " - Multiply `views_per_minute` by `num_minutes` and assign it to `new_insta_views`.\n",
    " - Print the value of `new_insta_views`."
   ]
  },
  {
   "cell_type": "code",
   "execution_count": null,
   "id": "7f64c7fd-6199-4f09-9327-28db47707eff",
   "metadata": {},
   "outputs": [],
   "source": [
    "### Write your code below this line by replacing ...\n",
    "..."
   ]
  },
  {
   "cell_type": "markdown",
   "id": "60d237e0-ad26-4cd4-ad62-6e0d371c7fc7",
   "metadata": {},
   "source": [
    "### Question 5\n",
    "\n",
    " - Create a list, `social_media`, that contains the number of minutes spent on Instagram (`insta`), Snapchat (`snap`), Tiktok (`tiktok`), Facebook (`facebook`) and X (`x`), in this order. Use the predefined variables.\n",
    " - Print areas with the `print()` function.\n"
   ]
  },
  {
   "cell_type": "code",
   "execution_count": null,
   "id": "6bdf519c-48dd-47ae-b9de-45eea93bda7f",
   "metadata": {},
   "outputs": [],
   "source": [
    "insta = 240\n",
    "snap = 120\n",
    "tiktok = 30\n",
    "facebook = 5\n",
    "x = 150\n",
    "### Write your code below this line by replacing ...\n",
    "..."
   ]
  },
  {
   "cell_type": "markdown",
   "id": "99f3e23b-f2b6-49ff-ab0d-b769e4a46265",
   "metadata": {},
   "source": [
    "### Question 6\n",
    "\n",
    " - Use `print()` in combination with type() to print out the type of `social_media`.\n",
    " - Use `len()` to get the length of the list `social_media`. \n",
    " - Use `int()` to convert `fb_active` to an integer. Store the output as `fb_active2`.\n",
    " - Use `float()` to convert `fb_minutes` to a float. Store the output as `fb_minutes2`.\n"
   ]
  },
  {
   "cell_type": "code",
   "execution_count": null,
   "id": "8e9448c5-37d9-40c4-8785-ea0c511f682f",
   "metadata": {},
   "outputs": [],
   "source": [
    "fb_active = True\n",
    "fb_minutes = \"120.5\"\n",
    "### Write your code below this line by replacing ...\n",
    "..."
   ]
  },
  {
   "cell_type": "markdown",
   "id": "ddce1f0a-5c2a-4831-9d7a-d9929c30271e",
   "metadata": {},
   "source": [
    "### Question 7\n",
    "\n",
    " - Use `sorted()` function to sort `social_media` in descending order, i.e., highest value first, and store it in a new variable `social_media_sorted`.\n",
    " - Use `help()` or `?` to figure out the **documentation** of `sorted()` function"
   ]
  },
  {
   "cell_type": "code",
   "execution_count": null,
   "id": "c360ae7b-860a-4311-9e62-39d9f6b91f48",
   "metadata": {},
   "outputs": [],
   "source": [
    "### Write your code below this line by replacing ...\n",
    "..."
   ]
  },
  {
   "cell_type": "markdown",
   "id": "b71f7330-7876-4bf1-b066-e98c35ed01b1",
   "metadata": {},
   "source": [
    "### Question 8\n",
    "\n",
    "The list `fb_usage_2024` contains the number of minutes spent on Facebook by a user per day in the year 2024, starting from January 1, ending in December 31.\n",
    "\n",
    " - Use `.index()` method to find the index of the first element in the list `fb_usage_2024` that is equal to **200** \n",
    " - Use `.count()` method to count the number of times the value **135** appears in the list `fb_usage_2024`\n",
    " - Use `help()` or `?` to figure out the **documentation** of `sorted()` function"
   ]
  },
  {
   "cell_type": "code",
   "execution_count": null,
   "id": "49d65980-b5a6-4f0a-90e0-0c16449babda",
   "metadata": {},
   "outputs": [],
   "source": [
    "fb_usage_2024 = [100,  80, 100,  95,  95,  95, 135,  10,  55,  90,  50, 195,  75,\n",
    "                          120,  50,  75, 230,   5, 235, 240, 105,  60, 175,  65, 210,  60,\n",
    "                          115,  15, 195,  90, 130,  25,  35, 140,   0, 210,   0, 125, 195,\n",
    "                          80,  45,  60, 205,   0,  80, 150,  45, 210, 200, 140, 155, 235,\n",
    "                          165,  30, 220, 165,   0,  95,  70,   0,  80, 235,  25,  45, 170,\n",
    "                          25,  75, 170, 100, 145, 195, 150, 225, 165,  40, 180,  55,  25,\n",
    "                          170, 200, 240, 110, 245,  70,  30,  25, 100, 225,  70,  20, 150,\n",
    "                          135,  50,  95,  15,  35, 205,  85, 235, 100,  70, 185, 220, 225,\n",
    "                          35, 130, 125,  25,  20, 125, 205, 125, 125, 110, 180, 245, 190,\n",
    "                          200, 170, 125, 185,  90, 190, 240,  15,  40,  65, 165,   0,  45,\n",
    "                          180, 105, 180, 240,  70,  65,  45, 220,  90,  25, 230,  75,  35,\n",
    "                          90, 225, 225, 190, 110, 120, 100, 120, 220, 180, 215, 245, 240,\n",
    "                          25, 155,  95, 100, 175,  80, 170,  80, 215, 190, 135,  20,  60,\n",
    "                          60,  90, 180, 145, 155, 185, 125,  80,  65,   5, 155, 105, 230,\n",
    "                          10, 170,  85,  55, 215,  25, 170,  15, 120, 170, 145, 135,  10,\n",
    "                          225, 150,  55, 215, 100, 145,  85, 155,  65, 170, 105,  95, 115,\n",
    "                          90,  80, 170, 160, 125, 210, 145,   0, 165,  35,  45,  90, 145,\n",
    "                          55, 165,  95, 235,  15,   0, 225,  95,  90,  95, 150, 155, 125,\n",
    "                          85, 185, 195, 170, 190,   0, 190, 200, 105,  85, 210,  70, 100,\n",
    "                          220,  55, 210,  70, 165, 185, 220, 150, 230, 155,   0,  15, 205,\n",
    "                          110, 175, 240,  80,  65, 245,  70,  10,  95,  65, 190,  45,  55,\n",
    "                          145, 110,  15,  30, 155,  40, 155, 150, 150,  75,  40, 190, 180,\n",
    "                          65, 135,   5, 160,  75, 215, 210,  25,  20, 130, 115,  40, 105,\n",
    "                          215, 215,  40, 115, 200, 165,  35, 185, 235, 125,  50, 175,  45,\n",
    "                          155, 200,  40, 100, 125,  55,  35, 115, 135, 135,  70, 100, 240, \n",
    "                          40, 240, 125,   0, 235,   0,  95,  30,  65, 105, 130,  85,   0, \n",
    "                          0, 135, 205,  25,  75, 165,  80,  25, 115, 145,   5,  10,  80,\n",
    "                          235, 135, 240, 125, 240, 110, 245,  80, 220, 230, 155, 155, 200, 165,  65]\n",
    "\n",
    "### Write your code below this line by replacing ...\n",
    "..."
   ]
  },
  {
   "cell_type": "markdown",
   "id": "d268a40f-9326-4413-b5d0-b56926d9775f",
   "metadata": {},
   "source": [
    "### Question 9\n",
    "\n",
    " - Import `numpy` as `np`\n",
    " - Import the mathematical constant `e` from package `math`\n",
    " - Import the `pyplot` subpackage of the `matplotlib` package as `plt`"
   ]
  },
  {
   "cell_type": "code",
   "execution_count": null,
   "id": "7f4dd250-8e19-460e-9022-0d3c23f53ec3",
   "metadata": {},
   "outputs": [],
   "source": [
    "### Write your code below this line by replacing ...\n",
    "..."
   ]
  },
  {
   "cell_type": "markdown",
   "id": "f4a904dc-fa4a-498a-9a16-6d117cdec6f8",
   "metadata": {},
   "source": [
    "### Question 10\n",
    "\n",
    "Consider the following two lists, `list1` and `list2`.\n",
    "\n",
    " - Make a new list `list_plus` by using the `+` operator between `list1` and `list2`\n",
    " - Convert `list1` to numpy array `np1`, and `list2` to numpy array `np2`\n",
    " - Make a new numpy array `np_plus` by using the `+` operator between `np1` and `np2`\n",
    " - Convert `list_plus` to numpy array `np3`, and run the following expression: `np3 + np_plus`"
   ]
  },
  {
   "cell_type": "code",
   "execution_count": null,
   "id": "30342863-1492-4c75-b966-85a7baba06c3",
   "metadata": {},
   "outputs": [],
   "source": [
    "list1 = [40.0, 23, True, 1]\n",
    "list2 = [False, 12.3, 1, 20]\n",
    "### Write your code below this line by replacing ...\n",
    "..."
   ]
  },
  {
   "cell_type": "markdown",
   "id": "3207f6e5-986e-42d8-8e37-c053421bf800",
   "metadata": {},
   "source": [
    "### Question 11\n",
    "\n",
    " - Convert `fb_usage_2024` to a numpy array called `fb_usage_2024_np`\n",
    " - Print the type of `fb_usage_2024_np` to ensure that it is a numpy array"
   ]
  },
  {
   "cell_type": "code",
   "execution_count": null,
   "id": "3bac75b0-22c9-4785-b501-dfee5494b3c1",
   "metadata": {},
   "outputs": [],
   "source": [
    "### Write your code below this line by replacing ...\n",
    "..."
   ]
  },
  {
   "cell_type": "markdown",
   "id": "54eaa7ce-1a34-4d80-b48f-6dd1484aa550",
   "metadata": {},
   "source": [
    "### Question 12\n",
    "\n",
    " - Print out a sub-array of `fb_usage_2024_np` that contains the elements at index 21 up to and including index 194.\n",
    " - The first element in `fb_usage_2024_np` corresponds to Facebook usage on Jan 1, 2024, the second element corresponds to Jan 2, so on and so forth. Make a new numpy array `fb_march_to_june` with the sub-array of `fb_usage_2024_np` that contains the Facebook usage from dates **March 1, 2024** to **June 30, 2024.** "
   ]
  },
  {
   "cell_type": "code",
   "execution_count": null,
   "id": "443f92b7-67a1-41cb-8a41-70e28c4abccc",
   "metadata": {},
   "outputs": [],
   "source": [
    "### Write your code below this line by replacing ...\n",
    "..."
   ]
  },
  {
   "cell_type": "markdown",
   "id": "447bc03e-59c2-48ba-9acf-49c9e9328cac",
   "metadata": {},
   "source": [
    "### Question 13\n",
    "\n",
    "You are tracking the number of news alerts you receive on your phone everyday in the morning, afternoon, evening, and night. Here is what you gathered from last week, where for each day you have the number of news alerts received in the `[morning, afternoon, evening, and night]`:\n",
    "\n",
    " - Monday: `[7, 0, 5, 2]`\n",
    " - Tuesday: `[5, 1, 0, 1]`\n",
    " - Wednesday: `[2, 0, 4, 2]`\n",
    " - Thursday: `[4, 1, 3, 1]`\n",
    " - Friday: `[6, 1, 3, 1]`\n",
    "\n",
    "Make a 2D numpy array called `news_alerts` in which each row has data from each day, in sequence. "
   ]
  },
  {
   "cell_type": "code",
   "execution_count": null,
   "id": "1e8c57ed-2569-4118-9eb2-8ecd093a8cec",
   "metadata": {},
   "outputs": [],
   "source": [
    "### Write your code below this line by replacing ...\n",
    "..."
   ]
  },
  {
   "cell_type": "markdown",
   "id": "4c2855e7-4c1e-42fd-b5d8-c393ee8f6752",
   "metadata": {},
   "source": [
    "### Question 14\n",
    "\n",
    "Write the code that will subset `news_alerts` to print the following array:\n",
    "\n",
    "```\n",
    "array([[1, 0, 1],\n",
    "       [0, 4, 2],\n",
    "       [1, 3, 1]])\n",
    "```"
   ]
  },
  {
   "cell_type": "code",
   "execution_count": null,
   "id": "c578a8d5-bcc0-4499-b0e5-e284deb1d1da",
   "metadata": {},
   "outputs": [],
   "source": [
    "### Write your code below this line by replacing ...\n",
    "..."
   ]
  },
  {
   "cell_type": "markdown",
   "id": "948def82-7e21-4e79-8da1-586dbc54144f",
   "metadata": {},
   "source": [
    "### Question 15\n",
    "\n",
    " - Create a new variable `evenings` by indexing the third column of `news_alerts`\n",
    " - Print out the mean of `evenings`\n",
    " - Print out the median of `evenings`"
   ]
  },
  {
   "cell_type": "code",
   "execution_count": null,
   "id": "6979db40-d88c-494e-b147-0619de62b0f1",
   "metadata": {},
   "outputs": [],
   "source": [
    "### Write your code below this line by replacing ...\n",
    "..."
   ]
  },
  {
   "cell_type": "markdown",
   "id": "8f60a9fb-dbe8-4f0a-aab2-6648819224de",
   "metadata": {},
   "source": [
    "### Question 16\n",
    "\n",
    "You have been notified that you have incorrectly measuring your afternoon news alerts. To correct your data, you need to make the following changes to your data\n",
    "\n",
    " - Monday: Add 2 more news alerts\n",
    " - Tuesday: Add 3 more news alerts\n",
    " - Wednesday: Add 1 more news alert\n",
    " - Thursday: stays the same\n",
    " - Friday: Add 5 more news alerts\n",
    "\n",
    "Make a new numpy array `update` which has the values outlined above in sequence. Then, add it to the second column of `news_alerts` and print it."
   ]
  },
  {
   "cell_type": "code",
   "execution_count": null,
   "id": "99e272e9-de94-4adc-92ff-389dff5d7354",
   "metadata": {},
   "outputs": [],
   "source": [
    "### Write your code below this line by replacing ...\n",
    "..."
   ]
  }
 ],
 "metadata": {
  "kernelspec": {
   "display_name": "Python 3 (ipykernel)",
   "language": "python",
   "name": "python3"
  },
  "language_info": {
   "codemirror_mode": {
    "name": "ipython",
    "version": 3
   },
   "file_extension": ".py",
   "mimetype": "text/x-python",
   "name": "python",
   "nbconvert_exporter": "python",
   "pygments_lexer": "ipython3",
   "version": "3.12.9"
  }
 },
 "nbformat": 4,
 "nbformat_minor": 5
}
