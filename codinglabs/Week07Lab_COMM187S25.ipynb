{
 "cells": [
  {
   "cell_type": "markdown",
   "metadata": {},
   "source": [
    "# COMM 187: Data Science in Communication Research\n",
    "# Spring 2025\n",
    "\n",
    "## Week #7: Data Visualization using matplotlib\n",
    "**Monday, May 21, 2025**"
   ]
  },
  {
   "cell_type": "markdown",
   "metadata": {},
   "source": [
    "Welcome to the Coding Lab #7 for COMM 187: Data Science in Communication Research! \n",
    "\n",
    "Today's lesson plan:\n",
    " - Grouping data in `pandas`\n",
    " - Data Visualization using `matlpotlib`\n",
    " - Practice with histograms, scatterplots, \n",
    " - How to save a visualization\n",
    "\n",
    "Today's lessons are based on the following online resources (feel free to try them out yourselves too!):\n",
    " - https://wesmckinney.com/book/pandas-basics\n",
    " - https://wesmckinney.com/book/plotting-and-visualization"
   ]
  },
  {
   "cell_type": "markdown",
   "metadata": {},
   "source": [
    "### Grouping data in `pandas` using `groupby`"
   ]
  },
  {
   "cell_type": "code",
   "execution_count": null,
   "metadata": {},
   "outputs": [],
   "source": [
    "import pandas as pd\n",
    "import numpy as np"
   ]
  },
  {
   "cell_type": "code",
   "execution_count": null,
   "metadata": {},
   "outputs": [],
   "source": [
    "df['Major_category'].unique()"
   ]
  },
  {
   "cell_type": "code",
   "execution_count": null,
   "metadata": {},
   "outputs": [],
   "source": [
    "df = pd.read_csv('./data/recent-grads.csv')"
   ]
  },
  {
   "cell_type": "markdown",
   "metadata": {},
   "source": [
    "Instead of calculating the aforementioned statistics for all of the data, if I want to calculate these statistics, let us say, for all the different majors. I would then have to subset the data by each major and calculate the summary statistics for each major. That is a very long process!\n",
    "\n",
    "Instead, we can \"group\" the data based on the values of a column (for e.g., the \"Major_category\" column) and perform the same statistic across all groups. We do this operation using `.groupby()` function. \n",
    "\n",
    "Learn more about how to use `.groupby()` here: https://www.geeksforgeeks.org/python-pandas-dataframe-groupby/ \n",
    "\n",
    "Using the tutorial linked here, discuss with your table how to solve the following questions:\n",
    "\n",
    "**Question 1.** Use `.groupby()` function to group the DataFrame based on the column “Major_category”. "
   ]
  },
  {
   "cell_type": "code",
   "execution_count": null,
   "metadata": {},
   "outputs": [],
   "source": [
    "### Your code below this line\n",
    "df.groupby('Major_category')"
   ]
  },
  {
   "cell_type": "markdown",
   "metadata": {},
   "source": [
    "**Question 2.** Use `.groupby()` function to group the DataFrame based on the column “Major_category”, and select only the \"Income\" column. "
   ]
  },
  {
   "cell_type": "code",
   "execution_count": null,
   "metadata": {},
   "outputs": [],
   "source": [
    "### Your code below this line\n",
    "df.groupby('Major_category')['Income']"
   ]
  },
  {
   "cell_type": "markdown",
   "metadata": {},
   "source": [
    "**Question 3.** Use `.groupby()` function and `.mean()` together to print the mean income for each “Major_category” group. "
   ]
  },
  {
   "cell_type": "code",
   "execution_count": null,
   "metadata": {},
   "outputs": [],
   "source": [
    "### Your code below this line\n",
    "df.groupby('Major_category')['Income'].mean()"
   ]
  },
  {
   "cell_type": "markdown",
   "metadata": {},
   "source": [
    "**Question 4.** Use `.groupby()` function, `.mean()` function, and `.sort_values()` together to print the mean income for each “Major_category” group sorted in descending order of the mean incomes. "
   ]
  },
  {
   "cell_type": "code",
   "execution_count": null,
   "metadata": {},
   "outputs": [],
   "source": [
    "### Your code below this line\n",
    "df.groupby('Major_category')['Income'].mean().sort_values(ascending=False)"
   ]
  },
  {
   "cell_type": "markdown",
   "metadata": {},
   "source": [
    "**Question 5.** Use `.groupby()` function, `.median()` function, and `.sort_values()` together to print the median income for each “Major_category” group sorted in descending order of the mean incomes. "
   ]
  },
  {
   "cell_type": "code",
   "execution_count": null,
   "metadata": {},
   "outputs": [],
   "source": [
    "### Your code below this line\n",
    "df.groupby('Major_category')['Income'].median().sort_values(ascending=False)"
   ]
  },
  {
   "cell_type": "markdown",
   "metadata": {},
   "source": [
    "### Practice"
   ]
  },
  {
   "cell_type": "markdown",
   "metadata": {},
   "source": [
    "Identify the top 3 major categories with the highest average unemployment rates and provide the standard deviation for the unemployment rate within those categories. Use `.groupby()`, `.mean()`, `.std()`, and `.sort_values()`."
   ]
  },
  {
   "cell_type": "code",
   "execution_count": null,
   "metadata": {
    "scrolled": true
   },
   "outputs": [],
   "source": [
    "### Your code below this line\n"
   ]
  },
  {
   "cell_type": "markdown",
   "metadata": {},
   "source": [
    "### Data Visualization using `matplotlib`"
   ]
  },
  {
   "cell_type": "markdown",
   "metadata": {},
   "source": [
    "As practiced in the Datacamp Module #3, we will use `matplotlib` package to create visualizations of data and statistics in Python. Specifically, we will be using the `pyplot` subpackage. Just as we have been using numpy as np and pandas as pd, and use the alias `plt` for `matplotlib.pyplot`."
   ]
  },
  {
   "cell_type": "code",
   "execution_count": null,
   "metadata": {
    "id": "4TyLjdcTsSzx"
   },
   "outputs": [],
   "source": [
    "import matplotlib.pyplot as plt"
   ]
  },
  {
   "cell_type": "markdown",
   "metadata": {},
   "source": [
    "We are going to practice the following types of plots today:\n",
    "\n",
    " - **Histograms** -- for visualizing data distribution and description\n",
    " - **Scatterplots** -- for visualizing relationships between two variables\n",
    " - **Box plots** -- for visualizing difference in means between groups"
   ]
  },
  {
   "cell_type": "markdown",
   "metadata": {
    "id": "AW7DdXwHsrpV"
   },
   "source": [
    "### **Histograms**\n",
    "\n",
    "A histogram shows the distribution of data. In this example, we’ll plot the distribution of Major Category values. The hist() function requires at least one parameter, an array containing the data to be binned.\n",
    "\n",
    "A bin represents a range of values into which the data is grouped. Each bin corresponds to a bar in the histogram, showing the count (or frequency) of data points that fall within that range.\n",
    "The number of bins affects the level of detail in the histogram:\n",
    "\n",
    "- More bins create narrower ranges, showing more detail about small variations in the data.\n",
    "- Fewer bins create broader ranges, giving a more general overview of the data distribution.\n",
    "\n",
    "**Step 1:** Create a simple histogram."
   ]
  },
  {
   "cell_type": "code",
   "execution_count": null,
   "metadata": {
    "colab": {
     "base_uri": "https://localhost:8080/",
     "height": 430
    },
    "id": "n1U0Qyro5FB4",
    "outputId": "e7625b2c-1011-4c63-b511-c35407e08b34"
   },
   "outputs": [],
   "source": [
    "plt.hist(df[\"Major_category\"])\n",
    "plt.show()"
   ]
  },
  {
   "cell_type": "markdown",
   "metadata": {
    "id": "3JGBf8_wmSy0"
   },
   "source": [
    "**Step 2:** Customize Your Histogram\n",
    "\n",
    "Just like line plots, `matplotlib` allows you to customize histograms. You can add a title and change colors.  \n",
    "\n",
    "On additional color feature is `edgecolors`. This will add a border color around each bar, making them more distinct.\n"
   ]
  },
  {
   "cell_type": "code",
   "execution_count": null,
   "metadata": {
    "colab": {
     "base_uri": "https://localhost:8080/",
     "height": 472
    },
    "id": "7YmJOBPiJ9Mv",
    "outputId": "2c1abd67-32f0-490b-bd15-1b019e58e4d9"
   },
   "outputs": [],
   "source": [
    "plt.hist(df['Major_category'], color='purple', edgecolor='black' )\n",
    "plt.title(\"Distribution of Major categories\")\n",
    "plt.xlabel(\"Major Category\")\n",
    "plt.ylabel(\"Frequency\")\n",
    "plt.show()"
   ]
  },
  {
   "cell_type": "markdown",
   "metadata": {
    "id": "CawNJXy1KPRD"
   },
   "source": [
    "You may also want to modify the size of bins in a histogram to improve understanding for your viewers.\n",
    "\n",
    "`bins`: Changes the number of bars or bins in the histogram. The default is usually 10, but this can be adjusted based on the data."
   ]
  },
  {
   "cell_type": "code",
   "execution_count": null,
   "metadata": {
    "colab": {
     "base_uri": "https://localhost:8080/",
     "height": 472
    },
    "id": "7YmJOBPiJ9Mv",
    "outputId": "2c1abd67-32f0-490b-bd15-1b019e58e4d9"
   },
   "outputs": [],
   "source": [
    "plt.hist(df['Major_category'], bins=5, color='purple', edgecolor='black' )\n",
    "plt.title(\"Distribution of Major categories\")\n",
    "plt.xlabel(\"Major Category\")\n",
    "plt.ylabel(\"Frequency\")\n",
    "plt.show()"
   ]
  },
  {
   "cell_type": "markdown",
   "metadata": {
    "id": "rb8B0VJhswKI"
   },
   "source": [
    "### **Scatterplots**\n",
    "\n",
    "A scatter plot is used to visualize the relationship between two variables where each point is one observation. This type of plot is made using the `scatter()` function. It needs two arrays of the same length, one for the values of the x-axis, and one for values on the y-axis. It’s helpful for identifying trends, clusters, or outliers.\n",
    "\n",
    "In this example, we’ll plot speed on the x-axis and attack on the y-axis.\n",
    "\n",
    "**Step 1:** Create a simple Scatterplot.\n",
    "\n"
   ]
  },
  {
   "cell_type": "code",
   "execution_count": null,
   "metadata": {
    "colab": {
     "base_uri": "https://localhost:8080/",
     "height": 430
    },
    "id": "_OaYYqsEzncJ",
    "outputId": "45493c1d-c6c9-4230-90d3-7f065d3b19c8"
   },
   "outputs": [],
   "source": [
    "plt.scatter(df[\"Men\"], df[\"Women\"])\n",
    "plt.show()"
   ]
  },
  {
   "cell_type": "markdown",
   "metadata": {
    "id": "ucgsDm6RdTH_"
   },
   "source": [
    "**Step 2**: Let's customize our figure so that it is easier to interpret.\n",
    "\n",
    "`plt.scatter()` can use the same arguments to make labels and titles and change colors and marker types.\n"
   ]
  },
  {
   "cell_type": "code",
   "execution_count": null,
   "metadata": {
    "colab": {
     "base_uri": "https://localhost:8080/",
     "height": 472
    },
    "id": "o7-Z7WIYdSH7",
    "outputId": "ed3fb6eb-931c-47ad-a308-805642f88a49"
   },
   "outputs": [],
   "source": [
    "plt.scatter(df['Men'], df['Women'], color='green', marker='*')\n",
    "plt.xlabel('Men')\n",
    "plt.ylabel('Women')\n",
    "plt.title('Men vs. Women in the dataset')\n",
    "plt.show()"
   ]
  },
  {
   "cell_type": "markdown",
   "metadata": {
    "id": "GbvKrj8QSN45"
   },
   "source": [
    "**Try it for yourself!** Make a scatterplot between Share_women and Undemployment_rate."
   ]
  },
  {
   "cell_type": "code",
   "execution_count": null,
   "metadata": {
    "id": "X7U0EE7tNTfJ"
   },
   "outputs": [],
   "source": [
    "### Write your code below (in place of ...)\n",
    "..."
   ]
  },
  {
   "cell_type": "markdown",
   "metadata": {
    "id": "y4NtJJrsNVXC"
   },
   "source": [
    "##### More Scatterplot Customization\n",
    "**Adjusting Size of Points**: Unlike simple line plots, `plt.scatter()` does not have a `ms` function to modify size. Instead, you need to use `s` to increase the size of scatterplot points.\n"
   ]
  },
  {
   "cell_type": "code",
   "execution_count": null,
   "metadata": {
    "colab": {
     "base_uri": "https://localhost:8080/",
     "height": 472
    },
    "id": "o7-Z7WIYdSH7",
    "outputId": "ed3fb6eb-931c-47ad-a308-805642f88a49"
   },
   "outputs": [],
   "source": [
    "plt.scatter(df['Men'], df['Women'], color='green', marker='*', s = 300)\n",
    "plt.xlabel('Men')\n",
    "plt.ylabel('Women')\n",
    "plt.title('Men vs. Women in the dataset')\n",
    "plt.show()"
   ]
  },
  {
   "cell_type": "markdown",
   "metadata": {
    "id": "x0ad4FuuN3Ux"
   },
   "source": [
    "**Adjusting Transparency**: Sometimes when you have a large dataset, points on a scatterplot can overlap making it diffuclt to get a full understanding of your data. If this occurs you may want to adjust transparency using `alpha`. The closer your value is to 1 the darker (less transparent) your points will be. The closer your value is to 0 the lighter (more transparent) your points will be.\n"
   ]
  },
  {
   "cell_type": "code",
   "execution_count": null,
   "metadata": {
    "colab": {
     "base_uri": "https://localhost:8080/",
     "height": 472
    },
    "id": "o7-Z7WIYdSH7",
    "outputId": "ed3fb6eb-931c-47ad-a308-805642f88a49"
   },
   "outputs": [],
   "source": [
    "plt.scatter(df['Men'], df['Women'], color='green', marker='*', s = 300, alpha = 0.5)\n",
    "plt.xlabel('Men')\n",
    "plt.ylabel('Women')\n",
    "plt.title('Men vs. Women in the dataset')\n",
    "plt.show()"
   ]
  }
 ],
 "metadata": {
  "colab": {
   "provenance": [],
   "toc_visible": true
  },
  "kernelspec": {
   "display_name": "Python 3 (ipykernel)",
   "language": "python",
   "name": "python3"
  },
  "language_info": {
   "codemirror_mode": {
    "name": "ipython",
    "version": 3
   },
   "file_extension": ".py",
   "mimetype": "text/x-python",
   "name": "python",
   "nbconvert_exporter": "python",
   "pygments_lexer": "ipython3",
   "version": "3.12.9"
  }
 },
 "nbformat": 4,
 "nbformat_minor": 4
}
