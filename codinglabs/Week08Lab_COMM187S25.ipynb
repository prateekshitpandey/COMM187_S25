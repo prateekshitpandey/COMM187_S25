{
 "cells": [
  {
   "cell_type": "markdown",
   "metadata": {},
   "source": [
    "# COMM 187: Data Science in Communication Research\n",
    "# Spring 2025\n",
    "\n",
    "## Week #8: Data Visualization using seaborn\n",
    "**Monday, May 19, 2025**"
   ]
  },
  {
   "cell_type": "markdown",
   "metadata": {},
   "source": [
    "Welcome to the Week #8 Coding Lab for COMM 187: Data Science in Communication Research! \n",
    "\n",
    "Today's lesson plan:\n",
    " - Introduction to `seaborn`\n",
    " - Box and whisker plots\n",
    " - Joint plots "
   ]
  },
  {
   "cell_type": "markdown",
   "metadata": {},
   "source": [
    "Last week we learned the following types of plots:\n",
    "\n",
    " - **Histograms** -- for visualizing data distribution and description\n",
    " - **Scatterplots** -- for visualizing relationships between two variables\n",
    "\n",
    "This week, we will learn the following types:\n",
    " - **Box plots** -- for visualizing difference in means between groups; ideal for visualizing t-tests and ANOVA\n",
    " - **Joint plots** -- for visualizing association between two variables; ideal for correlations and regression"
   ]
  },
  {
   "cell_type": "code",
   "execution_count": null,
   "metadata": {},
   "outputs": [],
   "source": [
    "import pandas as pd\n",
    "import numpy as np\n",
    "import matplotlib.pyplot as plt"
   ]
  },
  {
   "cell_type": "markdown",
   "metadata": {},
   "source": [
    "### Introduction to `seaborn`\n",
    "\n",
    "Seaborn is a data visualization Python package built on top of `matplotlib`. It provides a high-level interface for creating informative and good-looking statistical visualizations. \n",
    "\n",
    "As with any package, the first step is to import it! Typically, the alias used for seaborn is `sns`. "
   ]
  },
  {
   "cell_type": "code",
   "execution_count": null,
   "metadata": {},
   "outputs": [],
   "source": [
    "import seaborn as sns"
   ]
  },
  {
   "cell_type": "markdown",
   "metadata": {},
   "source": [
    "This week, we will work with the college majors and earnings dataset like last week. Let's load the dataset."
   ]
  },
  {
   "cell_type": "code",
   "execution_count": null,
   "metadata": {},
   "outputs": [],
   "source": [
    "df = pd.read_csv('./data/recent-grads.csv')"
   ]
  },
  {
   "cell_type": "markdown",
   "metadata": {},
   "source": [
    "As discussed in previous weeks, a good first step always is to look at the first few rows of the dataset using the `.head()` method to get an idea of what the data \"looks\" like. Let's do that here."
   ]
  },
  {
   "cell_type": "code",
   "execution_count": null,
   "metadata": {},
   "outputs": [],
   "source": [
    "df.head()"
   ]
  },
  {
   "cell_type": "markdown",
   "metadata": {
    "id": "AW7DdXwHsrpV"
   },
   "source": [
    "### **Box Plots**\n",
    "\n",
    "**Box plots**, or box-and-whisker plots, visually summarize the distribution of a dataset. They display the median, quartiles, and potential outliers. \n",
    "\n",
    "The **box** represents the interquartile range (IQR), with the **lower and upper edges** at the **first (Q1)** and **third quartiles (Q3)**. The line inside the box marks the median (Q2). **Whiskers** extend from the box to the smallest and largest values within **1.5 * IQR** from Q1 and Q3. Points outside this range are considered outliers. Box plots highlight central tendency, variability, and outliers effectively.\n",
    "\n",
    "![](./imgs/boxplot_explanation.jpg)\n",
    "\n",
    "[Image source](https://builtin.com/data-science/boxplot)"
   ]
  },
  {
   "cell_type": "markdown",
   "metadata": {},
   "source": [
    "Box plots are a great way to visualize statistical comparison between two or more variables!\n",
    "\n",
    "Let us make a boxplot figure for the percentage of White and Black population across all regions, using the function `boxplot` from `seaborn` library. For more details, read the documentation [here](https://seaborn.pydata.org/generated/seaborn.boxplot.html). Here are the basic parameters of the boxplot function you need to know:\n",
    "\n",
    "| Parameter | Description |\n",
    "|-----------|-------------|\n",
    "| `data` | The dataset you want to plot (DataFrame, array, etc.) |\n",
    "| `x` | The variable to show on the x-axis |\n",
    "| `y` | The variable to show on the y-axis |\n",
    "| `hue` | Optional third variable for grouping data with different colors |\n",
    "| `ax` | The matplotlib axes to draw the plot on (usually leave this alone) |\n",
    "| `color` | Single color for all elements in the plot |\n",
    "| `palette` | Set of colors to use when `hue` is specified |\n",
    "| `width` | How wide each box should be (0.8 = 80% of available space) |\n",
    "| `orient` | Which way the boxes should face (\"v\"=vertical, \"h\"=horizontal) |\n",
    "| `fill` | Whether to fill boxes with color (`True`) or just show outlines (`False`) |\n",
    "| `dodge` | Whether to shift boxes sideways when using `hue` to avoid overlap |\n",
    "| `gap` | Space to add between boxes (0 = no gap) |\n"
   ]
  },
  {
   "cell_type": "code",
   "execution_count": null,
   "metadata": {},
   "outputs": [],
   "source": [
    "df.columns"
   ]
  },
  {
   "cell_type": "code",
   "execution_count": null,
   "metadata": {},
   "outputs": [],
   "source": [
    "# Set figure size (optional)\n",
    "plt.figure(figsize=(12, 8))\n",
    "\n",
    "# Create boxplot using seaborn (sns) boxplot function\n",
    "sns.boxplot(data=df, x='Major_category', y='Income')\n",
    "\n",
    "plt.show()"
   ]
  },
  {
   "cell_type": "markdown",
   "metadata": {},
   "source": [
    "The x-axis labels are overlapping with each other! How do we fix that? \n",
    "\n",
    "We can use the `rotation` parameterin the `xticks` from matplotlib, by specifying the angle with which you would like to \"rotate\" the labels for \"tick-marks\" on the x axis. The default rotation is 0 degrees, and 90 degrees means that the text would be vertically presented. We will go with somewhere in between: 45 degrees. "
   ]
  },
  {
   "cell_type": "code",
   "execution_count": null,
   "metadata": {},
   "outputs": [],
   "source": [
    "plt.figure(figsize=(12, 8))\n",
    "sns.boxplot(data=df, x='Major_category', y='Income')\n",
    "\n",
    "# Rotate x-axis labels for readability\n",
    "plt.xticks(rotation=45, ha='right')\n",
    "\n",
    "plt.show()"
   ]
  },
  {
   "cell_type": "markdown",
   "metadata": {},
   "source": [
    "Let's add x-axis label, y-axis label, and a title. "
   ]
  },
  {
   "cell_type": "code",
   "execution_count": null,
   "metadata": {},
   "outputs": [],
   "source": [
    "plt.figure(figsize=(12, 8))\n",
    "sns.boxplot(data=df, x='Major_category', y='Income')\n",
    "plt.xticks(rotation=45, ha='right')\n",
    "\n",
    "# Add labels and title\n",
    "plt.xlabel('Major Category')\n",
    "plt.ylabel('Median Income ($)')\n",
    "plt.title('Income Distribution by Major Category')\n",
    "\n",
    "plt.show()"
   ]
  },
  {
   "cell_type": "markdown",
   "metadata": {},
   "source": [
    "#### Practice Question 1\n",
    "Create a boxplot showing the difference in unemployment rates by major category, with red boxes and horizontal orientation. \n",
    "\n",
    "**Note:** if you were conducting an ANOVA analysis for the difference in unemployment rates across major categories, this would be the visualization you would choose to visually represent your ANOVA analysis.\n",
    "\n",
    "**Steps:**\n",
    "1. Create a boxplot with Major_category on y-axis and Unemployment_rate on x-axis\n",
    "2. Make the boxes red\n",
    "3. Set the orientation to horizontal\n",
    "4. Add appropriate labels and title"
   ]
  },
  {
   "cell_type": "code",
   "execution_count": null,
   "metadata": {},
   "outputs": [],
   "source": [
    "### Your code below this line\n"
   ]
  },
  {
   "cell_type": "markdown",
   "metadata": {},
   "source": [
    "#### Practice Question 2\n",
    "Create a boxplot showing the difference in income for the major categories \"Health\", \"Arts\", and \"Communication & Journalism\"."
   ]
  },
  {
   "cell_type": "code",
   "execution_count": null,
   "metadata": {},
   "outputs": [],
   "source": [
    "### Your code below this line\n"
   ]
  },
  {
   "cell_type": "markdown",
   "metadata": {
    "id": "AW7DdXwHsrpV"
   },
   "source": [
    "### **Joint Plots**\n",
    "\n",
    "In the last lab, we learned how to visualize scatterplot to visualize the relationship between two variables. However, scatter plots do not effectively show the magnitude and direction of the correlation between two variables. Remember the plot we discussed in class from this article? Here, in addition to the scatterplot, a **line** helped us visualize the nature of association between the two variables. \n",
    "\n",
    "To accomplish this simply, we can use regression jointplots using seaborn's `jointplot` function.\n",
    "\n",
    "**What is a Jointplot?** A jointplot combines:\n",
    "\n",
    " - A main scatter plot showing the relationship between two variables\n",
    " - Marginal distributions on the sides (histograms or KDE plots)\n",
    "\n",
    "When using `kind=\"reg\"`, it adds a regression line to show the linear relationship between variables.  "
   ]
  },
  {
   "cell_type": "markdown",
   "metadata": {},
   "source": [
    "Let's create a jointplot showing the relationship between median income and unemployment rate. First, let's just plot the data without a line."
   ]
  },
  {
   "cell_type": "code",
   "execution_count": null,
   "metadata": {
    "scrolled": true
   },
   "outputs": [],
   "source": [
    "sns.jointplot(data=df, x='Unemployment_rate', y='Income')\n",
    "\n",
    "plt.show()"
   ]
  },
  {
   "cell_type": "markdown",
   "metadata": {},
   "source": [
    "We created a jointplot with sns.jointplot() specifying:\n",
    "\n",
    " - `data`: Our dataframe\n",
    " - `x` and `y`: Our variables of interest"
   ]
  },
  {
   "cell_type": "markdown",
   "metadata": {},
   "source": [
    "Great! What if we want the color to be different for different college majors? Let's try that with the `hue` parameter."
   ]
  },
  {
   "cell_type": "code",
   "execution_count": null,
   "metadata": {},
   "outputs": [],
   "source": [
    "sns.jointplot(data=df, x='Unemployment_rate', y='Income', hue='Major_category')\n",
    "\n",
    "plt.show()"
   ]
  },
  {
   "cell_type": "markdown",
   "metadata": {},
   "source": [
    "Now, instead of different colors, we want all the points to have the same color. Let's try that with the `color` parameter and change the data points to the color purple. "
   ]
  },
  {
   "cell_type": "code",
   "execution_count": null,
   "metadata": {},
   "outputs": [],
   "source": [
    "sns.jointplot(data=df, x='Unemployment_rate', y='Income', color = 'purple')\n",
    "\n",
    "plt.show()"
   ]
  },
  {
   "cell_type": "markdown",
   "metadata": {},
   "source": [
    "**IMPORTANT** Now, we want to add a line to this plot. We can do this by setting the parameter `kind` to `reg`. What does this mean? It adds a \"regression line\" to the scatter plot, which helps us see the magnitude (slope) and direction (positive or negative) of the relationship between the two variables."
   ]
  },
  {
   "cell_type": "code",
   "execution_count": null,
   "metadata": {},
   "outputs": [],
   "source": [
    "sns.jointplot(data=df, x='Unemployment_rate', y='Income', kind='reg', color = 'purple')\n",
    "\n",
    "plt.show()"
   ]
  },
  {
   "cell_type": "markdown",
   "metadata": {},
   "source": [
    "Great! Let's now add a title using the `plt.title` function."
   ]
  },
  {
   "cell_type": "code",
   "execution_count": null,
   "metadata": {},
   "outputs": [],
   "source": [
    "sns.jointplot(data=df, x='Unemployment_rate', y='Income', kind='reg', color = 'purple')\n",
    "\n",
    "# Add title\n",
    "plt.title('Relationship Between Employment Rate and Income')\n",
    "\n",
    "plt.show()"
   ]
  },
  {
   "cell_type": "markdown",
   "metadata": {},
   "source": [
    "Given the special configuration of this plot type, the title appears at an inconvenient location. Let's locate it above the plot using the `suptitle` function from matplotlib, which puts a \"super\" title at the top center of the figure."
   ]
  },
  {
   "cell_type": "code",
   "execution_count": null,
   "metadata": {},
   "outputs": [],
   "source": [
    "sns.jointplot(data=df, x='Unemployment_rate', y='Income', kind='reg', color = 'purple')\n",
    "\n",
    "# Add title\n",
    "plt.suptitle('Relationship Between Employment Rate and Income')\n",
    "\n",
    "plt.show()"
   ]
  },
  {
   "cell_type": "markdown",
   "metadata": {},
   "source": [
    "#### Practice Question 3\n",
    "\n",
    "Create a jointplot showing the relationship between the percentage of women in a major (`ShareWomen`) and median income (`Income`)."
   ]
  },
  {
   "cell_type": "code",
   "execution_count": null,
   "metadata": {},
   "outputs": [],
   "source": [
    "### Your code below this line\n"
   ]
  }
 ],
 "metadata": {
  "colab": {
   "provenance": [],
   "toc_visible": true
  },
  "kernelspec": {
   "display_name": "Python 3 (ipykernel)",
   "language": "python",
   "name": "python3"
  },
  "language_info": {
   "codemirror_mode": {
    "name": "ipython",
    "version": 3
   },
   "file_extension": ".py",
   "mimetype": "text/x-python",
   "name": "python",
   "nbconvert_exporter": "python",
   "pygments_lexer": "ipython3",
   "version": "3.12.9"
  }
 },
 "nbformat": 4,
 "nbformat_minor": 4
}
