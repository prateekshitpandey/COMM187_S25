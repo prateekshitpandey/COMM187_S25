{
 "cells": [
  {
   "cell_type": "markdown",
   "id": "533ac834-ae77-4da2-b96b-de2be9ef1089",
   "metadata": {},
   "source": [
    "# COMM 187: Data Science in Communication Research\n",
    "# Spring 2025\n",
    "\n",
    "## Week #2 Coding Lab: Python Fundamentals\n",
    "**Monday, April 7, 2025**"
   ]
  },
  {
   "cell_type": "markdown",
   "id": "f923a686-e95b-42f7-ab43-ebdf1e795cbe",
   "metadata": {},
   "source": [
    "Welcome to the first Coding Lab for **COMM 187: Data Science in Communication Research!**\n",
    "\n",
    "Today's lesson plan:\n",
    " - Python Basics Review: Lists, Functions, Packages, and NumPy"
   ]
  },
  {
   "cell_type": "markdown",
   "id": "4b2aff0b-3759-4beb-9e0f-7b493bb9de7c",
   "metadata": {},
   "source": [
    "## What is Jupyterhub?"
   ]
  },
  {
   "cell_type": "markdown",
   "id": "de2ba821-51cc-4b68-87b8-e6d8b26a4711",
   "metadata": {},
   "source": [
    "To write and execute Python code, you need a platform or software which helps you do that. **Jupyter** is one such interactive platform for Python programming. Jupyter's name is a reference to the three core programming languages supported by Jupyter, which are **Ju**lia, **Pyt**hon and **R**! On Jupyter, you can write code and execute its output right underneath it. More importantly, Jupyter can be hosted on a server, which means that the code runs on the server and not your computer. This is helpful for us, because we do not need to install anything on our computers, and we can simply write and execute Python code using Jupyter.\n",
    "\n",
    "What you are currently viewing this on is the Jupyter**Lab** environment. Here, you can have multiple tabs open, with different types of coding environments, along with a side bar (on the left side of the screen) which displays a file system. "
   ]
  },
  {
   "cell_type": "markdown",
   "id": "a18e06e5-255d-4117-8dc6-38c446126320",
   "metadata": {},
   "source": [
    "### Jupyter Notebooks\n",
    "\n",
    "The Jupyter Notebook is at the heart of what Jupyter offers as a platform -- it is an interactive document for code, text, data visualizations, and other output. This document you are reading right now is a notebook too! \n",
    "\n",
    "Jupyter Notebooks are organized into cells. You might have noticed that the text in this notebook thus far has been organized into \"chunks\", which are indicated by a blue ribbon on the left margin. These \"chunks\" are called cells, and can be of three types:\n",
    "\n",
    "1. **Raw:** This is raw, unformatted text.\n",
    "2. **Markdown:** This is a piece of text formatted using Markdown, which is a markup language used to add formatting to text. HTML is another markup language!\n",
    "4. **Code:** As the name says, this is a piece of code which can be executed!"
   ]
  },
  {
   "cell_type": "markdown",
   "id": "d1e23c75-ba2b-4b94-b914-124dcb399426",
   "metadata": {},
   "source": [
    "Look at the top ribbon, you might see the following icons:\n",
    "\n",
    "![ribbon](./imgs/JupyterlabRibbon.png)"
   ]
  },
  {
   "cell_type": "markdown",
   "id": "5a37c193-aade-440a-afca-803415a5dc6f",
   "metadata": {},
   "source": [
    "You can use the `+` sign to add a new cell to this notebook."
   ]
  },
  {
   "cell_type": "markdown",
   "id": "c7908050-712e-4a47-a708-4d608cf378c6",
   "metadata": {},
   "source": [
    "Now, if you click on \"Markdown\", you will see three options emerge: Code, Markdown, and Raw.\n",
    "\n",
    "![CellOptions](./imgs/JupyterlabCellOptions.png)\n",
    "\n",
    "Try out these different cell types, and see what it looks like to type in cells of different types. \\\n",
    "Do the colors and formatting of the texts change in different cell types?"
   ]
  },
  {
   "cell_type": "markdown",
   "id": "d1a96b8a-550d-4211-a97c-b706a786bf50",
   "metadata": {},
   "source": [
    "### Let us write some code!"
   ]
  },
  {
   "cell_type": "markdown",
   "id": "7f183535-2c8b-4d91-af76-aa43bec64eca",
   "metadata": {},
   "source": [
    "Follow these steps: \n",
    "\n",
    "1. Use the `+` button in the top ribbon to make a new cell below\n",
    "2. Write the following in it: `1+1`\n",
    "3. Execute the cell (either use the play button on the top ribbon or the shortcut!)"
   ]
  },
  {
   "cell_type": "code",
   "execution_count": 1,
   "id": "fae083a2-cc8d-418d-8fbb-ac32556ff1c3",
   "metadata": {},
   "outputs": [
    {
     "data": {
      "text/plain": [
       "2"
      ]
     },
     "execution_count": 1,
     "metadata": {},
     "output_type": "execute_result"
    }
   ],
   "source": [
    "1+1"
   ]
  },
  {
   "cell_type": "markdown",
   "id": "7fe48002-619d-497a-977f-c8623796a69e",
   "metadata": {},
   "source": [
    "**TIP:** You can execute a cell by using the following shortcut: Ctrl + Enter (on Windows), Command + Enter (on Mac)"
   ]
  },
  {
   "cell_type": "markdown",
   "id": "ba9521bf-b6a0-48f3-a2ea-1b5e97690ca4",
   "metadata": {},
   "source": [
    "## Python Basics Review Exercise"
   ]
  },
  {
   "cell_type": "markdown",
   "id": "3a31eb4e-58fc-4e6a-b86a-3ecfe661d967",
   "metadata": {},
   "source": [
    "### Question 1\n",
    "\n",
    " - Create a new **int**, `var_int`, with the value 12.\n",
    " - Create a new **float**, `var_float`, with the value 0.5.\n",
    " - Create a new **string**, `var_string`, with the value \"Week 2!\".\n",
    " - Create a new **boolean**, `var_bool`, with the value `False`.\n"
   ]
  },
  {
   "cell_type": "code",
   "execution_count": 2,
   "id": "fda60f42-5933-4beb-a029-7f7ed0d4f02e",
   "metadata": {},
   "outputs": [],
   "source": [
    "### Write your code below this line by replacing ...\n",
    "var_int = 12\n",
    "var_float = 0.5\n",
    "var_string = \"Week 2!\"\n",
    "var_bool = False"
   ]
  },
  {
   "cell_type": "markdown",
   "id": "7492e77d-5e01-45cf-9989-5fec64355474",
   "metadata": {},
   "source": [
    "### Question 2\n",
    "\n",
    " - Create a variable `insta_views` with the value of 250.\n",
    " - Check out this variable by typing `print(insta_views)`."
   ]
  },
  {
   "cell_type": "code",
   "execution_count": 3,
   "id": "9b9adb4f-b07a-4f00-afde-40c9eb32a8ae",
   "metadata": {},
   "outputs": [
    {
     "name": "stdout",
     "output_type": "stream",
     "text": [
      "250\n"
     ]
    }
   ],
   "source": [
    "### Write your code below this line by replacing ...\n",
    "insta_views = 250\n",
    "print(insta_views)"
   ]
  },
  {
   "cell_type": "markdown",
   "id": "4347f50f-47cc-453b-b0bc-aa98f4e50e2d",
   "metadata": {},
   "source": [
    "### Question 3\n",
    "\n",
    " - Create a variable `views_per_minute`, equal to 7 and `num_minutes`, equal to 360.\n",
    " - Multiply `views_per_minute` by `num_minutes` and assign it to `new_insta_views`.\n",
    " - Print the value of `new_insta_views`."
   ]
  },
  {
   "cell_type": "code",
   "execution_count": 5,
   "id": "a26f6721-3990-4cd0-8074-c081e8eed9d8",
   "metadata": {},
   "outputs": [
    {
     "name": "stdout",
     "output_type": "stream",
     "text": [
      "2520\n"
     ]
    }
   ],
   "source": [
    "### Write your code below this line by replacing ...\n",
    "views_per_minute = 7\n",
    "num_minutes = 360\n",
    "new_insta_views = views_per_minute*num_minutes\n",
    "print(new_insta_views)"
   ]
  },
  {
   "cell_type": "markdown",
   "id": "4ecc2b35-e911-42d7-ad16-85c0254044a5",
   "metadata": {},
   "source": [
    "### Question 4\n",
    "\n",
    " - Create a variable `views_per_minute`, equal to 7 and `num_minutes`, equal to 360.\n",
    " - Multiply `views_per_minute` by `num_minutes` and assign it to `new_insta_views`.\n",
    " - Print the value of `new_insta_views`."
   ]
  },
  {
   "cell_type": "code",
   "execution_count": 5,
   "id": "f1a52eaa-5451-4c70-9e75-cba8596e60d8",
   "metadata": {},
   "outputs": [
    {
     "name": "stdout",
     "output_type": "stream",
     "text": [
      "2520\n"
     ]
    }
   ],
   "source": [
    "### Write your code below this line by replacing ...\n",
    "views_per_minute = 7\n",
    "num_minutes = 360\n",
    "new_insta_views = views_per_minute*num_minutes\n",
    "print(new_insta_views)"
   ]
  },
  {
   "cell_type": "markdown",
   "id": "60d237e0-ad26-4cd4-ad62-6e0d371c7fc7",
   "metadata": {},
   "source": [
    "### Question 5\n",
    "\n",
    " - Create a list, `social_media`, that contains the number of minutes spent on Instagram (`insta`), Snapchat (`snap`), Tiktok (`tiktok`), Facebook (`facebook`) and X (`x`), in this order. Use the predefined variables.\n",
    " - Print areas with the `print()` function.\n"
   ]
  },
  {
   "cell_type": "code",
   "execution_count": 6,
   "id": "6bdf519c-48dd-47ae-b9de-45eea93bda7f",
   "metadata": {},
   "outputs": [
    {
     "name": "stdout",
     "output_type": "stream",
     "text": [
      "[240, 120, 30, 5, 150]\n"
     ]
    }
   ],
   "source": [
    "insta = 240\n",
    "snap = 120\n",
    "tiktok = 30\n",
    "facebook = 5\n",
    "x = 150\n",
    "### Write your code below this line by replacing ...\n",
    "social_media = [insta, snap, tiktok, facebook, x]\n",
    "print(social_media)"
   ]
  },
  {
   "cell_type": "markdown",
   "id": "99f3e23b-f2b6-49ff-ab0d-b769e4a46265",
   "metadata": {},
   "source": [
    "### Question 6\n",
    "\n",
    " - Use `print()` in combination with type() to print out the type of `social_media`.\n",
    " - Use `len()` to get the length of the list `social_media`. \n",
    " - Use `int()` to convert `fb_active` to an integer. Store the output as `fb_active2`.\n",
    " - Use `float()` to convert `fb_minutes` to a float. Store the output as `fb_minutes2`.\n"
   ]
  },
  {
   "cell_type": "code",
   "execution_count": 7,
   "id": "8e9448c5-37d9-40c4-8785-ea0c511f682f",
   "metadata": {},
   "outputs": [
    {
     "name": "stdout",
     "output_type": "stream",
     "text": [
      "<class 'list'>\n"
     ]
    }
   ],
   "source": [
    "fb_active = True\n",
    "fb_minutes = \"120.5\"\n",
    "### Write your code below this line by replacing ...\n",
    "print(type(social_media))"
   ]
  },
  {
   "cell_type": "code",
   "execution_count": 8,
   "id": "2517d242-f6c6-4f38-baad-08c9fd6ad1d1",
   "metadata": {},
   "outputs": [
    {
     "data": {
      "text/plain": [
       "5"
      ]
     },
     "execution_count": 8,
     "metadata": {},
     "output_type": "execute_result"
    }
   ],
   "source": [
    "len(social_media)"
   ]
  },
  {
   "cell_type": "code",
   "execution_count": 10,
   "id": "ca2a6849-bc5c-459d-89f1-e0f7a73af9dd",
   "metadata": {},
   "outputs": [],
   "source": [
    "fb_active2 = int(fb_active)"
   ]
  },
  {
   "cell_type": "code",
   "execution_count": 11,
   "id": "a35a405b-01c1-494d-8b15-d5662e1e2759",
   "metadata": {},
   "outputs": [
    {
     "name": "stdout",
     "output_type": "stream",
     "text": [
      "120.5\n"
     ]
    }
   ],
   "source": [
    "fb_minutes2 = float(fb_minutes)\n",
    "print(fb_minutes2)"
   ]
  },
  {
   "cell_type": "markdown",
   "id": "ddce1f0a-5c2a-4831-9d7a-d9929c30271e",
   "metadata": {},
   "source": [
    "### Question 7\n",
    "\n",
    " - Use `sorted()` function to sort `social_media` in descending order, i.e., highest value first, and store it in a new variable `social_media_sorted`.\n",
    " - Use `help()` or `?` to figure out the **documentation** of `sorted()` function"
   ]
  },
  {
   "cell_type": "code",
   "execution_count": 13,
   "id": "c360ae7b-860a-4311-9e62-39d9f6b91f48",
   "metadata": {},
   "outputs": [
    {
     "name": "stdout",
     "output_type": "stream",
     "text": [
      "[240, 150, 120, 30, 5]\n"
     ]
    }
   ],
   "source": [
    "### Write your code below this line by replacing ...\n",
    "social_media_sorted = sorted(social_media, reverse=True)\n",
    "print(social_media_sorted)"
   ]
  },
  {
   "cell_type": "code",
   "execution_count": 14,
   "id": "4601a571-078f-4561-bc44-9fedadb42602",
   "metadata": {},
   "outputs": [
    {
     "data": {
      "text/plain": [
       "\u001b[31mSignature:\u001b[39m sorted(iterable, /, *, key=\u001b[38;5;28;01mNone\u001b[39;00m, reverse=\u001b[38;5;28;01mFalse\u001b[39;00m)\n",
       "\u001b[31mDocstring:\u001b[39m\n",
       "Return a new list containing all items from the iterable in ascending order.\n",
       "\n",
       "A custom key function can be supplied to customize the sort order, and the\n",
       "reverse flag can be set to request the result in descending order.\n",
       "\u001b[31mType:\u001b[39m      builtin_function_or_method"
      ]
     },
     "metadata": {},
     "output_type": "display_data"
    }
   ],
   "source": [
    "?sorted"
   ]
  },
  {
   "cell_type": "markdown",
   "id": "b71f7330-7876-4bf1-b066-e98c35ed01b1",
   "metadata": {},
   "source": [
    "### Question 8\n",
    "\n",
    "The list `fb_usage_2024` contains the number of minutes spent on Facebook by a user per day in the year 2024, starting from January 1, ending in December 31.\n",
    "\n",
    " - Use `.index()` method to find the index of the first element in the list `fb_usage_2024` that is equal to **200** \n",
    " - Use `.count()` method to count the number of times the value **135** appears in the list `fb_usage_2024`\n",
    " - Use `help()` or `?` to figure out the **documentation** of `.index()` method by typing `?fb_usage_2024.index`. Same for `.count()` method."
   ]
  },
  {
   "cell_type": "code",
   "execution_count": 1,
   "id": "49d65980-b5a6-4f0a-90e0-0c16449babda",
   "metadata": {},
   "outputs": [
    {
     "name": "stdout",
     "output_type": "stream",
     "text": [
      "48\n",
      "9\n"
     ]
    }
   ],
   "source": [
    "fb_usage_2024 = [100,  80, 100,  95,  95,  95, 135,  10,  55,  90,  50, 195,  75,\n",
    "                          120,  50,  75, 230,   5, 235, 240, 105,  60, 175,  65, 210,  60,\n",
    "                          115,  15, 195,  90, 130,  25,  35, 140,   0, 210,   0, 125, 195,\n",
    "                          80,  45,  60, 205,   0,  80, 150,  45, 210, 200, 140, 155, 235,\n",
    "                          165,  30, 220, 165,   0,  95,  70,   0,  80, 235,  25,  45, 170,\n",
    "                          25,  75, 170, 100, 145, 195, 150, 225, 165,  40, 180,  55,  25,\n",
    "                          170, 200, 240, 110, 245,  70,  30,  25, 100, 225,  70,  20, 150,\n",
    "                          135,  50,  95,  15,  35, 205,  85, 235, 100,  70, 185, 220, 225,\n",
    "                          35, 130, 125,  25,  20, 125, 205, 125, 125, 110, 180, 245, 190,\n",
    "                          200, 170, 125, 185,  90, 190, 240,  15,  40,  65, 165,   0,  45,\n",
    "                          180, 105, 180, 240,  70,  65,  45, 220,  90,  25, 230,  75,  35,\n",
    "                          90, 225, 225, 190, 110, 120, 100, 120, 220, 180, 215, 245, 240,\n",
    "                          25, 155,  95, 100, 175,  80, 170,  80, 215, 190, 135,  20,  60,\n",
    "                          60,  90, 180, 145, 155, 185, 125,  80,  65,   5, 155, 105, 230,\n",
    "                          10, 170,  85,  55, 215,  25, 170,  15, 120, 170, 145, 135,  10,\n",
    "                          225, 150,  55, 215, 100, 145,  85, 155,  65, 170, 105,  95, 115,\n",
    "                          90,  80, 170, 160, 125, 210, 145,   0, 165,  35,  45,  90, 145,\n",
    "                          55, 165,  95, 235,  15,   0, 225,  95,  90,  95, 150, 155, 125,\n",
    "                          85, 185, 195, 170, 190,   0, 190, 200, 105,  85, 210,  70, 100,\n",
    "                          220,  55, 210,  70, 165, 185, 220, 150, 230, 155,   0,  15, 205,\n",
    "                          110, 175, 240,  80,  65, 245,  70,  10,  95,  65, 190,  45,  55,\n",
    "                          145, 110,  15,  30, 155,  40, 155, 150, 150,  75,  40, 190, 180,\n",
    "                          65, 135,   5, 160,  75, 215, 210,  25,  20, 130, 115,  40, 105,\n",
    "                          215, 215,  40, 115, 200, 165,  35, 185, 235, 125,  50, 175,  45,\n",
    "                          155, 200,  40, 100, 125,  55,  35, 115, 135, 135,  70, 100, 240, \n",
    "                          40, 240, 125,   0, 235,   0,  95,  30,  65, 105, 130,  85,   0, \n",
    "                          0, 135, 205,  25,  75, 165,  80,  25, 115, 145,   5,  10,  80,\n",
    "                          235, 135, 240, 125, 240, 110, 245,  80, 220, 230, 155, 155, 200, 165,  65]\n",
    "\n",
    "### Write your code below this line by replacing ...\n",
    "print(fb_usage_2024.index(200))\n",
    "print(fb_usage_2024.count(135))"
   ]
  },
  {
   "cell_type": "code",
   "execution_count": 5,
   "id": "e3eb6aba-49b7-480f-b262-24c1fc429e83",
   "metadata": {},
   "outputs": [
    {
     "data": {
      "text/plain": [
       "\u001b[31mSignature:\u001b[39m fb_usage_2024.index(value, start=\u001b[32m0\u001b[39m, stop=\u001b[32m9223372036854775807\u001b[39m, /)\n",
       "\u001b[31mDocstring:\u001b[39m\n",
       "Return first index of value.\n",
       "\n",
       "Raises ValueError if the value is not present.\n",
       "\u001b[31mType:\u001b[39m      builtin_function_or_method"
      ]
     },
     "metadata": {},
     "output_type": "display_data"
    }
   ],
   "source": [
    "?fb_usage_2024.index"
   ]
  },
  {
   "cell_type": "markdown",
   "id": "d268a40f-9326-4413-b5d0-b56926d9775f",
   "metadata": {},
   "source": [
    "### Question 9\n",
    "\n",
    " - Import `numpy` as `np`\n",
    " - Import the mathematical constant `e` from package `math`\n",
    " - Import the `pyplot` subpackage of the `matplotlib` package as `plt`"
   ]
  },
  {
   "cell_type": "code",
   "execution_count": 6,
   "id": "7f4dd250-8e19-460e-9022-0d3c23f53ec3",
   "metadata": {},
   "outputs": [],
   "source": [
    "### Write your code below this line by replacing ...\n",
    "import numpy as np\n",
    "from math import e\n",
    "from matplotlib import pyplot as plt"
   ]
  },
  {
   "cell_type": "markdown",
   "id": "f4a904dc-fa4a-498a-9a16-6d117cdec6f8",
   "metadata": {},
   "source": [
    "### Question 10\n",
    "\n",
    "Consider the following two lists, `list1` and `list2`.\n",
    "\n",
    " - Make a new list `list_plus` by using the `+` operator between `list1` and `list2`\n",
    " - Convert `list1` to numpy array `np1`, and `list2` to numpy array `np2`\n",
    " - Make a new numpy array `np_plus` by using the `+` operator between `np1` and `np2`\n",
    " - Convert `list_plus` to numpy array `np3`, and run the following expression: `np3 + np_plus`"
   ]
  },
  {
   "cell_type": "code",
   "execution_count": 14,
   "id": "30342863-1492-4c75-b966-85a7baba06c3",
   "metadata": {},
   "outputs": [
    {
     "name": "stdout",
     "output_type": "stream",
     "text": [
      "[40.0, 23, True, 1, False, 12.3, 1, 20]\n"
     ]
    }
   ],
   "source": [
    "list1 = [40.0, 23, True, 1]\n",
    "list2 = [False, 12.3, 1, 20]\n",
    "### Write your code below this line by replacing ...\n",
    "list_plus = list1 + list2\n",
    "print(list_plus)"
   ]
  },
  {
   "cell_type": "code",
   "execution_count": 15,
   "id": "f2eae0fe-e071-4674-a757-5fda459e8781",
   "metadata": {},
   "outputs": [
    {
     "name": "stdout",
     "output_type": "stream",
     "text": [
      "[40. 23.  1.  1.]\n",
      "[ 0.  12.3  1.  20. ]\n"
     ]
    }
   ],
   "source": [
    "np1 = np.array(list1)\n",
    "np2 = np.array(list2)\n",
    "print(np1)\n",
    "print(np2)"
   ]
  },
  {
   "cell_type": "code",
   "execution_count": 16,
   "id": "f5ef9cc5-da7f-4a71-bbb1-a9198cc4daac",
   "metadata": {},
   "outputs": [
    {
     "name": "stdout",
     "output_type": "stream",
     "text": [
      "[40.  35.3  2.  21. ]\n"
     ]
    }
   ],
   "source": [
    "np_plus = np1 + np2\n",
    "print(np_plus)"
   ]
  },
  {
   "cell_type": "code",
   "execution_count": 17,
   "id": "b82cfe7d-97d3-4255-8403-4e632852db54",
   "metadata": {},
   "outputs": [
    {
     "name": "stdout",
     "output_type": "stream",
     "text": [
      "[40.  23.   1.   1.   0.  12.3  1.  20. ]\n"
     ]
    }
   ],
   "source": [
    "np3 = np.array(list_plus)\n",
    "print(np3)"
   ]
  },
  {
   "cell_type": "code",
   "execution_count": 13,
   "id": "c4baa48e-13fd-4cd5-8176-dd64426f90ad",
   "metadata": {},
   "outputs": [
    {
     "ename": "ValueError",
     "evalue": "operands could not be broadcast together with shapes (8,) (4,) ",
     "output_type": "error",
     "traceback": [
      "\u001b[31m---------------------------------------------------------------------------\u001b[39m",
      "\u001b[31mValueError\u001b[39m                                Traceback (most recent call last)",
      "\u001b[36mCell\u001b[39m\u001b[36m \u001b[39m\u001b[32mIn[13]\u001b[39m\u001b[32m, line 1\u001b[39m\n\u001b[32m----> \u001b[39m\u001b[32m1\u001b[39m \u001b[43mnp3\u001b[49m\u001b[43m \u001b[49m\u001b[43m+\u001b[49m\u001b[43m \u001b[49m\u001b[43mnp_plus\u001b[49m\n",
      "\u001b[31mValueError\u001b[39m: operands could not be broadcast together with shapes (8,) (4,) "
     ]
    }
   ],
   "source": [
    "np3 + np_plus"
   ]
  },
  {
   "cell_type": "markdown",
   "id": "0e4abb57-e9db-4877-b639-8444e574e34a",
   "metadata": {},
   "source": [
    "<span style=\"color:red\">**INSTRUCTOR NOTE:** You receive an error here because you cannot add numpy arrays of different sizes.</span>"
   ]
  },
  {
   "cell_type": "markdown",
   "id": "3207f6e5-986e-42d8-8e37-c053421bf800",
   "metadata": {},
   "source": [
    "### Question 11\n",
    "\n",
    " - Convert `fb_usage_2024` to a numpy array called `fb_usage_2024_np`\n",
    " - Print the type of `fb_usage_2024_np` to ensure that it is a numpy array"
   ]
  },
  {
   "cell_type": "code",
   "execution_count": 19,
   "id": "3bac75b0-22c9-4785-b501-dfee5494b3c1",
   "metadata": {},
   "outputs": [
    {
     "name": "stdout",
     "output_type": "stream",
     "text": [
      "<class 'numpy.ndarray'>\n"
     ]
    }
   ],
   "source": [
    "### Write your code below this line by replacing ...\n",
    "fb_usage_2024_np = np.array(fb_usage_2024)\n",
    "print(type(fb_usage_2024_np))"
   ]
  },
  {
   "cell_type": "markdown",
   "id": "54eaa7ce-1a34-4d80-b48f-6dd1484aa550",
   "metadata": {},
   "source": [
    "### Question 12\n",
    "\n",
    " - Print out a sub-array of `fb_usage_2024_np` that contains the elements at index 21 up to and including index 194.\n",
    " - The first element in `fb_usage_2024_np` corresponds to Facebook usage on Jan 1, 2024, the second element corresponds to Jan 2, so on and so forth. Make a new numpy array `fb_march_to_june` with the sub-array of `fb_usage_2024_np` that contains the Facebook usage from dates **March 1, 2024** to **June 30, 2024.** "
   ]
  },
  {
   "cell_type": "code",
   "execution_count": 21,
   "id": "443f92b7-67a1-41cb-8a41-70e28c4abccc",
   "metadata": {},
   "outputs": [
    {
     "name": "stdout",
     "output_type": "stream",
     "text": [
      "[ 60 175  65 210  60 115  15 195  90 130  25  35 140   0 210   0 125 195\n",
      "  80  45  60 205   0  80 150  45 210 200 140 155 235 165  30 220 165   0\n",
      "  95  70   0  80 235  25  45 170  25  75 170 100 145 195 150 225 165  40\n",
      " 180  55  25 170 200 240 110 245  70  30  25 100 225  70  20 150 135  50\n",
      "  95  15  35 205  85 235 100  70 185 220 225  35 130 125  25  20 125 205\n",
      " 125 125 110 180 245 190 200 170 125 185  90 190 240  15  40  65 165   0\n",
      "  45 180 105 180 240  70  65  45 220  90  25 230  75  35  90 225 225 190\n",
      " 110 120 100 120 220 180 215 245 240  25 155  95 100 175  80 170  80 215\n",
      " 190 135  20  60  60  90 180 145 155 185 125  80  65   5 155 105 230  10\n",
      " 170  85  55 215  25 170  15 120 170 145 135  10]\n"
     ]
    }
   ],
   "source": [
    "### Write your code below this line by replacing ...\n",
    "print(fb_usage_2024_np[21:195])"
   ]
  },
  {
   "cell_type": "markdown",
   "id": "e951d23a-4423-47c3-9297-55652730807f",
   "metadata": {},
   "source": [
    "For the second part of this question, let's figure out the position in the list for the first day in March:\n",
    "\n",
    "January (31 days) + February (29 days, leap year) + March (1 day)\n",
    "\n",
    "The **index** will be one less than the position. Remember, the first position in the list is at index 0, the second position is at index 1, so on and so forth."
   ]
  },
  {
   "cell_type": "code",
   "execution_count": 22,
   "id": "d47f97e9-bd5d-46b1-9c27-1724ed822e5c",
   "metadata": {},
   "outputs": [],
   "source": [
    "march_1_position = 31 + 29 + 1\n",
    "march_1_index = march_1_position - 1"
   ]
  },
  {
   "cell_type": "markdown",
   "id": "ca98d7b9-af78-43e8-a969-3c08897d0da2",
   "metadata": {},
   "source": [
    "Now, let's figure out the position, and then index, in the list for the last day in June:\n",
    "\n",
    "January (31 days) + February (29 days, leap year) + March (31 days) + April (30 days) + May (31 days) + June (30 days)"
   ]
  },
  {
   "cell_type": "code",
   "execution_count": 23,
   "id": "abbf111b-4a4d-44c6-aeeb-193f83a1a793",
   "metadata": {},
   "outputs": [],
   "source": [
    "june_30_position = 31 + 29 + 31 + 30 + 31 + 30\n",
    "june_30_index = june_30_position - 1"
   ]
  },
  {
   "cell_type": "markdown",
   "id": "f34d9d53-6d8b-4445-bc69-61cfd581a211",
   "metadata": {},
   "source": [
    "Now, let's use these indices to slice the list and create `fb_march_to_june`. \n",
    "\n",
    "Note that we are using `june_30_index+1` as the stop index, because we want to include the data for the 30th day of June."
   ]
  },
  {
   "cell_type": "code",
   "execution_count": 27,
   "id": "58ddb604-2b7d-4e4e-8e2c-833ffa5ad9ab",
   "metadata": {},
   "outputs": [
    {
     "name": "stdout",
     "output_type": "stream",
     "text": [
      "[ 80 235  25  45 170  25  75 170 100 145 195 150 225 165  40 180  55  25\n",
      " 170 200 240 110 245  70  30  25 100 225  70  20 150 135  50  95  15  35\n",
      " 205  85 235 100  70 185 220 225  35 130 125  25  20 125 205 125 125 110\n",
      " 180 245 190 200 170 125 185  90 190 240  15  40  65 165   0  45 180 105\n",
      " 180 240  70  65  45 220  90  25 230  75  35  90 225 225 190 110 120 100\n",
      " 120 220 180 215 245 240  25 155  95 100 175  80 170  80 215 190 135  20\n",
      "  60  60  90 180 145 155 185 125  80  65   5 155 105 230]\n"
     ]
    }
   ],
   "source": [
    "fb_march_to_june = fb_usage_2024_np[march_1_index:june_30_index+1]\n",
    "print(fb_march_to_june)"
   ]
  },
  {
   "cell_type": "markdown",
   "id": "447bc03e-59c2-48ba-9acf-49c9e9328cac",
   "metadata": {},
   "source": [
    "### Question 13\n",
    "\n",
    "You are tracking the number of news alerts you receive on your phone everyday in the morning, afternoon, evening, and night. Here is what you gathered from last week, where for each day you have the number of news alerts received in the `[morning, afternoon, evening, and night]`:\n",
    "\n",
    " - Monday: `[7, 0, 5, 2]`\n",
    " - Tuesday: `[5, 1, 0, 1]`\n",
    " - Wednesday: `[2, 0, 4, 2]`\n",
    " - Thursday: `[4, 1, 3, 1]`\n",
    " - Friday: `[6, 1, 3, 1]`\n",
    "\n",
    "Make a 2D numpy array called `news_alerts` in which each row has data from each day, in sequence. "
   ]
  },
  {
   "cell_type": "code",
   "execution_count": 43,
   "id": "1e8c57ed-2569-4118-9eb2-8ecd093a8cec",
   "metadata": {},
   "outputs": [],
   "source": [
    "### Write your code below this line by replacing ...\n",
    "news_alerts = np.array([[7, 0, 5, 2],\n",
    "                       [5, 1, 0, 1],\n",
    "                       [2, 0, 4, 2],\n",
    "                       [4, 1, 3, 1],\n",
    "                       [6, 1, 3, 1]])"
   ]
  },
  {
   "cell_type": "code",
   "execution_count": 30,
   "id": "06e2f8be-2068-4ed9-9b21-d888ce95956f",
   "metadata": {},
   "outputs": [
    {
     "name": "stdout",
     "output_type": "stream",
     "text": [
      "[[7 0 5 2]\n",
      " [5 1 0 1]\n",
      " [2 0 4 2]\n",
      " [4 1 3 1]\n",
      " [6 1 3 1]]\n"
     ]
    }
   ],
   "source": [
    "print(news_alerts)"
   ]
  },
  {
   "cell_type": "markdown",
   "id": "4c2855e7-4c1e-42fd-b5d8-c393ee8f6752",
   "metadata": {},
   "source": [
    "### Question 14\n",
    "\n",
    "Write the code that will subset `news_alerts` to print the following array:\n",
    "\n",
    "```\n",
    "array([[1, 0, 1],\n",
    "       [0, 4, 2],\n",
    "       [1, 3, 1]])\n",
    "```"
   ]
  },
  {
   "cell_type": "code",
   "execution_count": 34,
   "id": "c578a8d5-bcc0-4499-b0e5-e284deb1d1da",
   "metadata": {},
   "outputs": [
    {
     "data": {
      "text/plain": [
       "array([[1, 0, 1],\n",
       "       [0, 4, 2],\n",
       "       [1, 3, 1]])"
      ]
     },
     "execution_count": 34,
     "metadata": {},
     "output_type": "execute_result"
    }
   ],
   "source": [
    "### Write your code below this line by replacing ...\n",
    "news_alerts[1:4, 1:4]"
   ]
  },
  {
   "cell_type": "markdown",
   "id": "948def82-7e21-4e79-8da1-586dbc54144f",
   "metadata": {},
   "source": [
    "### Question 15\n",
    "\n",
    " - Create a new variable `evenings` by indexing the third column of `news_alerts`\n",
    " - Print out the mean of `evenings`\n",
    " - Print out the median of `evenings`"
   ]
  },
  {
   "cell_type": "code",
   "execution_count": 38,
   "id": "6979db40-d88c-494e-b147-0619de62b0f1",
   "metadata": {},
   "outputs": [
    {
     "name": "stdout",
     "output_type": "stream",
     "text": [
      "[5 0 4 3 3]\n"
     ]
    }
   ],
   "source": [
    "### Write your code below this line by replacing ...\n",
    "evenings = news_alerts[:,2]\n",
    "print(evenings)"
   ]
  },
  {
   "cell_type": "code",
   "execution_count": 39,
   "id": "60c156ec-8a54-4fc3-acad-ac2ee1055c44",
   "metadata": {},
   "outputs": [
    {
     "data": {
      "text/plain": [
       "np.float64(3.0)"
      ]
     },
     "execution_count": 39,
     "metadata": {},
     "output_type": "execute_result"
    }
   ],
   "source": [
    "np.mean(evenings)"
   ]
  },
  {
   "cell_type": "code",
   "execution_count": 40,
   "id": "103ce3d0-c269-428f-85a1-61f7c2735658",
   "metadata": {},
   "outputs": [
    {
     "data": {
      "text/plain": [
       "np.float64(3.0)"
      ]
     },
     "execution_count": 40,
     "metadata": {},
     "output_type": "execute_result"
    }
   ],
   "source": [
    "np.median(evenings)"
   ]
  },
  {
   "cell_type": "markdown",
   "id": "8f60a9fb-dbe8-4f0a-aab2-6648819224de",
   "metadata": {},
   "source": [
    "### Question 16\n",
    "\n",
    "You have been notified that you have incorrectly measuring your afternoon news alerts. To correct your data, you need to make the following changes to your data\n",
    "\n",
    " - Monday: Add 2 more news alerts\n",
    " - Tuesday: Add 3 more news alerts\n",
    " - Wednesday: Add 1 more news alert\n",
    " - Thursday: stays the same\n",
    " - Friday: Add 5 more news alerts\n",
    "\n",
    "Make a new numpy array `update` which has the values outlined above in sequence. Then, add it to the second column of `news_alerts` and print it."
   ]
  },
  {
   "cell_type": "code",
   "execution_count": 44,
   "id": "99e272e9-de94-4adc-92ff-389dff5d7354",
   "metadata": {},
   "outputs": [],
   "source": [
    "### Write your code below this line by replacing ...\n",
    "update = [2, 3, 1, 0, 5]\n",
    "news_alerts[:,1] = news_alerts[:,1] + update"
   ]
  },
  {
   "cell_type": "code",
   "execution_count": 45,
   "id": "f2d0da60-deea-4b14-a9c2-8d7f070a3845",
   "metadata": {},
   "outputs": [
    {
     "name": "stdout",
     "output_type": "stream",
     "text": [
      "[[7 2 5 2]\n",
      " [5 4 0 1]\n",
      " [2 1 4 2]\n",
      " [4 1 3 1]\n",
      " [6 6 3 1]]\n"
     ]
    }
   ],
   "source": [
    "print(news_alerts)"
   ]
  }
 ],
 "metadata": {
  "kernelspec": {
   "display_name": "Python 3 (ipykernel)",
   "language": "python",
   "name": "python3"
  },
  "language_info": {
   "codemirror_mode": {
    "name": "ipython",
    "version": 3
   },
   "file_extension": ".py",
   "mimetype": "text/x-python",
   "name": "python",
   "nbconvert_exporter": "python",
   "pygments_lexer": "ipython3",
   "version": "3.12.9"
  }
 },
 "nbformat": 4,
 "nbformat_minor": 5
}
