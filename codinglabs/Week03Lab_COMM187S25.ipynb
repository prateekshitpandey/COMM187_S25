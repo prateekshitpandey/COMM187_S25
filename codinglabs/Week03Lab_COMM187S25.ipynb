{
 "cells": [
  {
   "cell_type": "markdown",
   "id": "ac9f18f4-7ce6-4b76-9c85-eff5a7b7e054",
   "metadata": {},
   "source": [
    "# COMM 187: Data Science in Communication Research\n",
    "# Spring 2025\n",
    "\n",
    "## Week #3 Coding Lab: Pandas\n",
    "**Monday, April 14, 2025**"
   ]
  },
  {
   "cell_type": "markdown",
   "id": "b9df9ed6-7a63-4f28-8bc0-d21206d528ad",
   "metadata": {},
   "source": [
    "Welcome to the Week #3 Coding Lab for COMM 187: Data Science in Communication Research! \n",
    "\n",
    "Thus far, we have learned some basic Python skills, including variables, data types, lists, and NumPy.\n",
    "\n",
    "Today's lesson plan:\n",
    " - Dictionaries in Python\n",
    " - Pandas\n",
    " - File Paths\n",
    " - CSV files"
   ]
  },
  {
   "cell_type": "markdown",
   "id": "1f831281-c712-4db8-a023-d93516603f2b",
   "metadata": {},
   "source": [
    "### Dictionaries in Python `dict`"
   ]
  },
  {
   "cell_type": "markdown",
   "id": "193d4886-ea05-4246-a75e-4ad8bb17269b",
   "metadata": {},
   "source": [
    "Going beyond lists and arrays, we will now discuss dictionaries in Python. \\\n",
    "Dictionaries are used to store data values in `key`:`value` pairs.\n",
    "\n",
    "These are just like a real-life dictionary. The `key`s are like the words, and the `value`s are like the meanings of the words."
   ]
  },
  {
   "cell_type": "code",
   "execution_count": null,
   "id": "d7590d8d-0127-42eb-91ce-b5cf44c63e04",
   "metadata": {},
   "outputs": [],
   "source": [
    "thisdict =\t{\"school\": \"UCSB\", \"department\": \"COMM\", \"class\": 187}\n",
    "\n",
    "print(thisdict)"
   ]
  },
  {
   "cell_type": "markdown",
   "id": "eb0545b5-3b55-4c95-82a9-eebe56adba5b",
   "metadata": {},
   "source": [
    "The keys here are `\"school\"`, `\"department\"`, and `\"class\"`."
   ]
  },
  {
   "cell_type": "code",
   "execution_count": null,
   "id": "b4819f56-32f9-4e99-885b-de273a79dcef",
   "metadata": {},
   "outputs": [],
   "source": [
    "thisdict.keys()"
   ]
  },
  {
   "cell_type": "markdown",
   "id": "16a5a558-b342-475b-a906-293c95877147",
   "metadata": {},
   "source": [
    "The values here are `\"UCSB\"`, `\"COMM\"`, and `187`."
   ]
  },
  {
   "cell_type": "code",
   "execution_count": null,
   "id": "35e3ff0c-fc73-4a55-8aca-6a3126d3f21c",
   "metadata": {},
   "outputs": [],
   "source": [
    "thisdict.values()"
   ]
  },
  {
   "cell_type": "markdown",
   "id": "7ff06a31-2a18-48fc-8bb5-8aea6a135ddd",
   "metadata": {},
   "source": [
    "Let's practice!\n",
    "\n",
    "**Question:** Create a dictionary called `student_grades` that stores the names of the following five students as **keys** and their respective grades (out of 100) as **values**. After creating the dictionary, print the dictionary to verify the contents.\n",
    "\n",
    " - Ace: 67\n",
    " - Buck: 98\n",
    " - Chip: 90\n",
    " - Domingo: 71\n",
    " - Echo: 85"
   ]
  },
  {
   "cell_type": "code",
   "execution_count": null,
   "id": "d14add2e-60e1-4cc8-9f4e-26c94dc29d8f",
   "metadata": {},
   "outputs": [],
   "source": [
    "### Your code below this line\n"
   ]
  },
  {
   "cell_type": "markdown",
   "id": "72ce2aaf-897a-4d4c-bc8b-ce54e396de0e",
   "metadata": {},
   "source": [
    "### Pandas"
   ]
  },
  {
   "cell_type": "markdown",
   "id": "ad48022d-41ab-4a50-8cf6-c91df02e746b",
   "metadata": {},
   "source": [
    "Pandas is a fast, powerful, and flexible open-source **data analysis and manipulation tool** built on top of the Python programming language. Mainly it is built using NumPy and Matplotlib, two very important Python libraries. \n",
    "\n",
    "We will start by exploring its basic features."
   ]
  },
  {
   "cell_type": "markdown",
   "id": "c21c3b08-2f19-4cb5-a60b-20b67e4f33fa",
   "metadata": {},
   "source": [
    "#### Importing pandas"
   ]
  },
  {
   "cell_type": "markdown",
   "id": "d4b2df1c-08c6-4a7f-a018-362b5cbdf877",
   "metadata": {},
   "source": [
    "To use pandas, you need to import it first. "
   ]
  },
  {
   "cell_type": "code",
   "execution_count": null,
   "id": "8d05a688-e018-4aa7-8eb6-afdb35f377a6",
   "metadata": {},
   "outputs": [],
   "source": [
    "import pandas"
   ]
  },
  {
   "cell_type": "markdown",
   "id": "183af340-e032-40b1-b073-c140cad7312f",
   "metadata": {},
   "source": [
    "Just as we typically import numpy **as np**, we also typically give pandas the **nickname pd** for ease of coding."
   ]
  },
  {
   "cell_type": "code",
   "execution_count": null,
   "id": "9d45d454-5c47-4a20-a09e-ec8d5a5b7556",
   "metadata": {},
   "outputs": [],
   "source": [
    "import pandas as pd"
   ]
  },
  {
   "cell_type": "markdown",
   "id": "eff14993-415b-4ecd-8819-82270a603e8e",
   "metadata": {},
   "source": [
    "### Data Structures in `pandas`"
   ]
  },
  {
   "cell_type": "markdown",
   "id": "8d7d9d7b-d74d-4196-bca8-cc238564c593",
   "metadata": {},
   "source": [
    "Pandas has two primary data structures: **Series** and **DataFrame**. Let's explore each."
   ]
  },
  {
   "cell_type": "markdown",
   "id": "846fb008-a7fe-446b-b23c-d27e5c5a431f",
   "metadata": {},
   "source": [
    "A Series is a one-dimensional array-like object. It is very similar to, and actually built on top of, numpy arrays!"
   ]
  },
  {
   "cell_type": "code",
   "execution_count": null,
   "id": "7d8c634d-a3e6-4b50-ab1c-7cb763935ecd",
   "metadata": {},
   "outputs": [],
   "source": [
    "## Example of a pandas Series\n",
    "s = pd.Series([1, 2, 3, 4, 5])\n",
    "print(s)"
   ]
  },
  {
   "cell_type": "markdown",
   "id": "26c15535-cec8-4c6c-9b98-af672357bdf7",
   "metadata": {},
   "source": [
    "A pandas series contains to key elements: \\\n",
    "the *array*, and \\\n",
    "the *index*."
   ]
  },
  {
   "cell_type": "code",
   "execution_count": null,
   "id": "feda70fd-c588-4177-9387-1bf6809a3354",
   "metadata": {},
   "outputs": [],
   "source": [
    "s.array"
   ]
  },
  {
   "cell_type": "code",
   "execution_count": null,
   "id": "86ee3607-caa3-4a2f-8841-cd6ac25da10c",
   "metadata": {},
   "outputs": [],
   "source": [
    "s.index"
   ]
  },
  {
   "cell_type": "markdown",
   "id": "6bb6ac05-7571-4038-83c7-20e32d7c3f8d",
   "metadata": {},
   "source": [
    "Now, use indexing on this series. Print the value at index 2:"
   ]
  },
  {
   "cell_type": "code",
   "execution_count": null,
   "id": "55cd61cb-bd5f-471a-a857-a6036ca46ca3",
   "metadata": {},
   "outputs": [],
   "source": [
    "### Your code below this line"
   ]
  },
  {
   "cell_type": "markdown",
   "id": "68e2bb2c-0eca-4e3e-8a8e-3309531342d7",
   "metadata": {},
   "source": [
    "Great!\n",
    "\n",
    "We learnt with lists and numpy arrays that index starts with 0, and ends with N-1, for a list/array of length N. As you just saw, pandas series follows the same logic!\n",
    "\n",
    "Except.\n",
    "\n",
    "You can make the index to be whatever you want. With pandas series, your index can be any label you want to use for every item in your series, even text!\n",
    "\n",
    "Let us play with an example."
   ]
  },
  {
   "cell_type": "code",
   "execution_count": null,
   "id": "7a6f829d-c9e7-4e96-80ca-e53c8cd4ed14",
   "metadata": {},
   "outputs": [],
   "source": [
    "s2 = pd.Series([1, 2, 3, 4, 5], index=[\"a\", \"b\", \"c\", \"d\", \"e\"])"
   ]
  },
  {
   "cell_type": "code",
   "execution_count": null,
   "id": "4611dc9f-b5de-4c02-8ad4-9eb11a6cfb1a",
   "metadata": {},
   "outputs": [],
   "source": [
    "s.array"
   ]
  },
  {
   "cell_type": "code",
   "execution_count": null,
   "id": "6e577c35-6cfa-497b-b45f-e39a58a24ead",
   "metadata": {},
   "outputs": [],
   "source": [
    "s.index"
   ]
  },
  {
   "cell_type": "markdown",
   "id": "0e628dbe-e54a-4651-ad79-20faf88b9a93",
   "metadata": {},
   "source": [
    "Now, print the value of series `s2` at index `\"c\"` \\\n",
    "Hint: Use indexing as you normally do, just replace the index number with this new index!"
   ]
  },
  {
   "cell_type": "code",
   "execution_count": null,
   "id": "eed62200-3bee-40a0-9b7a-eb87af4f0c3f",
   "metadata": {},
   "outputs": [],
   "source": [
    "### Your code below this line"
   ]
  },
  {
   "cell_type": "markdown",
   "id": "e83c3d6a-fa48-49d3-ac67-c65989c91fdd",
   "metadata": {},
   "source": [
    "#### DataFrame"
   ]
  },
  {
   "cell_type": "markdown",
   "id": "7ddf9909-e5d4-4544-878c-6c3702e85c9e",
   "metadata": {},
   "source": [
    "A DataFrame is a two-dimensional data structure, like a table of data."
   ]
  },
  {
   "cell_type": "code",
   "execution_count": null,
   "id": "087a6f04-d65e-4dd8-8c2b-eb549b328c53",
   "metadata": {},
   "outputs": [],
   "source": [
    "# Example of a pandas DataFrame\n",
    "df = pd.DataFrame({'A': [1, 2, 3], 'B': [4, 5, 6]})\n",
    "print(df)"
   ]
  },
  {
   "cell_type": "markdown",
   "id": "3b49cf48-2ffb-4174-87a7-535e00da9f7f",
   "metadata": {},
   "source": [
    "Here, instead of just ONE series, we have TWO series, `A` and `B`. Basically, a DataFrame comprises of multiple series!\\\n",
    "\n",
    "The index (or label) for `A` and `B` are the same!"
   ]
  },
  {
   "cell_type": "markdown",
   "id": "a0d44d6a-2b0e-4b98-aa6a-f99ba32c0358",
   "metadata": {},
   "source": [
    "**Thinking in terms of columns and rows**\n",
    "\n",
    "Think of DataFrames as a table of data with columns and rows. \\\n",
    "Each column is a pandas series.\\\n",
    "Each row is the index or label.\n",
    "\n",
    "\n",
    "The syntax to make a pandas data frame is \n",
    "\n",
    "```\n",
    "pd.DataFrame( { 'column1': [col1_value1, col1_value2, ...], 'column2': [col2_value1, col2_value2, ...]} )\n",
    "```"
   ]
  },
  {
   "cell_type": "markdown",
   "id": "d50b5f5b-4f9f-4907-9dd0-431e6e27d195",
   "metadata": {},
   "source": [
    "Let us practice!"
   ]
  },
  {
   "cell_type": "markdown",
   "id": "83738a78-b862-4755-8108-812d9ea037d7",
   "metadata": {},
   "source": [
    "**Question:** You have the two lists provided below: `Grade1` and `Grade2`. Make a pandas DataFrame which looks like this:"
   ]
  },
  {
   "cell_type": "markdown",
   "id": "af18f625-efe6-49fa-81c1-5139f6e9d161",
   "metadata": {},
   "source": [
    "![](./images/Lab6_Grade1Grade2.png)"
   ]
  },
  {
   "cell_type": "code",
   "execution_count": null,
   "id": "599f484e-e77d-485f-948f-4e5e5eb1187e",
   "metadata": {},
   "outputs": [],
   "source": [
    "Grade1 = [95, 91, 89]\n",
    "Grade2 = [72, 99, 92]\n",
    "### Your code below this line\n"
   ]
  },
  {
   "cell_type": "code",
   "execution_count": null,
   "id": "9d5bc074-e6b0-4341-8198-21d8bcca32ef",
   "metadata": {},
   "outputs": [],
   "source": []
  },
  {
   "cell_type": "markdown",
   "id": "71dc0fb9-5756-4fb5-b654-ff0631ea635a",
   "metadata": {},
   "source": [
    "### File Paths"
   ]
  },
  {
   "cell_type": "markdown",
   "id": "4da8d1cb-55ae-4463-8514-8c9c904d5bdb",
   "metadata": {},
   "source": [
    "(The following tutorial has been prepared with the help of this [online tutorial](https://www.codecademy.com/resources/docs/general/file-paths). Use this as a reference for future help regarding file paths.)\n",
    "\n",
    "A file path specifies the **location of a file** in a computer’s file system structure.\n",
    "\n",
    "In general, a path is a string of characters which specifies a unique location in a directory or page hierarchy. For file systems, each level in the hierarchy is called a **directory**.\n",
    "\n",
    "Different sections of the path are separated by a path separator, such as a forward slash (/). These different sections represent the separate directories or pages in the hierarchy.\n",
    "\n",
    "Consider the example below shown below:\n",
    "\n",
    "`/home/user/python/test.py`\n",
    "\n",
    "In this example file path, the test.py file is inside the python directory. The python directory is a subdirectory of the user directory, which is a subdirectory of the home directory. \n",
    "\n",
    "```\n",
    "home\n",
    "    |- user\n",
    "        |- python\n",
    "            |- test.py\n",
    "```"
   ]
  },
  {
   "cell_type": "markdown",
   "id": "0859b30b-19cf-46ac-bd4d-1f324de57382",
   "metadata": {},
   "source": [
    "Consider this very notebeook (.ipynb file) that you are working on right now. What is the file path for this notebook? \\\n",
    "To find out, run the function `getcwd()` which is short for \"**get** **c**urrent **w**orking **d**irectory\" from package \"os\":"
   ]
  },
  {
   "cell_type": "code",
   "execution_count": null,
   "id": "67b76012-e2d3-40e0-acee-5fd9fa621625",
   "metadata": {},
   "outputs": [],
   "source": [
    "import os\n",
    "os.getcwd()"
   ]
  },
  {
   "cell_type": "markdown",
   "id": "fba59829-4a7a-499a-80a1-0b3c2fab3321",
   "metadata": {},
   "source": [
    "Here, the Week03Lab_COMM187S25.ipynb file is located in the codinglabs directory. The codinglabs directory is a subdirectory of COMM187_S25 directory, which is a subdirectory of joyvan directory, which is a subdirectory of home.\n",
    "\n",
    "```\n",
    "home\n",
    "    |- joyvan\n",
    "        |- COMM187_S25\n",
    "            |- codinglabs\n",
    "                |- Week03Lab_COMM187S25.ipynb\n",
    "```"
   ]
  },
  {
   "cell_type": "markdown",
   "id": "a8c67abe-c066-405e-a104-766fa5e410dc",
   "metadata": {},
   "source": [
    "#### Absolute vs Relative Path"
   ]
  },
  {
   "cell_type": "markdown",
   "id": "bb4ab505-2163-4996-a02f-43247ef07005",
   "metadata": {},
   "source": [
    "**Absolute file paths** specify the location of a file from the root directory in the file system structure. They are also called “full file paths” or “full paths.” \n",
    "\n",
    "The output of `getcwd()` function is the absolute file path.\n",
    "\n",
    "On this platform, the `/home/joyvan/` part is the **home directory**, which can be replaced with `~` for ease of use.\n",
    "\n",
    "This means that the following two absolute file paths are equivalent:\n",
    " - `/home/jovyan/COMM187_S25/codinglabs`\n",
    " - `~/COMM187_S25/codinglabs`"
   ]
  },
  {
   "cell_type": "markdown",
   "id": "72535b93-1da7-445d-92ad-c65bd4abbb5e",
   "metadata": {},
   "source": [
    "**Relative file paths** specify the location of a file in the same folder. In other words, a relative file path specifies a location of a file that is relative to the current directory. \n",
    "\n",
    "For example, in the current directory of this file, we have a directory called **data**. The relative file path for the file `recent-grads.csv` in this directory would be:\n",
    "\n",
    "```\n",
    "./data/recent-grads.csv\n",
    "```\n",
    "\n",
    "The equivalent absolute file path would be:\n",
    "\n",
    "```\n",
    "/home/jovyan/COMM187_S25/codinglabs/data/recent-grads.csv\n",
    "```\n",
    "OR\n",
    "```\n",
    "~/COMM187_S25/codinglabs/data/recent-grads.csv\n",
    "```"
   ]
  },
  {
   "cell_type": "markdown",
   "id": "ff241b52-73fc-4002-a379-de46b437a5cc",
   "metadata": {},
   "source": [
    "### Comma Separated Values (CSV) file"
   ]
  },
  {
   "cell_type": "markdown",
   "id": "cf2117f1-6064-4fcc-950a-e69eee14ab45",
   "metadata": {},
   "source": [
    "A **CSV** (Comma Separated Values) file is simply a table, just like a spreadsheet, where each line is a row of values separated by commas.\n",
    "\n",
    "In order to import, or load, a csv file into your Python code, you will need to use the following function:\n",
    "\n",
    "```\n",
    "pd.read_csv(path_to_file)\n",
    "```\n",
    "\n",
    "Here, `path_to_file` should be replaced with the absolute or relative file path to the csv file.\n",
    "\n",
    "Let us try to load the `recent-grads.csv` file into our code:"
   ]
  },
  {
   "cell_type": "code",
   "execution_count": null,
   "id": "2967bf5c-5ccf-4685-8784-67ac5bdb50b2",
   "metadata": {},
   "outputs": [],
   "source": [
    "### Your code below this line\n",
    "df = pd.read_csv('./data/recent-grads.csv')"
   ]
  },
  {
   "cell_type": "markdown",
   "id": "435c550b-ab44-4105-a941-aeb8eedfd23c",
   "metadata": {},
   "source": [
    "This dataset is the data behind [this article](https://fivethirtyeight.com/features/the-economic-guide-to-picking-a-college-major/). This data shows the earnings of Americans with different college majors. \n",
    "\n",
    "You can access the repository for this dataset [here](https://github.com/fivethirtyeight/data/tree/master/college-majors).\n",
    "\n",
    "Now, print the dataset below to see what it looks like."
   ]
  },
  {
   "cell_type": "code",
   "execution_count": null,
   "id": "2da66af5-07dc-4bae-aa4b-826de9042eca",
   "metadata": {},
   "outputs": [],
   "source": [
    "### Your code below this line\n"
   ]
  },
  {
   "cell_type": "markdown",
   "id": "090d9c4c-1c36-4dd0-ab6e-113d3747f097",
   "metadata": {},
   "source": [
    "Now, print the name of the columns of this DataFrame using `df.columns`."
   ]
  },
  {
   "cell_type": "code",
   "execution_count": null,
   "id": "9cfd3339-2223-4564-ad81-a6b41733e93d",
   "metadata": {},
   "outputs": [],
   "source": [
    "### Your code below this line\n",
    "df.columns"
   ]
  },
  {
   "cell_type": "markdown",
   "id": "5ccf0d65-dd19-4796-ae35-d46fed6c0758",
   "metadata": {},
   "source": [
    "For your reference, here are the descriptions of the values in each of these columns:\n",
    "\n",
    "Column Name | Description\n",
    "---|---------\n",
    "`Rank` | Rank by median earnings\n",
    "`Major_code` | Major code, FO1DP in ACS PUMS\n",
    "`Major` | Major description\n",
    "`Major_category` | Category of major from Carnevale et al\n",
    "`Total` | Total number of people with major\n",
    "`Sample_size` | Sample size (unweighted) of full-time, year-round ONLY (used for earnings)\n",
    "`Men` | Male graduates\n",
    "`Women` | Female graduates\n",
    "`ShareWomen` | Women as share of total\n",
    "`Employed` | Number employed (ESR == 1 or 2)\n",
    "`Full_time` | Employed 35 hours or more\n",
    "`Part_time` | Employed less than 35 hours\n",
    "`Full_time_year_round` | Employed at least 50 weeks (WKW == 1) and at least 35 hours (WKHP >= 35)\n",
    "`Unemployed` | Number unemployed (ESR == 3)\n",
    "`Unemployment_rate` | Unemployed / (Unemployed + Employed)\n",
    "`Income` | Median earnings of full-time, year-round workers\n",
    "`P25th` | 25th percentile of earnings\n",
    "`P75th` | 75th percentile of earnings\n",
    "`College_jobs` | Number with job requiring a college degree\n",
    "`Non_college_jobs` | Number with job not requiring a college degree\n",
    "`Low_wage_jobs` | Number in low-wage service jobs"
   ]
  },
  {
   "cell_type": "markdown",
   "id": "da17d6fa-6428-4399-b194-d1785788a942",
   "metadata": {},
   "source": [
    "Now, use the `.head()` function to just print the first 5 rows of the DataFrame."
   ]
  },
  {
   "cell_type": "code",
   "execution_count": null,
   "id": "14749ed3-cfee-4ca6-983b-cc370f74afc0",
   "metadata": {},
   "outputs": [],
   "source": [
    "df.head()"
   ]
  },
  {
   "cell_type": "markdown",
   "id": "a48837e7-53ae-4475-9ef4-44d0b2322175",
   "metadata": {},
   "source": [
    "Now, similarly, use `.tail()` to print the last 5 rows of the DataFrame."
   ]
  },
  {
   "cell_type": "code",
   "execution_count": null,
   "id": "af077327-db30-42b9-8654-dedcb7faa019",
   "metadata": {},
   "outputs": [],
   "source": [
    "df.tail()"
   ]
  },
  {
   "cell_type": "markdown",
   "id": "44305e54-ecde-44ec-89d0-56f2925cc03b",
   "metadata": {},
   "source": [
    "You will learn more about this in this week's assigned Datacamp Module, so make sure to go through them before attempting this week's coding assignment. "
   ]
  }
 ],
 "metadata": {
  "kernelspec": {
   "display_name": "Python 3 (ipykernel)",
   "language": "python",
   "name": "python3"
  },
  "language_info": {
   "codemirror_mode": {
    "name": "ipython",
    "version": 3
   },
   "file_extension": ".py",
   "mimetype": "text/x-python",
   "name": "python",
   "nbconvert_exporter": "python",
   "pygments_lexer": "ipython3",
   "version": "3.12.9"
  }
 },
 "nbformat": 4,
 "nbformat_minor": 5
}
