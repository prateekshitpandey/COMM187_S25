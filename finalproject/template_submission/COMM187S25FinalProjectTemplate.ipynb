{
 "cells": [
  {
   "cell_type": "markdown",
   "metadata": {},
   "source": [
    "# GROUP ##: NAME OF GROUP\n",
    "## COMM 187 S25 Final Project\n",
    "\n",
    "**Names:** Insert FULL NAMES of group members, in no particular order\\\n",
    "**Dataset:** Insert name of dataset here\n",
    "\n",
    "NOTE: THIS IS A TEMPLATE FOR THE FINAL PROJECT. REPLACE PLACEHOLDER TEXT CONTENT WITH YOUR OWN TEXT AND CODE. DELETE THIS LINE."
   ]
  },
  {
   "cell_type": "markdown",
   "metadata": {},
   "source": [
    "### Introduction\n",
    "\n",
    "**The text below contains instructions for the final project. Replace the text with your introduction for the final submission. If tempalte text is spotted in the final submission, points will be deducted.**\n",
    "\n",
    "Clearly introduce the dataset, your core research question, and all the hypotheses being analyzed in this data report. (200 words)\n",
    "\n",
    "Suggested steps to find the core research question:\n",
    " - Each member of the group must propose a hypothesis that they would like to explore. \n",
    " - Put all the hypotheses together, and construct one research question that connects all these hypotheses.\n",
    " - It is highly recommended that you discuss within your group what your individual hypotheses should be in order to make your research question as coherent as possible. Discuss with the instructors as needed.\n",
    " - For example, if a group of 4 are working on the [redlining dataset](https://github.com/fivethirtyeight/data), and the following hypotheses are chosen by the group members:\n",
    "   - Hypothesis by member 1: The percentage of White population in HOLC Grade A areas are not associated with the percentage of white population in the surrounding areas.\n",
    "   - Hypothesis by member 2: The percentage of Hispanic population in HOLC Grade C areas are associated with the percentage of White population in that area.\n",
    "   - Hypothesis by member 3: The percentage of White population in HOLC Grade D areas are negatively associated with the percentage of Black population in that area.\n",
    "   - Hypothesis by member 4: The percentage of Asian population in HOLC Grade B areas are always lesser than the percentage of White population in the surrounding area.\n",
    " - Based on these hypotheses, one possible way to frame your research question could be:\\\n",
    "   ***What are the patterns of proportions of racial and ethnic group populations across HOLC Grades?***"
   ]
  },
  {
   "cell_type": "markdown",
   "metadata": {},
   "source": [
    "### Data Description\n",
    "\n",
    "**The text below contains instructions for the final project. Replace the text with your own data description for the final submission. If tempalte text is spotted in the final submission, points will be deducted.**\n",
    "\n",
    "For each variable which is being analyzed as part of this report, prepare:\n",
    " - Summary statistics (mean, median, standard deviation), either in text or as a table.\n",
    " - A visualization (e.g., bar chart, histogram)."
   ]
  },
  {
   "cell_type": "code",
   "execution_count": null,
   "metadata": {},
   "outputs": [],
   "source": [
    "### Load your dataset\n",
    "...\n",
    "### Your descriptive statistical analysis\n",
    "...\n",
    "### Your descriptive visualization\n",
    "..."
   ]
  },
  {
   "cell_type": "markdown",
   "metadata": {},
   "source": [
    "### Hypothesis #1\n",
    "#### FULL NAME OF GROUP MEMBER\n",
    "\n",
    "**The text below contains instructions for the final project. Replace the text with your own hypothesis test and analysis for the final submission. If tempalte text is spotted in the final submission, points will be deducted.**\n",
    "\n",
    "Clearly state your hypothesis, which should claim a relationship between two variables in your dataset. Use appropriate statistical analysis (e.g., t-tests, ANOVA, chi-square tests, correlations, and linear regression) as needed to analyze the relationship between the variables in your hypothesis. Present visualization of the tested relationship."
   ]
  },
  {
   "cell_type": "code",
   "execution_count": null,
   "metadata": {},
   "outputs": [],
   "source": [
    "### Your analysis and visualization code below this line\n",
    "..."
   ]
  },
  {
   "cell_type": "markdown",
   "metadata": {},
   "source": [
    "Explain the result, the visualization, and your interpretations of the result of your analysis. (150 words)"
   ]
  },
  {
   "cell_type": "markdown",
   "metadata": {},
   "source": [
    "### Hypothesis #2\n",
    "#### NAME OF GROUP MEMBER\n",
    "\n",
    "**The text below contains instructions for the final project. Replace the text with your own hypothesis test and analysis for the final submission. If tempalte text is spotted in the final submission, points will be deducted.**\n",
    "\n",
    "Clearly state your hypothesis, which should claim a relationship between two variables in your dataset. Use appropriate statistical analysis (e.g., t-tests, ANOVA, chi-square tests, correlations, and linear regression) as needed to analyze the relationship between the variables in your hypothesis. Present visualization of the tested relationship."
   ]
  },
  {
   "cell_type": "code",
   "execution_count": null,
   "metadata": {},
   "outputs": [],
   "source": [
    "### Your analysis and visualization code below this line\n",
    "..."
   ]
  },
  {
   "cell_type": "markdown",
   "metadata": {},
   "source": [
    "Explain the result, the visualization, and your interpretations of the result of your analysis. (150 words)"
   ]
  },
  {
   "cell_type": "markdown",
   "metadata": {},
   "source": [
    "### Hypothesis #3\n",
    "#### NAME OF GROUP MEMBER\n",
    "\n",
    "**The text below contains instructions for the final project. Replace the text with your own hypothesis test and analysis for the final submission. If tempalte text is spotted in the final submission, points will be deducted.**\n",
    "\n",
    "Clearly state your hypothesis, which should claim a relationship between two variables in your dataset. Use appropriate statistical analysis (e.g., t-tests, ANOVA, chi-square tests, correlations, and linear regression) as needed to analyze the relationship between the variables in your hypothesis. Present visualization of the tested relationship."
   ]
  },
  {
   "cell_type": "code",
   "execution_count": null,
   "metadata": {},
   "outputs": [],
   "source": [
    "### Your analysis and visualization code below this line\n",
    "..."
   ]
  },
  {
   "cell_type": "markdown",
   "metadata": {},
   "source": [
    "Explain the result, the visualization, and your interpretations of the result of your analysis. (150 words)"
   ]
  },
  {
   "cell_type": "markdown",
   "metadata": {},
   "source": [
    "### Hypothesis #4\n",
    "#### NAME OF GROUP MEMBER\n",
    "\n",
    "**ONLY FOR GROUPS OF 4; GROUPS OF 3 DO NOT NEED A 4TH HYPOTHESIS.**\n",
    "\n",
    "**The text below contains instructions for the final project. Replace the text with your own hypothesis test and analysis for the final submission. If tempalte text is spotted in the final submission, points will be deducted.**\n",
    "\n",
    "Clearly state your hypothesis, which should claim a relationship between two variables in your dataset. Use appropriate statistical analysis (e.g., t-tests, ANOVA, chi-square tests, correlations, and linear regression) as needed to analyze the relationship between the variables in your hypothesis. Present visualization of the tested relationship."
   ]
  },
  {
   "cell_type": "code",
   "execution_count": null,
   "metadata": {},
   "outputs": [],
   "source": [
    "### Your analysis and visualization code below this line\n",
    "..."
   ]
  },
  {
   "cell_type": "markdown",
   "metadata": {},
   "source": [
    "Explain the result, the visualization, and your interpretations of the result of your analysis. (150 words)"
   ]
  },
  {
   "cell_type": "markdown",
   "metadata": {},
   "source": [
    "### Conclusion\n",
    "\n",
    "**The text below contains instructions for the final project. Replace the text with your own conclusion for the final submission. If tempalte text is spotted in the final submission, points will be deducted.**\n",
    "\n",
    "Clearly restate the core research question, the constituent hypotheses, and summarize all the results. Present a summary of interpretations of these results, and how they connect with each other. Briefly explain what the main takeaway from the entire report should be. (250 words)"
   ]
  }
 ],
 "metadata": {
  "kernelspec": {
   "display_name": "Python 3 (ipykernel)",
   "language": "python",
   "name": "python3"
  },
  "language_info": {
   "codemirror_mode": {
    "name": "ipython",
    "version": 3
   },
   "file_extension": ".py",
   "mimetype": "text/x-python",
   "name": "python",
   "nbconvert_exporter": "python",
   "pygments_lexer": "ipython3",
   "version": "3.12.9"
  }
 },
 "nbformat": 4,
 "nbformat_minor": 4
}
