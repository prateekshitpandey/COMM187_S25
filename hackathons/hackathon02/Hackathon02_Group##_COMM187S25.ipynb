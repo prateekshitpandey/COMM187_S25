{
 "cells": [
  {
   "cell_type": "markdown",
   "id": "01148ded-7dad-46ca-b9a2-479aa01abe21",
   "metadata": {},
   "source": [
    "# COMM 187: Data Science in Communication Research, Spring 2025\n",
    "## Hackathon #2"
   ]
  },
  {
   "cell_type": "markdown",
   "id": "030316bd-5d83-4ad7-9029-2eb06760d230",
   "metadata": {},
   "source": [
    "### GROUP [number]: [group name]\n",
    "\n",
    "**Members**:\n",
    "- Name 1\n",
    "- Name 2\n",
    "- Name 3\n",
    "- Name 4"
   ]
  },
  {
   "cell_type": "markdown",
   "id": "bdf09e5f-e115-4097-b526-5c66467f67fb",
   "metadata": {},
   "source": [
    "### Loading data"
   ]
  },
  {
   "cell_type": "code",
   "execution_count": null,
   "id": "a1672edb-0b04-4c0d-afe4-38687a00dd0e",
   "metadata": {},
   "outputs": [],
   "source": []
  },
  {
   "cell_type": "markdown",
   "id": "d4dfcf49-ee8f-462c-82e2-1e7ae2205d04",
   "metadata": {},
   "source": [
    "### Hypotheses"
   ]
  },
  {
   "cell_type": "markdown",
   "id": "0fd11e11-2c4b-4813-afb5-f4480ce9485b",
   "metadata": {},
   "source": [
    "Hypothesis 1 (Name of group member):\n",
    "\n",
    "Hypothesis 2 (Name of group member): \n",
    "\n",
    "Hypothesis 3 (Name of group member):\n",
    "\n",
    "Hypothesis 4 (Name of group member): "
   ]
  },
  {
   "cell_type": "markdown",
   "id": "1605fa01-ff52-4deb-b1c5-5d8fa23472ea",
   "metadata": {},
   "source": [
    "### Research Question"
   ]
  },
  {
   "cell_type": "markdown",
   "id": "2d0d1dd6-3662-432e-85e0-06d1426150f3",
   "metadata": {},
   "source": []
  },
  {
   "cell_type": "markdown",
   "id": "1d65a41a-4af2-4a3a-8459-e4290fe28dac",
   "metadata": {},
   "source": [
    "### Visualizations for each variable"
   ]
  },
  {
   "cell_type": "code",
   "execution_count": null,
   "id": "e33fb622-331a-48b0-bcfe-ad2f50e672e0",
   "metadata": {},
   "outputs": [],
   "source": []
  }
 ],
 "metadata": {
  "kernelspec": {
   "display_name": "Python 3 (ipykernel)",
   "language": "python",
   "name": "python3"
  },
  "language_info": {
   "codemirror_mode": {
    "name": "ipython",
    "version": 3
   },
   "file_extension": ".py",
   "mimetype": "text/x-python",
   "name": "python",
   "nbconvert_exporter": "python",
   "pygments_lexer": "ipython3",
   "version": "3.12.9"
  }
 },
 "nbformat": 4,
 "nbformat_minor": 5
}
