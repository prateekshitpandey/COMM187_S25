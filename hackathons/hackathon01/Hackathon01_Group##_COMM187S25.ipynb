{
 "cells": [
  {
   "cell_type": "markdown",
   "id": "01148ded-7dad-46ca-b9a2-479aa01abe21",
   "metadata": {},
   "source": [
    "# COMM 187: Data Science in Communication Research, Spring 2025\n",
    "## Hackathon #1"
   ]
  },
  {
   "cell_type": "markdown",
   "id": "030316bd-5d83-4ad7-9029-2eb06760d230",
   "metadata": {},
   "source": [
    "### GROUP [number]: [group name]\n",
    "\n",
    "**Members**:\n",
    "- Name 1\n",
    "- Name 2\n",
    "- Name 3\n",
    "- Name 4"
   ]
  },
  {
   "cell_type": "markdown",
   "id": "bdf09e5f-e115-4097-b526-5c66467f67fb",
   "metadata": {},
   "source": [
    "### Loading data"
   ]
  },
  {
   "cell_type": "code",
   "execution_count": null,
   "id": "a1672edb-0b04-4c0d-afe4-38687a00dd0e",
   "metadata": {},
   "outputs": [],
   "source": []
  },
  {
   "cell_type": "markdown",
   "id": "1d65a41a-4af2-4a3a-8459-e4290fe28dac",
   "metadata": {},
   "source": [
    "### Descriptive Statistics"
   ]
  },
  {
   "cell_type": "code",
   "execution_count": null,
   "id": "e33fb622-331a-48b0-bcfe-ad2f50e672e0",
   "metadata": {},
   "outputs": [],
   "source": []
  },
  {
   "cell_type": "markdown",
   "id": "5d72de4a-8d91-4203-b459-c582eac56059",
   "metadata": {},
   "source": [
    "### ANOVA Analysis"
   ]
  },
  {
   "cell_type": "code",
   "execution_count": null,
   "id": "0291b58b-41f3-40d7-b410-3f8475ddfe97",
   "metadata": {},
   "outputs": [],
   "source": []
  },
  {
   "cell_type": "markdown",
   "id": "e2f0c564-fb50-44d1-9655-3d1d58da3500",
   "metadata": {},
   "source": [
    "### T-test Analysis"
   ]
  },
  {
   "cell_type": "code",
   "execution_count": null,
   "id": "6c4dcbc6-a411-457c-af49-8ab0313e3419",
   "metadata": {},
   "outputs": [],
   "source": []
  }
 ],
 "metadata": {
  "kernelspec": {
   "display_name": "Python 3 (ipykernel)",
   "language": "python",
   "name": "python3"
  },
  "language_info": {
   "codemirror_mode": {
    "name": "ipython",
    "version": 3
   },
   "file_extension": ".py",
   "mimetype": "text/x-python",
   "name": "python",
   "nbconvert_exporter": "python",
   "pygments_lexer": "ipython3",
   "version": "3.12.9"
  }
 },
 "nbformat": 4,
 "nbformat_minor": 5
}
